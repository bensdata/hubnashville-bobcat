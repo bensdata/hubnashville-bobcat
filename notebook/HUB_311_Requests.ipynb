{
 "cells": [
  {
   "cell_type": "code",
   "execution_count": 1,
   "metadata": {},
   "outputs": [],
   "source": [
    "from shapely.geometry import Point\n",
    "import pandas as pd\n",
    "import geopandas as gpd\n",
    "import matplotlib.pyplot as plt\n",
    "import folium\n",
    "from folium.plugins import MarkerCluster\n",
    "from folium.plugins import FastMarkerCluster\n"
   ]
  },
  {
   "cell_type": "code",
   "execution_count": 2,
   "metadata": {},
   "outputs": [
    {
     "name": "stderr",
     "output_type": "stream",
     "text": [
      "/opt/anaconda3/envs/geo/lib/python3.7/site-packages/IPython/core/interactiveshell.py:3063: DtypeWarning: Columns (17) have mixed types.Specify dtype option on import or set low_memory=False.\n",
      "  interactivity=interactivity, compiler=compiler, result=result)\n"
     ]
    },
    {
     "data": {
      "text/html": [
       "<div>\n",
       "<style scoped>\n",
       "    .dataframe tbody tr th:only-of-type {\n",
       "        vertical-align: middle;\n",
       "    }\n",
       "\n",
       "    .dataframe tbody tr th {\n",
       "        vertical-align: top;\n",
       "    }\n",
       "\n",
       "    .dataframe thead th {\n",
       "        text-align: right;\n",
       "    }\n",
       "</style>\n",
       "<table border=\"1\" class=\"dataframe\">\n",
       "  <thead>\n",
       "    <tr style=\"text-align: right;\">\n",
       "      <th></th>\n",
       "      <th>Request #</th>\n",
       "      <th>Status</th>\n",
       "      <th>Request Type</th>\n",
       "      <th>Subrequest Type</th>\n",
       "      <th>Additional Subrequest Type</th>\n",
       "      <th>Date / Time Opened</th>\n",
       "      <th>Date / Time Closed</th>\n",
       "      <th>Request Origin</th>\n",
       "      <th>System of Origin ID</th>\n",
       "      <th>Contact Type</th>\n",
       "      <th>...</th>\n",
       "      <th>State Issue</th>\n",
       "      <th>Parent Request</th>\n",
       "      <th>Closed When Created</th>\n",
       "      <th>Address</th>\n",
       "      <th>City</th>\n",
       "      <th>Council District</th>\n",
       "      <th>ZIP</th>\n",
       "      <th>Latitude</th>\n",
       "      <th>Longitude</th>\n",
       "      <th>Mapped Location</th>\n",
       "    </tr>\n",
       "  </thead>\n",
       "  <tbody>\n",
       "    <tr>\n",
       "      <th>0</th>\n",
       "      <td>353977</td>\n",
       "      <td>Closed</td>\n",
       "      <td>COVID-19</td>\n",
       "      <td>COVID-19 - Submit Input about The Plan to Reop...</td>\n",
       "      <td>COVID-19 - Submit Input about The Plan to Reop...</td>\n",
       "      <td>04/28/2020 02:33:22 PM</td>\n",
       "      <td>04/28/2020 02:33:22 PM</td>\n",
       "      <td>hubNashville Community</td>\n",
       "      <td>NaN</td>\n",
       "      <td>NaN</td>\n",
       "      <td>...</td>\n",
       "      <td>False</td>\n",
       "      <td>NaN</td>\n",
       "      <td>True</td>\n",
       "      <td>NaN</td>\n",
       "      <td>NaN</td>\n",
       "      <td>NaN</td>\n",
       "      <td>NaN</td>\n",
       "      <td>NaN</td>\n",
       "      <td>NaN</td>\n",
       "      <td>NaN</td>\n",
       "    </tr>\n",
       "    <tr>\n",
       "      <th>1</th>\n",
       "      <td>354524</td>\n",
       "      <td>Closed</td>\n",
       "      <td>Quick Requests</td>\n",
       "      <td>Quick Requests</td>\n",
       "      <td>NaN</td>\n",
       "      <td>04/28/2020 09:46:53 PM</td>\n",
       "      <td>04/28/2020 09:46:53 PM</td>\n",
       "      <td>Phone</td>\n",
       "      <td>NaN</td>\n",
       "      <td>NaN</td>\n",
       "      <td>...</td>\n",
       "      <td>False</td>\n",
       "      <td>NaN</td>\n",
       "      <td>True</td>\n",
       "      <td>NaN</td>\n",
       "      <td>NaN</td>\n",
       "      <td>NaN</td>\n",
       "      <td>NaN</td>\n",
       "      <td>NaN</td>\n",
       "      <td>NaN</td>\n",
       "      <td>NaN</td>\n",
       "    </tr>\n",
       "    <tr>\n",
       "      <th>2</th>\n",
       "      <td>354188</td>\n",
       "      <td>Closed</td>\n",
       "      <td>Quick Requests</td>\n",
       "      <td>Quick Requests</td>\n",
       "      <td>NaN</td>\n",
       "      <td>04/28/2020 05:09:02 PM</td>\n",
       "      <td>04/28/2020 05:09:02 PM</td>\n",
       "      <td>Phone</td>\n",
       "      <td>NaN</td>\n",
       "      <td>NaN</td>\n",
       "      <td>...</td>\n",
       "      <td>False</td>\n",
       "      <td>NaN</td>\n",
       "      <td>True</td>\n",
       "      <td>NaN</td>\n",
       "      <td>NaN</td>\n",
       "      <td>NaN</td>\n",
       "      <td>NaN</td>\n",
       "      <td>NaN</td>\n",
       "      <td>NaN</td>\n",
       "      <td>NaN</td>\n",
       "    </tr>\n",
       "    <tr>\n",
       "      <th>3</th>\n",
       "      <td>354445</td>\n",
       "      <td>Closed</td>\n",
       "      <td>Quick Requests</td>\n",
       "      <td>Quick Requests</td>\n",
       "      <td>NaN</td>\n",
       "      <td>04/28/2020 08:50:36 PM</td>\n",
       "      <td>04/28/2020 08:50:36 PM</td>\n",
       "      <td>Phone</td>\n",
       "      <td>NaN</td>\n",
       "      <td>NaN</td>\n",
       "      <td>...</td>\n",
       "      <td>False</td>\n",
       "      <td>NaN</td>\n",
       "      <td>True</td>\n",
       "      <td>NaN</td>\n",
       "      <td>NaN</td>\n",
       "      <td>NaN</td>\n",
       "      <td>NaN</td>\n",
       "      <td>NaN</td>\n",
       "      <td>NaN</td>\n",
       "      <td>NaN</td>\n",
       "    </tr>\n",
       "    <tr>\n",
       "      <th>4</th>\n",
       "      <td>334893</td>\n",
       "      <td>Closed</td>\n",
       "      <td>Public Safety</td>\n",
       "      <td>Control Number Request for Towing</td>\n",
       "      <td>NaN</td>\n",
       "      <td>03/29/2020 01:08:55 AM</td>\n",
       "      <td>03/29/2020 01:08:55 AM</td>\n",
       "      <td>hubNashville Community</td>\n",
       "      <td>NaN</td>\n",
       "      <td>NaN</td>\n",
       "      <td>...</td>\n",
       "      <td>False</td>\n",
       "      <td>NaN</td>\n",
       "      <td>True</td>\n",
       "      <td>Long Hollow Pike &amp; Northcreek Blvd</td>\n",
       "      <td>GOODLETTSVILLE</td>\n",
       "      <td>10.0</td>\n",
       "      <td>37072</td>\n",
       "      <td>36.32619</td>\n",
       "      <td>-86.700618</td>\n",
       "      <td>(36.32619, -86.70061799999999)</td>\n",
       "    </tr>\n",
       "  </tbody>\n",
       "</table>\n",
       "<p>5 rows × 21 columns</p>\n",
       "</div>"
      ],
      "text/plain": [
       "   Request #  Status    Request Type  \\\n",
       "0     353977  Closed        COVID-19   \n",
       "1     354524  Closed  Quick Requests   \n",
       "2     354188  Closed  Quick Requests   \n",
       "3     354445  Closed  Quick Requests   \n",
       "4     334893  Closed   Public Safety   \n",
       "\n",
       "                                     Subrequest Type  \\\n",
       "0  COVID-19 - Submit Input about The Plan to Reop...   \n",
       "1                                     Quick Requests   \n",
       "2                                     Quick Requests   \n",
       "3                                     Quick Requests   \n",
       "4                  Control Number Request for Towing   \n",
       "\n",
       "                          Additional Subrequest Type      Date / Time Opened  \\\n",
       "0  COVID-19 - Submit Input about The Plan to Reop...  04/28/2020 02:33:22 PM   \n",
       "1                                                NaN  04/28/2020 09:46:53 PM   \n",
       "2                                                NaN  04/28/2020 05:09:02 PM   \n",
       "3                                                NaN  04/28/2020 08:50:36 PM   \n",
       "4                                                NaN  03/29/2020 01:08:55 AM   \n",
       "\n",
       "       Date / Time Closed          Request Origin System of Origin ID  \\\n",
       "0  04/28/2020 02:33:22 PM  hubNashville Community                 NaN   \n",
       "1  04/28/2020 09:46:53 PM                   Phone                 NaN   \n",
       "2  04/28/2020 05:09:02 PM                   Phone                 NaN   \n",
       "3  04/28/2020 08:50:36 PM                   Phone                 NaN   \n",
       "4  03/29/2020 01:08:55 AM  hubNashville Community                 NaN   \n",
       "\n",
       "  Contact Type  ...  State Issue  Parent Request  Closed When Created  \\\n",
       "0          NaN  ...        False             NaN                 True   \n",
       "1          NaN  ...        False             NaN                 True   \n",
       "2          NaN  ...        False             NaN                 True   \n",
       "3          NaN  ...        False             NaN                 True   \n",
       "4          NaN  ...        False             NaN                 True   \n",
       "\n",
       "                              Address            City Council District    ZIP  \\\n",
       "0                                 NaN             NaN              NaN    NaN   \n",
       "1                                 NaN             NaN              NaN    NaN   \n",
       "2                                 NaN             NaN              NaN    NaN   \n",
       "3                                 NaN             NaN              NaN    NaN   \n",
       "4  Long Hollow Pike & Northcreek Blvd  GOODLETTSVILLE             10.0  37072   \n",
       "\n",
       "   Latitude  Longitude                 Mapped Location  \n",
       "0       NaN        NaN                             NaN  \n",
       "1       NaN        NaN                             NaN  \n",
       "2       NaN        NaN                             NaN  \n",
       "3       NaN        NaN                             NaN  \n",
       "4  36.32619 -86.700618  (36.32619, -86.70061799999999)  \n",
       "\n",
       "[5 rows x 21 columns]"
      ]
     },
     "execution_count": 2,
     "metadata": {},
     "output_type": "execute_result"
    }
   ],
   "source": [
    "hub_data = pd.read_csv('../data/hubNashville__311__Service_Requests.csv')\n",
    "##print(requests_311)\n",
    "hub_data.head()\n"
   ]
  },
  {
   "cell_type": "code",
   "execution_count": 3,
   "metadata": {},
   "outputs": [
    {
     "data": {
      "text/html": [
       "<div>\n",
       "<style scoped>\n",
       "    .dataframe tbody tr th:only-of-type {\n",
       "        vertical-align: middle;\n",
       "    }\n",
       "\n",
       "    .dataframe tbody tr th {\n",
       "        vertical-align: top;\n",
       "    }\n",
       "\n",
       "    .dataframe thead th {\n",
       "        text-align: right;\n",
       "    }\n",
       "</style>\n",
       "<table border=\"1\" class=\"dataframe\">\n",
       "  <thead>\n",
       "    <tr style=\"text-align: right;\">\n",
       "      <th></th>\n",
       "      <th>Request #</th>\n",
       "      <th>Status</th>\n",
       "      <th>Request Type</th>\n",
       "      <th>Subrequest Type</th>\n",
       "      <th>Additional Subrequest Type</th>\n",
       "      <th>Date / Time Opened</th>\n",
       "      <th>Date / Time Closed</th>\n",
       "      <th>Request Origin</th>\n",
       "      <th>System of Origin ID</th>\n",
       "      <th>Contact Type</th>\n",
       "      <th>...</th>\n",
       "      <th>State Issue</th>\n",
       "      <th>Parent Request</th>\n",
       "      <th>Closed When Created</th>\n",
       "      <th>Address</th>\n",
       "      <th>City</th>\n",
       "      <th>Council District</th>\n",
       "      <th>ZIP</th>\n",
       "      <th>Latitude</th>\n",
       "      <th>Longitude</th>\n",
       "      <th>Mapped Location</th>\n",
       "    </tr>\n",
       "  </thead>\n",
       "  <tbody>\n",
       "    <tr>\n",
       "      <th>348666</th>\n",
       "      <td>2699</td>\n",
       "      <td>Closed</td>\n",
       "      <td>Streets, Roads &amp; Sidewalks</td>\n",
       "      <td>Potholes</td>\n",
       "      <td>Roadway</td>\n",
       "      <td>07/26/2017 02:54:00 PM</td>\n",
       "      <td>08/01/2017 08:12:00 AM</td>\n",
       "      <td>Phone</td>\n",
       "      <td>NaN</td>\n",
       "      <td>NaN</td>\n",
       "      <td>...</td>\n",
       "      <td>False</td>\n",
       "      <td>NaN</td>\n",
       "      <td>True</td>\n",
       "      <td>BROOK HOLLOW RD &amp; HARDING PIKE</td>\n",
       "      <td>NASHVILLE</td>\n",
       "      <td>23.0</td>\n",
       "      <td>37205</td>\n",
       "      <td>36.09441</td>\n",
       "      <td>-86.88171</td>\n",
       "      <td>(36.09441, -86.88171)</td>\n",
       "    </tr>\n",
       "    <tr>\n",
       "      <th>348667</th>\n",
       "      <td>2214</td>\n",
       "      <td>Closed</td>\n",
       "      <td>Trash, Recycling &amp; Litter</td>\n",
       "      <td>Cart Service</td>\n",
       "      <td>Trash - Report a Damaged Cart</td>\n",
       "      <td>07/24/2017 04:58:00 PM</td>\n",
       "      <td>08/09/2017 04:06:00 AM</td>\n",
       "      <td>Phone</td>\n",
       "      <td>NaN</td>\n",
       "      <td>NaN</td>\n",
       "      <td>...</td>\n",
       "      <td>False</td>\n",
       "      <td>NaN</td>\n",
       "      <td>True</td>\n",
       "      <td>518 Benzing Rd</td>\n",
       "      <td>ANTIOCH</td>\n",
       "      <td>31.0</td>\n",
       "      <td>37013</td>\n",
       "      <td>36.04626</td>\n",
       "      <td>-86.69590</td>\n",
       "      <td>(36.04626, -86.6959)</td>\n",
       "    </tr>\n",
       "    <tr>\n",
       "      <th>348668</th>\n",
       "      <td>163</td>\n",
       "      <td>Closed</td>\n",
       "      <td>Trash, Recycling &amp; Litter</td>\n",
       "      <td>Missed Pickup - Trash Cart Service</td>\n",
       "      <td>Trash - Curbside/Alley Missed Pickup</td>\n",
       "      <td>07/17/2017 07:12:00 AM</td>\n",
       "      <td>07/21/2017 11:58:00 AM</td>\n",
       "      <td>Phone</td>\n",
       "      <td>NaN</td>\n",
       "      <td>NaN</td>\n",
       "      <td>...</td>\n",
       "      <td>False</td>\n",
       "      <td>NaN</td>\n",
       "      <td>True</td>\n",
       "      <td>3117 PENN MEADE WAY</td>\n",
       "      <td>NASHVILLE</td>\n",
       "      <td>15.0</td>\n",
       "      <td>37214</td>\n",
       "      <td>36.24230</td>\n",
       "      <td>-86.70428</td>\n",
       "      <td>(36.2423, -86.70428)</td>\n",
       "    </tr>\n",
       "    <tr>\n",
       "      <th>348669</th>\n",
       "      <td>3202</td>\n",
       "      <td>Closed</td>\n",
       "      <td>Streets, Roads &amp; Sidewalks</td>\n",
       "      <td>Overgrowth on right of way</td>\n",
       "      <td>Roadway</td>\n",
       "      <td>07/28/2017 10:07:00 AM</td>\n",
       "      <td>08/15/2017 04:02:00 AM</td>\n",
       "      <td>Phone</td>\n",
       "      <td>NaN</td>\n",
       "      <td>NaN</td>\n",
       "      <td>...</td>\n",
       "      <td>False</td>\n",
       "      <td>NaN</td>\n",
       "      <td>True</td>\n",
       "      <td>Cunniff Pkwy &amp; Fonnic Dr</td>\n",
       "      <td>GOODLETTSVILLE</td>\n",
       "      <td>3.0</td>\n",
       "      <td>37072</td>\n",
       "      <td>36.28374</td>\n",
       "      <td>-86.74212</td>\n",
       "      <td>(36.28374, -86.74212)</td>\n",
       "    </tr>\n",
       "    <tr>\n",
       "      <th>348670</th>\n",
       "      <td>1237</td>\n",
       "      <td>Closed</td>\n",
       "      <td>Streets, Roads &amp; Sidewalks</td>\n",
       "      <td>Overgrowth on right of way</td>\n",
       "      <td>Roadway</td>\n",
       "      <td>07/20/2017 07:44:00 AM</td>\n",
       "      <td>07/28/2017 04:22:00 PM</td>\n",
       "      <td>Phone</td>\n",
       "      <td>NaN</td>\n",
       "      <td>NaN</td>\n",
       "      <td>...</td>\n",
       "      <td>False</td>\n",
       "      <td>NaN</td>\n",
       "      <td>True</td>\n",
       "      <td>SHARPE AVE  &amp; GRANADA AVE</td>\n",
       "      <td>NASHVILLE</td>\n",
       "      <td>5.0</td>\n",
       "      <td>37206</td>\n",
       "      <td>36.18901</td>\n",
       "      <td>-86.75364</td>\n",
       "      <td>(36.18901, -86.75364)</td>\n",
       "    </tr>\n",
       "  </tbody>\n",
       "</table>\n",
       "<p>5 rows × 21 columns</p>\n",
       "</div>"
      ],
      "text/plain": [
       "        Request #  Status                Request Type  \\\n",
       "348666       2699  Closed  Streets, Roads & Sidewalks   \n",
       "348667       2214  Closed   Trash, Recycling & Litter   \n",
       "348668        163  Closed   Trash, Recycling & Litter   \n",
       "348669       3202  Closed  Streets, Roads & Sidewalks   \n",
       "348670       1237  Closed  Streets, Roads & Sidewalks   \n",
       "\n",
       "                           Subrequest Type  \\\n",
       "348666                            Potholes   \n",
       "348667                        Cart Service   \n",
       "348668  Missed Pickup - Trash Cart Service   \n",
       "348669          Overgrowth on right of way   \n",
       "348670          Overgrowth on right of way   \n",
       "\n",
       "                  Additional Subrequest Type      Date / Time Opened  \\\n",
       "348666                               Roadway  07/26/2017 02:54:00 PM   \n",
       "348667         Trash - Report a Damaged Cart  07/24/2017 04:58:00 PM   \n",
       "348668  Trash - Curbside/Alley Missed Pickup  07/17/2017 07:12:00 AM   \n",
       "348669                               Roadway  07/28/2017 10:07:00 AM   \n",
       "348670                               Roadway  07/20/2017 07:44:00 AM   \n",
       "\n",
       "            Date / Time Closed Request Origin System of Origin ID  \\\n",
       "348666  08/01/2017 08:12:00 AM          Phone                 NaN   \n",
       "348667  08/09/2017 04:06:00 AM          Phone                 NaN   \n",
       "348668  07/21/2017 11:58:00 AM          Phone                 NaN   \n",
       "348669  08/15/2017 04:02:00 AM          Phone                 NaN   \n",
       "348670  07/28/2017 04:22:00 PM          Phone                 NaN   \n",
       "\n",
       "       Contact Type  ...  State Issue  Parent Request  Closed When Created  \\\n",
       "348666          NaN  ...        False             NaN                 True   \n",
       "348667          NaN  ...        False             NaN                 True   \n",
       "348668          NaN  ...        False             NaN                 True   \n",
       "348669          NaN  ...        False             NaN                 True   \n",
       "348670          NaN  ...        False             NaN                 True   \n",
       "\n",
       "                               Address            City Council District  \\\n",
       "348666  BROOK HOLLOW RD & HARDING PIKE       NASHVILLE             23.0   \n",
       "348667                  518 Benzing Rd         ANTIOCH             31.0   \n",
       "348668             3117 PENN MEADE WAY       NASHVILLE             15.0   \n",
       "348669        Cunniff Pkwy & Fonnic Dr  GOODLETTSVILLE              3.0   \n",
       "348670       SHARPE AVE  & GRANADA AVE       NASHVILLE              5.0   \n",
       "\n",
       "          ZIP  Latitude  Longitude        Mapped Location  \n",
       "348666  37205  36.09441  -86.88171  (36.09441, -86.88171)  \n",
       "348667  37013  36.04626  -86.69590   (36.04626, -86.6959)  \n",
       "348668  37214  36.24230  -86.70428   (36.2423, -86.70428)  \n",
       "348669  37072  36.28374  -86.74212  (36.28374, -86.74212)  \n",
       "348670  37206  36.18901  -86.75364  (36.18901, -86.75364)  \n",
       "\n",
       "[5 rows x 21 columns]"
      ]
     },
     "execution_count": 3,
     "metadata": {},
     "output_type": "execute_result"
    }
   ],
   "source": [
    "hub_data.tail()"
   ]
  },
  {
   "cell_type": "code",
   "execution_count": 4,
   "metadata": {},
   "outputs": [
    {
     "data": {
      "text/plain": [
       "(348671, 21)"
      ]
     },
     "execution_count": 4,
     "metadata": {},
     "output_type": "execute_result"
    }
   ],
   "source": [
    "hub_data.shape"
   ]
  },
  {
   "cell_type": "code",
   "execution_count": 5,
   "metadata": {},
   "outputs": [
    {
     "data": {
      "text/plain": [
       "Index(['Request #', 'Status', 'Request Type', 'Subrequest Type',\n",
       "       'Additional Subrequest Type', 'Date / Time Opened',\n",
       "       'Date / Time Closed', 'Request Origin', 'System of Origin ID',\n",
       "       'Contact Type', 'Preferred Language', 'State Issue', 'Parent Request',\n",
       "       'Closed When Created', 'Address', 'City', 'Council District', 'ZIP',\n",
       "       'Latitude', 'Longitude', 'Mapped Location'],\n",
       "      dtype='object')"
      ]
     },
     "execution_count": 5,
     "metadata": {},
     "output_type": "execute_result"
    }
   ],
   "source": [
    "hub_data.columns\n"
   ]
  },
  {
   "cell_type": "code",
   "execution_count": 6,
   "metadata": {},
   "outputs": [
    {
     "data": {
      "text/plain": [
       "Closed         338421\n",
       "In Progress      6510\n",
       "New              2509\n",
       "Assigned          894\n",
       "Transferred       315\n",
       "On Hold            17\n",
       "Denied              2\n",
       "Completed           1\n",
       "Escalated           1\n",
       "In Process          1\n",
       "Name: Status, dtype: int64"
      ]
     },
     "execution_count": 6,
     "metadata": {},
     "output_type": "execute_result"
    }
   ],
   "source": [
    "hub_data.Status.value_counts()"
   ]
  },
  {
   "cell_type": "code",
   "execution_count": 7,
   "metadata": {},
   "outputs": [
    {
     "data": {
      "text/plain": [
       "Trash, Recycling & Litter     145146\n",
       "Streets, Roads & Sidewalks     84830\n",
       "Quick Requests                 64659\n",
       "Property Violations            20651\n",
       "Public Safety                   9733\n",
       "COVID-19                        5246\n",
       "Other                           4814\n",
       "Electric & Water General        4354\n",
       "Transit                         3692\n",
       "Hands On Volunteers             2637\n",
       "Permits                         1322\n",
       "Parks                           1070\n",
       "Planning & Zoning                250\n",
       "Storm Relief                     167\n",
       "Education & Libraries             22\n",
       "Workforce & Jobs                   8\n",
       "Public Records Request             2\n",
       "Name: Request Type, dtype: int64"
      ]
     },
     "execution_count": 7,
     "metadata": {},
     "output_type": "execute_result"
    }
   ],
   "source": [
    "hub_data['Request Type'].value_counts()"
   ]
  },
  {
   "cell_type": "code",
   "execution_count": 8,
   "metadata": {},
   "outputs": [
    {
     "data": {
      "text/plain": [
       "Quick Requests                          54141\n",
       "Cart Service                            38339\n",
       "Missed Pickup - Trash Cart Service      26338\n",
       "Missed Pickup - Recycle Cart Service    19381\n",
       "File a Trash or Recycling Complaint     16511\n",
       "                                        ...  \n",
       "Downtown Circulator                         1\n",
       "Music City Star                             1\n",
       "Airport Authority                           1\n",
       "Signs                                       1\n",
       "Pharmaceutical Disposal                     1\n",
       "Name: Subrequest Type, Length: 185, dtype: int64"
      ]
     },
     "execution_count": 8,
     "metadata": {},
     "output_type": "execute_result"
    }
   ],
   "source": [
    "hub_data['Subrequest Type'].value_counts()"
   ]
  },
  {
   "cell_type": "code",
   "execution_count": 9,
   "metadata": {},
   "outputs": [
    {
     "data": {
      "text/plain": [
       "(5246, 21)"
      ]
     },
     "execution_count": 9,
     "metadata": {},
     "output_type": "execute_result"
    }
   ],
   "source": [
    "covid_19_req = hub_data[hub_data['Request Type'] == 'COVID-19']\n",
    "##covid_19_req.head()\n",
    "covid_19_req.shape"
   ]
  },
  {
   "cell_type": "code",
   "execution_count": 10,
   "metadata": {},
   "outputs": [],
   "source": [
    "#covid_19_req.head()\n"
   ]
  },
  {
   "cell_type": "code",
   "execution_count": 11,
   "metadata": {},
   "outputs": [],
   "source": [
    "#covid_19_req.tail()"
   ]
  },
  {
   "cell_type": "code",
   "execution_count": 12,
   "metadata": {},
   "outputs": [],
   "source": [
    "#Parent_Request.head()\n",
    "parent_request = hub_data['Parent Request'].value_counts()\n",
    "#parent_request.head()\n",
    "#print(parent_request)"
   ]
  },
  {
   "cell_type": "code",
   "execution_count": 13,
   "metadata": {},
   "outputs": [
    {
     "data": {
      "text/plain": [
       "dtype('int64')"
      ]
     },
     "execution_count": 13,
     "metadata": {},
     "output_type": "execute_result"
    }
   ],
   "source": [
    "parent_request.dtypes"
   ]
  },
  {
   "cell_type": "code",
   "execution_count": 36,
   "metadata": {},
   "outputs": [],
   "source": [
    "#parent_request_146843 = hub_data.loc[hub_data['Parent Request'] == 146843.0]\n",
    "#parent_request_146843.head()\n",
    "#print(parent_request_146843)"
   ]
  },
  {
   "cell_type": "code",
   "execution_count": 35,
   "metadata": {},
   "outputs": [],
   "source": [
    "#parent_request_146843['Request Origin'].value_counts\n",
    "#parent_request = hub_data['Parent Request'].value_counts()"
   ]
  },
  {
   "cell_type": "code",
   "execution_count": 16,
   "metadata": {},
   "outputs": [],
   "source": [
    "parent_request_289891 = hub_data.loc[hub_data['Parent Request'] == 289891.0]\n",
    "#parent_request_289891 = hub_data.parent_request_28989.value_counts()\n",
    "#print(parent_request_289891)"
   ]
  },
  {
   "cell_type": "code",
   "execution_count": 17,
   "metadata": {},
   "outputs": [],
   "source": [
    "parent_request = hub_data.loc[hub_data['Parent Request'] == 131597.0]\n",
    "#parent_request.head()"
   ]
  },
  {
   "cell_type": "code",
   "execution_count": 18,
   "metadata": {},
   "outputs": [],
   "source": [
    "parent_request = hub_data.loc[hub_data['Parent Request'] == 170833.0]\n",
    "#parent_request.head()"
   ]
  },
  {
   "cell_type": "code",
   "execution_count": 19,
   "metadata": {},
   "outputs": [],
   "source": [
    "request_origin = hub_data['Request Origin'].value_counts()\n",
    "#print(request_origin)       "
   ]
  },
  {
   "cell_type": "markdown",
   "metadata": {},
   "source": [
    "Dead animal pickup and debris (for example) - make variable dataframes\n",
    "Count of dead animal pickup (or other categories), made histogram or other visual, count requests by zip\n",
    "compare between different events (covid, tornado, control) and time of day.\n",
    "Use this info to inform resource allocation.\n"
   ]
  },
  {
   "cell_type": "code",
   "execution_count": 20,
   "metadata": {},
   "outputs": [],
   "source": [
    "hub_data['Date / Time Opened'] = pd.to_datetime(hub_data['Date / Time Opened'])\n",
    "#hub_data['Date / Time Opened'].head()"
   ]
  },
  {
   "cell_type": "code",
   "execution_count": 21,
   "metadata": {},
   "outputs": [],
   "source": [
    "hub_data['Date / Time Closed'] = pd.to_datetime(hub_data['Date / Time Closed'])\n",
    "#hub_data['Date / Time Closed'].head()\n"
   ]
  },
  {
   "cell_type": "code",
   "execution_count": 22,
   "metadata": {},
   "outputs": [],
   "source": [
    "hub_data['Year Requested'] = hub_data['Date / Time Opened'].dt.year\n",
    "#print(hub_data['Year Requested'])"
   ]
  },
  {
   "cell_type": "code",
   "execution_count": 23,
   "metadata": {},
   "outputs": [],
   "source": [
    "hub_data['Month Requested'] = hub_data['Date / Time Opened'].dt.month\n",
    "#print(hub_data['Month Requested'])"
   ]
  },
  {
   "cell_type": "code",
   "execution_count": 24,
   "metadata": {},
   "outputs": [],
   "source": [
    "hub_data['Day Requested'] = hub_data['Date / Time Opened'].dt.day\n",
    "#print(hub_data['Day Requested'])"
   ]
  },
  {
   "cell_type": "code",
   "execution_count": 25,
   "metadata": {},
   "outputs": [],
   "source": [
    "hub_data['Time Requested'] = hub_data['Date / Time Opened'].dt.time\n",
    "#print(hub_data['Time Requested'])"
   ]
  },
  {
   "cell_type": "code",
   "execution_count": 54,
   "metadata": {},
   "outputs": [],
   "source": [
    "animal_pickup = hub_data[(hub_data['Subrequest Type'].notnull())&(hub_data['Subrequest Type']=='Dead Animal Pickup')]\n",
    "##animal_pickup.head()"
   ]
  },
  {
   "cell_type": "code",
   "execution_count": 27,
   "metadata": {},
   "outputs": [],
   "source": [
    "debris_sub = hub_data[(hub_data['Subrequest Type'].notnull())&(hub_data['Subrequest Type']=='Debris')]\n",
    "#debris_sub.head()\n",
    "#nothing showing up for debris "
   ]
  },
  {
   "cell_type": "markdown",
   "metadata": {},
   "source": [
    "Do a comparison of requests made in 2019 to 2020 during month of tornado and month of covid "
   ]
  },
  {
   "cell_type": "code",
   "execution_count": 28,
   "metadata": {},
   "outputs": [],
   "source": [
    "req_march_2020 = hub_data[(hub_data['Year Requested'] == 2020) & (hub_data['Month Requested'] == 3)]\n",
    "#req_march_2020.head()"
   ]
  },
  {
   "cell_type": "markdown",
   "metadata": {},
   "source": [
    "Now need to count number of request types AND then count number of each subrequest? "
   ]
  },
  {
   "cell_type": "markdown",
   "metadata": {},
   "source": [
    "Used Created March 2020 data frame to get count on request type and subrequest type."
   ]
  },
  {
   "cell_type": "code",
   "execution_count": 29,
   "metadata": {},
   "outputs": [
    {
     "data": {
      "text/plain": [
       "Quick Requests                5920\n",
       "Trash, Recycling & Litter     5319\n",
       "Hands On Volunteers           2637\n",
       "Streets, Roads & Sidewalks    1950\n",
       "Public Safety                 1542\n",
       "Name: Request Type, dtype: int64"
      ]
     },
     "execution_count": 29,
     "metadata": {},
     "output_type": "execute_result"
    }
   ],
   "source": [
    "number_request_march_2020 = req_march_2020['Request Type'].value_counts()\n",
    "number_request_march_2020.head()"
   ]
  },
  {
   "cell_type": "code",
   "execution_count": 30,
   "metadata": {},
   "outputs": [
    {
     "data": {
      "text/plain": [
       "Quick Requests                        5920\n",
       "Hands On Volunteers                   2637\n",
       "Missed Pickup - Trash Cart Service    1710\n",
       "Cart Service                          1429\n",
       "Control Number Request for Towing     1380\n",
       "Name: Subrequest Type, dtype: int64"
      ]
     },
     "execution_count": 30,
     "metadata": {},
     "output_type": "execute_result"
    }
   ],
   "source": [
    "number_subrequest_march_2020 = req_march_2020['Subrequest Type'].value_counts()\n",
    "number_subrequest_march_2020.head()"
   ]
  },
  {
   "cell_type": "markdown",
   "metadata": {},
   "source": [
    "Repeat the above for March 2019. Created new March 2019 dataframe showing counts on requests and subrequests."
   ]
  },
  {
   "cell_type": "code",
   "execution_count": 31,
   "metadata": {},
   "outputs": [],
   "source": [
    "req_march_2019 = hub_data[(hub_data['Year Requested'] == 2019) & (hub_data['Month Requested'] == 3)]\n",
    "#req_march_2019.head()"
   ]
  },
  {
   "cell_type": "code",
   "execution_count": 32,
   "metadata": {},
   "outputs": [
    {
     "data": {
      "text/plain": [
       "Trash, Recycling & Litter     5361\n",
       "Quick Requests                3352\n",
       "Streets, Roads & Sidewalks    2600\n",
       "Property Violations            873\n",
       "Other                          255\n",
       "Name: Request Type, dtype: int64"
      ]
     },
     "execution_count": 32,
     "metadata": {},
     "output_type": "execute_result"
    }
   ],
   "source": [
    "number_request_march_2019 = req_march_2019['Request Type'].value_counts()\n",
    "number_request_march_2019.head()"
   ]
  },
  {
   "cell_type": "code",
   "execution_count": 51,
   "metadata": {},
   "outputs": [
    {
     "data": {
      "text/plain": [
       "Quick Requests                          3352\n",
       "File a Trash or Recycling Complaint     1210\n",
       "Cart Service                            1166\n",
       "Missed Pickup - Trash Cart Service       942\n",
       "Missed Pickup - Recycle Cart Service     774\n",
       "Name: Subrequest Type, dtype: int64"
      ]
     },
     "execution_count": 51,
     "metadata": {},
     "output_type": "execute_result"
    }
   ],
   "source": [
    "number_subrequest_march_2019 = req_march_2019['Subrequest Type'].value_counts()\n",
    "number_subrequest_march_2019.head()"
   ]
  },
  {
   "cell_type": "markdown",
   "metadata": {},
   "source": [
    "Need to filter out how these subrequest were made. By phone, email, app. Then do some charts comparing the years."
   ]
  },
  {
   "cell_type": "markdown",
   "metadata": {},
   "source": [
    "NEW DIRECTION - FOCUS ON TRASH COMPLAINTS"
   ]
  },
  {
   "cell_type": "code",
   "execution_count": 40,
   "metadata": {},
   "outputs": [
    {
     "data": {
      "text/html": [
       "<div>\n",
       "<style scoped>\n",
       "    .dataframe tbody tr th:only-of-type {\n",
       "        vertical-align: middle;\n",
       "    }\n",
       "\n",
       "    .dataframe tbody tr th {\n",
       "        vertical-align: top;\n",
       "    }\n",
       "\n",
       "    .dataframe thead th {\n",
       "        text-align: right;\n",
       "    }\n",
       "</style>\n",
       "<table border=\"1\" class=\"dataframe\">\n",
       "  <thead>\n",
       "    <tr style=\"text-align: right;\">\n",
       "      <th></th>\n",
       "      <th>Request #</th>\n",
       "      <th>Status</th>\n",
       "      <th>Request Type</th>\n",
       "      <th>Subrequest Type</th>\n",
       "      <th>Additional Subrequest Type</th>\n",
       "      <th>Date / Time Opened</th>\n",
       "      <th>Date / Time Closed</th>\n",
       "      <th>Request Origin</th>\n",
       "      <th>System of Origin ID</th>\n",
       "      <th>Contact Type</th>\n",
       "      <th>...</th>\n",
       "      <th>City</th>\n",
       "      <th>Council District</th>\n",
       "      <th>ZIP</th>\n",
       "      <th>Latitude</th>\n",
       "      <th>Longitude</th>\n",
       "      <th>Mapped Location</th>\n",
       "      <th>Year Requested</th>\n",
       "      <th>Month Requested</th>\n",
       "      <th>Day Requested</th>\n",
       "      <th>Time Requested</th>\n",
       "    </tr>\n",
       "  </thead>\n",
       "  <tbody>\n",
       "    <tr>\n",
       "      <th>8</th>\n",
       "      <td>323303</td>\n",
       "      <td>Closed</td>\n",
       "      <td>Trash, Recycling &amp; Litter</td>\n",
       "      <td>Missed Pickup - Recycle Cart Service</td>\n",
       "      <td>Recycle - Curbside/Alley Missed Pickup</td>\n",
       "      <td>2020-03-09 16:26:34</td>\n",
       "      <td>2020-03-17 21:12:24</td>\n",
       "      <td>Phone</td>\n",
       "      <td>NaN</td>\n",
       "      <td>NaN</td>\n",
       "      <td>...</td>\n",
       "      <td>NASHVILLE</td>\n",
       "      <td>6.0</td>\n",
       "      <td>37206</td>\n",
       "      <td>36.176300</td>\n",
       "      <td>-86.748820</td>\n",
       "      <td>(36.1763, -86.74882)</td>\n",
       "      <td>2020</td>\n",
       "      <td>3</td>\n",
       "      <td>9</td>\n",
       "      <td>16:26:34</td>\n",
       "    </tr>\n",
       "    <tr>\n",
       "      <th>10</th>\n",
       "      <td>322898</td>\n",
       "      <td>Closed</td>\n",
       "      <td>Trash, Recycling &amp; Litter</td>\n",
       "      <td>Cart Service</td>\n",
       "      <td>Recycling - Request an Additional Cart</td>\n",
       "      <td>2020-03-08 21:06:42</td>\n",
       "      <td>2020-03-17 17:13:30</td>\n",
       "      <td>hubNashville Community</td>\n",
       "      <td>NaN</td>\n",
       "      <td>NaN</td>\n",
       "      <td>...</td>\n",
       "      <td>NASHVILLE</td>\n",
       "      <td>25.0</td>\n",
       "      <td>37215</td>\n",
       "      <td>36.092855</td>\n",
       "      <td>-86.803188</td>\n",
       "      <td>(36.0928545, -86.8031881)</td>\n",
       "      <td>2020</td>\n",
       "      <td>3</td>\n",
       "      <td>8</td>\n",
       "      <td>21:06:42</td>\n",
       "    </tr>\n",
       "    <tr>\n",
       "      <th>11</th>\n",
       "      <td>323341</td>\n",
       "      <td>Closed</td>\n",
       "      <td>Trash, Recycling &amp; Litter</td>\n",
       "      <td>Missed Pickup - Recycle Cart Service</td>\n",
       "      <td>Recycle - Curbside/Alley Missed Pickup</td>\n",
       "      <td>2020-03-09 16:58:32</td>\n",
       "      <td>2020-03-17 17:14:48</td>\n",
       "      <td>Phone</td>\n",
       "      <td>NaN</td>\n",
       "      <td>NaN</td>\n",
       "      <td>...</td>\n",
       "      <td>NASHVILLE</td>\n",
       "      <td>23.0</td>\n",
       "      <td>37205</td>\n",
       "      <td>36.087970</td>\n",
       "      <td>-86.885920</td>\n",
       "      <td>(36.08797, -86.88592)</td>\n",
       "      <td>2020</td>\n",
       "      <td>3</td>\n",
       "      <td>9</td>\n",
       "      <td>16:58:32</td>\n",
       "    </tr>\n",
       "    <tr>\n",
       "      <th>12</th>\n",
       "      <td>323346</td>\n",
       "      <td>Closed</td>\n",
       "      <td>Trash, Recycling &amp; Litter</td>\n",
       "      <td>Missed Pickup - Recycle Cart Service</td>\n",
       "      <td>Recycle - Curbside/Alley Missed Pickup</td>\n",
       "      <td>2020-03-09 17:02:04</td>\n",
       "      <td>2020-03-17 17:12:36</td>\n",
       "      <td>hubNashville Community</td>\n",
       "      <td>NaN</td>\n",
       "      <td>NaN</td>\n",
       "      <td>...</td>\n",
       "      <td>NASHVILLE</td>\n",
       "      <td>23.0</td>\n",
       "      <td>37205</td>\n",
       "      <td>36.088050</td>\n",
       "      <td>-86.885930</td>\n",
       "      <td>(36.08805, -86.88593)</td>\n",
       "      <td>2020</td>\n",
       "      <td>3</td>\n",
       "      <td>9</td>\n",
       "      <td>17:02:04</td>\n",
       "    </tr>\n",
       "    <tr>\n",
       "      <th>13</th>\n",
       "      <td>305782</td>\n",
       "      <td>In Progress</td>\n",
       "      <td>Trash, Recycling &amp; Litter</td>\n",
       "      <td>Litter</td>\n",
       "      <td>NaN</td>\n",
       "      <td>2020-02-10 21:46:38</td>\n",
       "      <td>NaT</td>\n",
       "      <td>Phone</td>\n",
       "      <td>NaN</td>\n",
       "      <td>NaN</td>\n",
       "      <td>...</td>\n",
       "      <td>NASHVILLE</td>\n",
       "      <td>21.0</td>\n",
       "      <td>37209</td>\n",
       "      <td>36.164902</td>\n",
       "      <td>-86.820056</td>\n",
       "      <td>(36.1649024, -86.82005579999999)</td>\n",
       "      <td>2020</td>\n",
       "      <td>2</td>\n",
       "      <td>10</td>\n",
       "      <td>21:46:38</td>\n",
       "    </tr>\n",
       "  </tbody>\n",
       "</table>\n",
       "<p>5 rows × 25 columns</p>\n",
       "</div>"
      ],
      "text/plain": [
       "    Request #       Status               Request Type  \\\n",
       "8      323303       Closed  Trash, Recycling & Litter   \n",
       "10     322898       Closed  Trash, Recycling & Litter   \n",
       "11     323341       Closed  Trash, Recycling & Litter   \n",
       "12     323346       Closed  Trash, Recycling & Litter   \n",
       "13     305782  In Progress  Trash, Recycling & Litter   \n",
       "\n",
       "                         Subrequest Type  \\\n",
       "8   Missed Pickup - Recycle Cart Service   \n",
       "10                          Cart Service   \n",
       "11  Missed Pickup - Recycle Cart Service   \n",
       "12  Missed Pickup - Recycle Cart Service   \n",
       "13                                Litter   \n",
       "\n",
       "                Additional Subrequest Type  Date / Time Opened  \\\n",
       "8   Recycle - Curbside/Alley Missed Pickup 2020-03-09 16:26:34   \n",
       "10  Recycling - Request an Additional Cart 2020-03-08 21:06:42   \n",
       "11  Recycle - Curbside/Alley Missed Pickup 2020-03-09 16:58:32   \n",
       "12  Recycle - Curbside/Alley Missed Pickup 2020-03-09 17:02:04   \n",
       "13                                     NaN 2020-02-10 21:46:38   \n",
       "\n",
       "    Date / Time Closed          Request Origin System of Origin ID  \\\n",
       "8  2020-03-17 21:12:24                   Phone                 NaN   \n",
       "10 2020-03-17 17:13:30  hubNashville Community                 NaN   \n",
       "11 2020-03-17 17:14:48                   Phone                 NaN   \n",
       "12 2020-03-17 17:12:36  hubNashville Community                 NaN   \n",
       "13                 NaT                   Phone                 NaN   \n",
       "\n",
       "   Contact Type  ...       City  Council District    ZIP   Latitude  \\\n",
       "8           NaN  ...  NASHVILLE               6.0  37206  36.176300   \n",
       "10          NaN  ...  NASHVILLE              25.0  37215  36.092855   \n",
       "11          NaN  ...  NASHVILLE              23.0  37205  36.087970   \n",
       "12          NaN  ...  NASHVILLE              23.0  37205  36.088050   \n",
       "13          NaN  ...  NASHVILLE              21.0  37209  36.164902   \n",
       "\n",
       "    Longitude                   Mapped Location  Year Requested  \\\n",
       "8  -86.748820              (36.1763, -86.74882)            2020   \n",
       "10 -86.803188         (36.0928545, -86.8031881)            2020   \n",
       "11 -86.885920             (36.08797, -86.88592)            2020   \n",
       "12 -86.885930             (36.08805, -86.88593)            2020   \n",
       "13 -86.820056  (36.1649024, -86.82005579999999)            2020   \n",
       "\n",
       "   Month Requested  Day Requested  Time Requested  \n",
       "8                3              9        16:26:34  \n",
       "10               3              8        21:06:42  \n",
       "11               3              9        16:58:32  \n",
       "12               3              9        17:02:04  \n",
       "13               2             10        21:46:38  \n",
       "\n",
       "[5 rows x 25 columns]"
      ]
     },
     "execution_count": 40,
     "metadata": {},
     "output_type": "execute_result"
    }
   ],
   "source": [
    "trash = hub_data[(hub_data['Request Type'] == 'Trash, Recycling & Litter')]\n",
    "#& (hub_data['Subrequest Type'])]\n",
    "#hub_data['Request Type'].value_counts()\n",
    "#hub_data['Subrequest Type'].value_counts()\n",
    "#Trash, Recycling & Litter\n",
    "trash.head()"
   ]
  },
  {
   "cell_type": "code",
   "execution_count": 70,
   "metadata": {},
   "outputs": [
    {
     "data": {
      "text/html": [
       "<div>\n",
       "<style scoped>\n",
       "    .dataframe tbody tr th:only-of-type {\n",
       "        vertical-align: middle;\n",
       "    }\n",
       "\n",
       "    .dataframe tbody tr th {\n",
       "        vertical-align: top;\n",
       "    }\n",
       "\n",
       "    .dataframe thead th {\n",
       "        text-align: right;\n",
       "    }\n",
       "</style>\n",
       "<table border=\"1\" class=\"dataframe\">\n",
       "  <thead>\n",
       "    <tr style=\"text-align: right;\">\n",
       "      <th></th>\n",
       "      <th>Request #</th>\n",
       "      <th>Status</th>\n",
       "      <th>Request Type</th>\n",
       "      <th>Subrequest Type</th>\n",
       "      <th>Additional Subrequest Type</th>\n",
       "      <th>Date / Time Opened</th>\n",
       "      <th>Date / Time Closed</th>\n",
       "      <th>Request Origin</th>\n",
       "      <th>System of Origin ID</th>\n",
       "      <th>Contact Type</th>\n",
       "      <th>...</th>\n",
       "      <th>City</th>\n",
       "      <th>Council District</th>\n",
       "      <th>ZIP</th>\n",
       "      <th>Latitude</th>\n",
       "      <th>Longitude</th>\n",
       "      <th>Mapped Location</th>\n",
       "      <th>Year Requested</th>\n",
       "      <th>Month Requested</th>\n",
       "      <th>Day Requested</th>\n",
       "      <th>Time Requested</th>\n",
       "    </tr>\n",
       "  </thead>\n",
       "  <tbody>\n",
       "    <tr>\n",
       "      <th>13</th>\n",
       "      <td>305782</td>\n",
       "      <td>In Progress</td>\n",
       "      <td>Trash, Recycling &amp; Litter</td>\n",
       "      <td>Litter</td>\n",
       "      <td>NaN</td>\n",
       "      <td>2020-02-10 21:46:38</td>\n",
       "      <td>NaT</td>\n",
       "      <td>Phone</td>\n",
       "      <td>NaN</td>\n",
       "      <td>NaN</td>\n",
       "      <td>...</td>\n",
       "      <td>NASHVILLE</td>\n",
       "      <td>21.0</td>\n",
       "      <td>37209</td>\n",
       "      <td>36.164902</td>\n",
       "      <td>-86.820056</td>\n",
       "      <td>(36.1649024, -86.82005579999999)</td>\n",
       "      <td>2020</td>\n",
       "      <td>2</td>\n",
       "      <td>10</td>\n",
       "      <td>21:46:38</td>\n",
       "    </tr>\n",
       "    <tr>\n",
       "      <th>49</th>\n",
       "      <td>318693</td>\n",
       "      <td>In Progress</td>\n",
       "      <td>Trash, Recycling &amp; Litter</td>\n",
       "      <td>Litter</td>\n",
       "      <td>NaN</td>\n",
       "      <td>2020-03-05 18:27:15</td>\n",
       "      <td>NaT</td>\n",
       "      <td>Mobile App</td>\n",
       "      <td>NaN</td>\n",
       "      <td>NaN</td>\n",
       "      <td>...</td>\n",
       "      <td>NASHVILLE</td>\n",
       "      <td>20.0</td>\n",
       "      <td>37209</td>\n",
       "      <td>36.162154</td>\n",
       "      <td>-86.875977</td>\n",
       "      <td>(36.16215433979019, -86.87597718089819)</td>\n",
       "      <td>2020</td>\n",
       "      <td>3</td>\n",
       "      <td>5</td>\n",
       "      <td>18:27:15</td>\n",
       "    </tr>\n",
       "    <tr>\n",
       "      <th>229</th>\n",
       "      <td>334833</td>\n",
       "      <td>Closed</td>\n",
       "      <td>Trash, Recycling &amp; Litter</td>\n",
       "      <td>Litter</td>\n",
       "      <td>NaN</td>\n",
       "      <td>2020-03-28 18:56:40</td>\n",
       "      <td>2020-03-30 17:09:27</td>\n",
       "      <td>Mobile App</td>\n",
       "      <td>NaN</td>\n",
       "      <td>NaN</td>\n",
       "      <td>...</td>\n",
       "      <td>NASHVILLE</td>\n",
       "      <td>13.0</td>\n",
       "      <td>37214</td>\n",
       "      <td>36.131543</td>\n",
       "      <td>-86.665498</td>\n",
       "      <td>(36.13154287331881, -86.66549808772818)</td>\n",
       "      <td>2020</td>\n",
       "      <td>3</td>\n",
       "      <td>28</td>\n",
       "      <td>18:56:40</td>\n",
       "    </tr>\n",
       "    <tr>\n",
       "      <th>543</th>\n",
       "      <td>218886</td>\n",
       "      <td>In Progress</td>\n",
       "      <td>Trash, Recycling &amp; Litter</td>\n",
       "      <td>Litter</td>\n",
       "      <td>NaN</td>\n",
       "      <td>2019-07-23 13:39:35</td>\n",
       "      <td>NaT</td>\n",
       "      <td>hubNashville Community</td>\n",
       "      <td>NaN</td>\n",
       "      <td>NaN</td>\n",
       "      <td>...</td>\n",
       "      <td>NASHVILLE</td>\n",
       "      <td>14.0</td>\n",
       "      <td>37214</td>\n",
       "      <td>36.144158</td>\n",
       "      <td>-86.656301</td>\n",
       "      <td>(36.14415824514323, -86.65630095672606)</td>\n",
       "      <td>2019</td>\n",
       "      <td>7</td>\n",
       "      <td>23</td>\n",
       "      <td>13:39:35</td>\n",
       "    </tr>\n",
       "    <tr>\n",
       "      <th>931</th>\n",
       "      <td>132676</td>\n",
       "      <td>Assigned</td>\n",
       "      <td>Trash, Recycling &amp; Litter</td>\n",
       "      <td>Litter</td>\n",
       "      <td>NaN</td>\n",
       "      <td>2019-01-18 15:55:47</td>\n",
       "      <td>NaT</td>\n",
       "      <td>hubNashville Community</td>\n",
       "      <td>NaN</td>\n",
       "      <td>NaN</td>\n",
       "      <td>...</td>\n",
       "      <td>ANTIOCH</td>\n",
       "      <td>31.0</td>\n",
       "      <td>37013</td>\n",
       "      <td>36.008696</td>\n",
       "      <td>-86.696310</td>\n",
       "      <td>(36.00869622492357, -86.69631017488943)</td>\n",
       "      <td>2019</td>\n",
       "      <td>1</td>\n",
       "      <td>18</td>\n",
       "      <td>15:55:47</td>\n",
       "    </tr>\n",
       "  </tbody>\n",
       "</table>\n",
       "<p>5 rows × 25 columns</p>\n",
       "</div>"
      ],
      "text/plain": [
       "     Request #       Status               Request Type Subrequest Type  \\\n",
       "13      305782  In Progress  Trash, Recycling & Litter          Litter   \n",
       "49      318693  In Progress  Trash, Recycling & Litter          Litter   \n",
       "229     334833       Closed  Trash, Recycling & Litter          Litter   \n",
       "543     218886  In Progress  Trash, Recycling & Litter          Litter   \n",
       "931     132676     Assigned  Trash, Recycling & Litter          Litter   \n",
       "\n",
       "    Additional Subrequest Type  Date / Time Opened  Date / Time Closed  \\\n",
       "13                         NaN 2020-02-10 21:46:38                 NaT   \n",
       "49                         NaN 2020-03-05 18:27:15                 NaT   \n",
       "229                        NaN 2020-03-28 18:56:40 2020-03-30 17:09:27   \n",
       "543                        NaN 2019-07-23 13:39:35                 NaT   \n",
       "931                        NaN 2019-01-18 15:55:47                 NaT   \n",
       "\n",
       "             Request Origin System of Origin ID Contact Type  ...       City  \\\n",
       "13                    Phone                 NaN          NaN  ...  NASHVILLE   \n",
       "49               Mobile App                 NaN          NaN  ...  NASHVILLE   \n",
       "229              Mobile App                 NaN          NaN  ...  NASHVILLE   \n",
       "543  hubNashville Community                 NaN          NaN  ...  NASHVILLE   \n",
       "931  hubNashville Community                 NaN          NaN  ...    ANTIOCH   \n",
       "\n",
       "     Council District    ZIP   Latitude  Longitude  \\\n",
       "13               21.0  37209  36.164902 -86.820056   \n",
       "49               20.0  37209  36.162154 -86.875977   \n",
       "229              13.0  37214  36.131543 -86.665498   \n",
       "543              14.0  37214  36.144158 -86.656301   \n",
       "931              31.0  37013  36.008696 -86.696310   \n",
       "\n",
       "                             Mapped Location  Year Requested Month Requested  \\\n",
       "13          (36.1649024, -86.82005579999999)            2020               2   \n",
       "49   (36.16215433979019, -86.87597718089819)            2020               3   \n",
       "229  (36.13154287331881, -86.66549808772818)            2020               3   \n",
       "543  (36.14415824514323, -86.65630095672606)            2019               7   \n",
       "931  (36.00869622492357, -86.69631017488943)            2019               1   \n",
       "\n",
       "     Day Requested  Time Requested  \n",
       "13              10        21:46:38  \n",
       "49               5        18:27:15  \n",
       "229             28        18:56:40  \n",
       "543             23        13:39:35  \n",
       "931             18        15:55:47  \n",
       "\n",
       "[5 rows x 25 columns]"
      ]
     },
     "execution_count": 70,
     "metadata": {},
     "output_type": "execute_result"
    }
   ],
   "source": [
    "#trash = hub_data[(hub_data['Request Type'] == 'Trash, Recycling & Litter')]\n",
    "litter = hub_data[(hub_data['Subrequest Type'] == 'Litter')]\n",
    "litter.head()"
   ]
  },
  {
   "cell_type": "code",
   "execution_count": 71,
   "metadata": {},
   "outputs": [],
   "source": [
    "litter = hub_data.loc[hub_data['Subrequest Type'] == 'Litter']                               "
   ]
  },
  {
   "cell_type": "code",
   "execution_count": 78,
   "metadata": {},
   "outputs": [
    {
     "data": {
      "text/plain": [
       "Quick Requests                          54141\n",
       "Cart Service                            38339\n",
       "Missed Pickup - Trash Cart Service      26338\n",
       "Missed Pickup - Recycle Cart Service    19381\n",
       "File a Trash or Recycling Complaint     16511\n",
       "Blocking the Right of Way               14585\n",
       "New Service/Activate Service            14086\n",
       "Extra Cart Pickup Request                9219\n",
       "Potholes                                 8912\n",
       "Illegal Dumping                          8831\n",
       "Traffic Light Issue                      7370\n",
       "Control Number Request for Towing        6016\n",
       "Junk and Debris                          5753\n",
       "Dead Animal Pickup                       5398\n",
       "Damaged Sign                             4611\n",
       "Tree Maintenance on right of way         4369\n",
       "Tall Grass and Weeds                     4302\n",
       "Overgrowth on right of way               4064\n",
       "Residential Complaint                    3770\n",
       "State Routes                             3248\n",
       "Litter                                   3030\n",
       "COVID-19 Violations                      2976\n",
       "Street Lighting                          2938\n",
       "Remove debris in roadway                 2810\n",
       "Hands On Volunteers                      2637\n",
       "Mayor's Office Case                      2563\n",
       "Brush Collection                         2530\n",
       "Unwanted Recycling or Trash              2467\n",
       "Abandoned Vehicles                       2375\n",
       "Other                                    2275\n",
       "Name: Subrequest Type, dtype: int64"
      ]
     },
     "execution_count": 78,
     "metadata": {},
     "output_type": "execute_result"
    }
   ],
   "source": [
    "subrequest = hub_data['Subrequest Type'].value_counts()\n",
    "subrequest.head(21)\n"
   ]
  },
  {
   "cell_type": "code",
   "execution_count": 76,
   "metadata": {},
   "outputs": [],
   "source": [
    "#Missed Pickup - Trash Cart Service      26338\n",
    "#Missed Pickup - Recycle Cart Service    19381"
   ]
  },
  {
   "cell_type": "code",
   "execution_count": null,
   "metadata": {},
   "outputs": [],
   "source": []
  }
 ],
 "metadata": {
  "kernelspec": {
   "display_name": "Python 3",
   "language": "python",
   "name": "python3"
  },
  "language_info": {
   "codemirror_mode": {
    "name": "ipython",
    "version": 3
   },
   "file_extension": ".py",
   "mimetype": "text/x-python",
   "name": "python",
   "nbconvert_exporter": "python",
   "pygments_lexer": "ipython3",
   "version": "3.7.6"
  }
 },
 "nbformat": 4,
 "nbformat_minor": 4
}
