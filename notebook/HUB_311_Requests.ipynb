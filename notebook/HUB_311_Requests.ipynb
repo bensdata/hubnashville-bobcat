{
 "cells": [
  {
   "cell_type": "code",
   "execution_count": 58,
   "metadata": {},
   "outputs": [],
   "source": [
    "from shapely.geometry import Point\n",
    "import pandas as pd\n",
    "import geopandas as gpd\n",
    "import matplotlib.pyplot as plt\n",
    "import folium\n",
    "from folium.plugins import MarkerCluster\n",
    "from folium.plugins import FastMarkerCluster\n"
   ]
  },
  {
   "cell_type": "code",
   "execution_count": 59,
   "metadata": {},
   "outputs": [
    {
     "name": "stderr",
     "output_type": "stream",
     "text": [
      "/opt/anaconda3/envs/geo/lib/python3.7/site-packages/IPython/core/interactiveshell.py:3063: DtypeWarning: Columns (17) have mixed types.Specify dtype option on import or set low_memory=False.\n",
      "  interactivity=interactivity, compiler=compiler, result=result)\n"
     ]
    },
    {
     "data": {
      "text/html": [
       "<div>\n",
       "<style scoped>\n",
       "    .dataframe tbody tr th:only-of-type {\n",
       "        vertical-align: middle;\n",
       "    }\n",
       "\n",
       "    .dataframe tbody tr th {\n",
       "        vertical-align: top;\n",
       "    }\n",
       "\n",
       "    .dataframe thead th {\n",
       "        text-align: right;\n",
       "    }\n",
       "</style>\n",
       "<table border=\"1\" class=\"dataframe\">\n",
       "  <thead>\n",
       "    <tr style=\"text-align: right;\">\n",
       "      <th></th>\n",
       "      <th>Request #</th>\n",
       "      <th>Status</th>\n",
       "      <th>Request Type</th>\n",
       "      <th>Subrequest Type</th>\n",
       "      <th>Additional Subrequest Type</th>\n",
       "      <th>Date / Time Opened</th>\n",
       "      <th>Date / Time Closed</th>\n",
       "      <th>Request Origin</th>\n",
       "      <th>System of Origin ID</th>\n",
       "      <th>Contact Type</th>\n",
       "      <th>...</th>\n",
       "      <th>State Issue</th>\n",
       "      <th>Parent Request</th>\n",
       "      <th>Closed When Created</th>\n",
       "      <th>Address</th>\n",
       "      <th>City</th>\n",
       "      <th>Council District</th>\n",
       "      <th>ZIP</th>\n",
       "      <th>Latitude</th>\n",
       "      <th>Longitude</th>\n",
       "      <th>Mapped Location</th>\n",
       "    </tr>\n",
       "  </thead>\n",
       "  <tbody>\n",
       "    <tr>\n",
       "      <th>0</th>\n",
       "      <td>353977</td>\n",
       "      <td>Closed</td>\n",
       "      <td>COVID-19</td>\n",
       "      <td>COVID-19 - Submit Input about The Plan to Reop...</td>\n",
       "      <td>COVID-19 - Submit Input about The Plan to Reop...</td>\n",
       "      <td>04/28/2020 02:33:22 PM</td>\n",
       "      <td>04/28/2020 02:33:22 PM</td>\n",
       "      <td>hubNashville Community</td>\n",
       "      <td>NaN</td>\n",
       "      <td>NaN</td>\n",
       "      <td>...</td>\n",
       "      <td>False</td>\n",
       "      <td>NaN</td>\n",
       "      <td>True</td>\n",
       "      <td>NaN</td>\n",
       "      <td>NaN</td>\n",
       "      <td>NaN</td>\n",
       "      <td>NaN</td>\n",
       "      <td>NaN</td>\n",
       "      <td>NaN</td>\n",
       "      <td>NaN</td>\n",
       "    </tr>\n",
       "    <tr>\n",
       "      <th>1</th>\n",
       "      <td>354524</td>\n",
       "      <td>Closed</td>\n",
       "      <td>Quick Requests</td>\n",
       "      <td>Quick Requests</td>\n",
       "      <td>NaN</td>\n",
       "      <td>04/28/2020 09:46:53 PM</td>\n",
       "      <td>04/28/2020 09:46:53 PM</td>\n",
       "      <td>Phone</td>\n",
       "      <td>NaN</td>\n",
       "      <td>NaN</td>\n",
       "      <td>...</td>\n",
       "      <td>False</td>\n",
       "      <td>NaN</td>\n",
       "      <td>True</td>\n",
       "      <td>NaN</td>\n",
       "      <td>NaN</td>\n",
       "      <td>NaN</td>\n",
       "      <td>NaN</td>\n",
       "      <td>NaN</td>\n",
       "      <td>NaN</td>\n",
       "      <td>NaN</td>\n",
       "    </tr>\n",
       "    <tr>\n",
       "      <th>2</th>\n",
       "      <td>354188</td>\n",
       "      <td>Closed</td>\n",
       "      <td>Quick Requests</td>\n",
       "      <td>Quick Requests</td>\n",
       "      <td>NaN</td>\n",
       "      <td>04/28/2020 05:09:02 PM</td>\n",
       "      <td>04/28/2020 05:09:02 PM</td>\n",
       "      <td>Phone</td>\n",
       "      <td>NaN</td>\n",
       "      <td>NaN</td>\n",
       "      <td>...</td>\n",
       "      <td>False</td>\n",
       "      <td>NaN</td>\n",
       "      <td>True</td>\n",
       "      <td>NaN</td>\n",
       "      <td>NaN</td>\n",
       "      <td>NaN</td>\n",
       "      <td>NaN</td>\n",
       "      <td>NaN</td>\n",
       "      <td>NaN</td>\n",
       "      <td>NaN</td>\n",
       "    </tr>\n",
       "    <tr>\n",
       "      <th>3</th>\n",
       "      <td>354445</td>\n",
       "      <td>Closed</td>\n",
       "      <td>Quick Requests</td>\n",
       "      <td>Quick Requests</td>\n",
       "      <td>NaN</td>\n",
       "      <td>04/28/2020 08:50:36 PM</td>\n",
       "      <td>04/28/2020 08:50:36 PM</td>\n",
       "      <td>Phone</td>\n",
       "      <td>NaN</td>\n",
       "      <td>NaN</td>\n",
       "      <td>...</td>\n",
       "      <td>False</td>\n",
       "      <td>NaN</td>\n",
       "      <td>True</td>\n",
       "      <td>NaN</td>\n",
       "      <td>NaN</td>\n",
       "      <td>NaN</td>\n",
       "      <td>NaN</td>\n",
       "      <td>NaN</td>\n",
       "      <td>NaN</td>\n",
       "      <td>NaN</td>\n",
       "    </tr>\n",
       "    <tr>\n",
       "      <th>4</th>\n",
       "      <td>334893</td>\n",
       "      <td>Closed</td>\n",
       "      <td>Public Safety</td>\n",
       "      <td>Control Number Request for Towing</td>\n",
       "      <td>NaN</td>\n",
       "      <td>03/29/2020 01:08:55 AM</td>\n",
       "      <td>03/29/2020 01:08:55 AM</td>\n",
       "      <td>hubNashville Community</td>\n",
       "      <td>NaN</td>\n",
       "      <td>NaN</td>\n",
       "      <td>...</td>\n",
       "      <td>False</td>\n",
       "      <td>NaN</td>\n",
       "      <td>True</td>\n",
       "      <td>Long Hollow Pike &amp; Northcreek Blvd</td>\n",
       "      <td>GOODLETTSVILLE</td>\n",
       "      <td>10.0</td>\n",
       "      <td>37072</td>\n",
       "      <td>36.32619</td>\n",
       "      <td>-86.700618</td>\n",
       "      <td>(36.32619, -86.70061799999999)</td>\n",
       "    </tr>\n",
       "  </tbody>\n",
       "</table>\n",
       "<p>5 rows × 21 columns</p>\n",
       "</div>"
      ],
      "text/plain": [
       "   Request #  Status    Request Type  \\\n",
       "0     353977  Closed        COVID-19   \n",
       "1     354524  Closed  Quick Requests   \n",
       "2     354188  Closed  Quick Requests   \n",
       "3     354445  Closed  Quick Requests   \n",
       "4     334893  Closed   Public Safety   \n",
       "\n",
       "                                     Subrequest Type  \\\n",
       "0  COVID-19 - Submit Input about The Plan to Reop...   \n",
       "1                                     Quick Requests   \n",
       "2                                     Quick Requests   \n",
       "3                                     Quick Requests   \n",
       "4                  Control Number Request for Towing   \n",
       "\n",
       "                          Additional Subrequest Type      Date / Time Opened  \\\n",
       "0  COVID-19 - Submit Input about The Plan to Reop...  04/28/2020 02:33:22 PM   \n",
       "1                                                NaN  04/28/2020 09:46:53 PM   \n",
       "2                                                NaN  04/28/2020 05:09:02 PM   \n",
       "3                                                NaN  04/28/2020 08:50:36 PM   \n",
       "4                                                NaN  03/29/2020 01:08:55 AM   \n",
       "\n",
       "       Date / Time Closed          Request Origin System of Origin ID  \\\n",
       "0  04/28/2020 02:33:22 PM  hubNashville Community                 NaN   \n",
       "1  04/28/2020 09:46:53 PM                   Phone                 NaN   \n",
       "2  04/28/2020 05:09:02 PM                   Phone                 NaN   \n",
       "3  04/28/2020 08:50:36 PM                   Phone                 NaN   \n",
       "4  03/29/2020 01:08:55 AM  hubNashville Community                 NaN   \n",
       "\n",
       "  Contact Type  ...  State Issue  Parent Request  Closed When Created  \\\n",
       "0          NaN  ...        False             NaN                 True   \n",
       "1          NaN  ...        False             NaN                 True   \n",
       "2          NaN  ...        False             NaN                 True   \n",
       "3          NaN  ...        False             NaN                 True   \n",
       "4          NaN  ...        False             NaN                 True   \n",
       "\n",
       "                              Address            City Council District    ZIP  \\\n",
       "0                                 NaN             NaN              NaN    NaN   \n",
       "1                                 NaN             NaN              NaN    NaN   \n",
       "2                                 NaN             NaN              NaN    NaN   \n",
       "3                                 NaN             NaN              NaN    NaN   \n",
       "4  Long Hollow Pike & Northcreek Blvd  GOODLETTSVILLE             10.0  37072   \n",
       "\n",
       "   Latitude  Longitude                 Mapped Location  \n",
       "0       NaN        NaN                             NaN  \n",
       "1       NaN        NaN                             NaN  \n",
       "2       NaN        NaN                             NaN  \n",
       "3       NaN        NaN                             NaN  \n",
       "4  36.32619 -86.700618  (36.32619, -86.70061799999999)  \n",
       "\n",
       "[5 rows x 21 columns]"
      ]
     },
     "execution_count": 59,
     "metadata": {},
     "output_type": "execute_result"
    }
   ],
   "source": [
    "hub_data = pd.read_csv('../data/hubNashville__311__Service_Requests.csv')\n",
    "##print(requests_311)\n",
    "hub_data.head()\n"
   ]
  },
  {
   "cell_type": "code",
   "execution_count": 60,
   "metadata": {},
   "outputs": [
    {
     "data": {
      "text/html": [
       "<div>\n",
       "<style scoped>\n",
       "    .dataframe tbody tr th:only-of-type {\n",
       "        vertical-align: middle;\n",
       "    }\n",
       "\n",
       "    .dataframe tbody tr th {\n",
       "        vertical-align: top;\n",
       "    }\n",
       "\n",
       "    .dataframe thead th {\n",
       "        text-align: right;\n",
       "    }\n",
       "</style>\n",
       "<table border=\"1\" class=\"dataframe\">\n",
       "  <thead>\n",
       "    <tr style=\"text-align: right;\">\n",
       "      <th></th>\n",
       "      <th>Request #</th>\n",
       "      <th>Status</th>\n",
       "      <th>Request Type</th>\n",
       "      <th>Subrequest Type</th>\n",
       "      <th>Additional Subrequest Type</th>\n",
       "      <th>Date / Time Opened</th>\n",
       "      <th>Date / Time Closed</th>\n",
       "      <th>Request Origin</th>\n",
       "      <th>System of Origin ID</th>\n",
       "      <th>Contact Type</th>\n",
       "      <th>...</th>\n",
       "      <th>State Issue</th>\n",
       "      <th>Parent Request</th>\n",
       "      <th>Closed When Created</th>\n",
       "      <th>Address</th>\n",
       "      <th>City</th>\n",
       "      <th>Council District</th>\n",
       "      <th>ZIP</th>\n",
       "      <th>Latitude</th>\n",
       "      <th>Longitude</th>\n",
       "      <th>Mapped Location</th>\n",
       "    </tr>\n",
       "  </thead>\n",
       "  <tbody>\n",
       "    <tr>\n",
       "      <th>348666</th>\n",
       "      <td>2699</td>\n",
       "      <td>Closed</td>\n",
       "      <td>Streets, Roads &amp; Sidewalks</td>\n",
       "      <td>Potholes</td>\n",
       "      <td>Roadway</td>\n",
       "      <td>07/26/2017 02:54:00 PM</td>\n",
       "      <td>08/01/2017 08:12:00 AM</td>\n",
       "      <td>Phone</td>\n",
       "      <td>NaN</td>\n",
       "      <td>NaN</td>\n",
       "      <td>...</td>\n",
       "      <td>False</td>\n",
       "      <td>NaN</td>\n",
       "      <td>True</td>\n",
       "      <td>BROOK HOLLOW RD &amp; HARDING PIKE</td>\n",
       "      <td>NASHVILLE</td>\n",
       "      <td>23.0</td>\n",
       "      <td>37205</td>\n",
       "      <td>36.09441</td>\n",
       "      <td>-86.88171</td>\n",
       "      <td>(36.09441, -86.88171)</td>\n",
       "    </tr>\n",
       "    <tr>\n",
       "      <th>348667</th>\n",
       "      <td>2214</td>\n",
       "      <td>Closed</td>\n",
       "      <td>Trash, Recycling &amp; Litter</td>\n",
       "      <td>Cart Service</td>\n",
       "      <td>Trash - Report a Damaged Cart</td>\n",
       "      <td>07/24/2017 04:58:00 PM</td>\n",
       "      <td>08/09/2017 04:06:00 AM</td>\n",
       "      <td>Phone</td>\n",
       "      <td>NaN</td>\n",
       "      <td>NaN</td>\n",
       "      <td>...</td>\n",
       "      <td>False</td>\n",
       "      <td>NaN</td>\n",
       "      <td>True</td>\n",
       "      <td>518 Benzing Rd</td>\n",
       "      <td>ANTIOCH</td>\n",
       "      <td>31.0</td>\n",
       "      <td>37013</td>\n",
       "      <td>36.04626</td>\n",
       "      <td>-86.69590</td>\n",
       "      <td>(36.04626, -86.6959)</td>\n",
       "    </tr>\n",
       "    <tr>\n",
       "      <th>348668</th>\n",
       "      <td>163</td>\n",
       "      <td>Closed</td>\n",
       "      <td>Trash, Recycling &amp; Litter</td>\n",
       "      <td>Missed Pickup - Trash Cart Service</td>\n",
       "      <td>Trash - Curbside/Alley Missed Pickup</td>\n",
       "      <td>07/17/2017 07:12:00 AM</td>\n",
       "      <td>07/21/2017 11:58:00 AM</td>\n",
       "      <td>Phone</td>\n",
       "      <td>NaN</td>\n",
       "      <td>NaN</td>\n",
       "      <td>...</td>\n",
       "      <td>False</td>\n",
       "      <td>NaN</td>\n",
       "      <td>True</td>\n",
       "      <td>3117 PENN MEADE WAY</td>\n",
       "      <td>NASHVILLE</td>\n",
       "      <td>15.0</td>\n",
       "      <td>37214</td>\n",
       "      <td>36.24230</td>\n",
       "      <td>-86.70428</td>\n",
       "      <td>(36.2423, -86.70428)</td>\n",
       "    </tr>\n",
       "    <tr>\n",
       "      <th>348669</th>\n",
       "      <td>3202</td>\n",
       "      <td>Closed</td>\n",
       "      <td>Streets, Roads &amp; Sidewalks</td>\n",
       "      <td>Overgrowth on right of way</td>\n",
       "      <td>Roadway</td>\n",
       "      <td>07/28/2017 10:07:00 AM</td>\n",
       "      <td>08/15/2017 04:02:00 AM</td>\n",
       "      <td>Phone</td>\n",
       "      <td>NaN</td>\n",
       "      <td>NaN</td>\n",
       "      <td>...</td>\n",
       "      <td>False</td>\n",
       "      <td>NaN</td>\n",
       "      <td>True</td>\n",
       "      <td>Cunniff Pkwy &amp; Fonnic Dr</td>\n",
       "      <td>GOODLETTSVILLE</td>\n",
       "      <td>3.0</td>\n",
       "      <td>37072</td>\n",
       "      <td>36.28374</td>\n",
       "      <td>-86.74212</td>\n",
       "      <td>(36.28374, -86.74212)</td>\n",
       "    </tr>\n",
       "    <tr>\n",
       "      <th>348670</th>\n",
       "      <td>1237</td>\n",
       "      <td>Closed</td>\n",
       "      <td>Streets, Roads &amp; Sidewalks</td>\n",
       "      <td>Overgrowth on right of way</td>\n",
       "      <td>Roadway</td>\n",
       "      <td>07/20/2017 07:44:00 AM</td>\n",
       "      <td>07/28/2017 04:22:00 PM</td>\n",
       "      <td>Phone</td>\n",
       "      <td>NaN</td>\n",
       "      <td>NaN</td>\n",
       "      <td>...</td>\n",
       "      <td>False</td>\n",
       "      <td>NaN</td>\n",
       "      <td>True</td>\n",
       "      <td>SHARPE AVE  &amp; GRANADA AVE</td>\n",
       "      <td>NASHVILLE</td>\n",
       "      <td>5.0</td>\n",
       "      <td>37206</td>\n",
       "      <td>36.18901</td>\n",
       "      <td>-86.75364</td>\n",
       "      <td>(36.18901, -86.75364)</td>\n",
       "    </tr>\n",
       "  </tbody>\n",
       "</table>\n",
       "<p>5 rows × 21 columns</p>\n",
       "</div>"
      ],
      "text/plain": [
       "        Request #  Status                Request Type  \\\n",
       "348666       2699  Closed  Streets, Roads & Sidewalks   \n",
       "348667       2214  Closed   Trash, Recycling & Litter   \n",
       "348668        163  Closed   Trash, Recycling & Litter   \n",
       "348669       3202  Closed  Streets, Roads & Sidewalks   \n",
       "348670       1237  Closed  Streets, Roads & Sidewalks   \n",
       "\n",
       "                           Subrequest Type  \\\n",
       "348666                            Potholes   \n",
       "348667                        Cart Service   \n",
       "348668  Missed Pickup - Trash Cart Service   \n",
       "348669          Overgrowth on right of way   \n",
       "348670          Overgrowth on right of way   \n",
       "\n",
       "                  Additional Subrequest Type      Date / Time Opened  \\\n",
       "348666                               Roadway  07/26/2017 02:54:00 PM   \n",
       "348667         Trash - Report a Damaged Cart  07/24/2017 04:58:00 PM   \n",
       "348668  Trash - Curbside/Alley Missed Pickup  07/17/2017 07:12:00 AM   \n",
       "348669                               Roadway  07/28/2017 10:07:00 AM   \n",
       "348670                               Roadway  07/20/2017 07:44:00 AM   \n",
       "\n",
       "            Date / Time Closed Request Origin System of Origin ID  \\\n",
       "348666  08/01/2017 08:12:00 AM          Phone                 NaN   \n",
       "348667  08/09/2017 04:06:00 AM          Phone                 NaN   \n",
       "348668  07/21/2017 11:58:00 AM          Phone                 NaN   \n",
       "348669  08/15/2017 04:02:00 AM          Phone                 NaN   \n",
       "348670  07/28/2017 04:22:00 PM          Phone                 NaN   \n",
       "\n",
       "       Contact Type  ...  State Issue  Parent Request  Closed When Created  \\\n",
       "348666          NaN  ...        False             NaN                 True   \n",
       "348667          NaN  ...        False             NaN                 True   \n",
       "348668          NaN  ...        False             NaN                 True   \n",
       "348669          NaN  ...        False             NaN                 True   \n",
       "348670          NaN  ...        False             NaN                 True   \n",
       "\n",
       "                               Address            City Council District  \\\n",
       "348666  BROOK HOLLOW RD & HARDING PIKE       NASHVILLE             23.0   \n",
       "348667                  518 Benzing Rd         ANTIOCH             31.0   \n",
       "348668             3117 PENN MEADE WAY       NASHVILLE             15.0   \n",
       "348669        Cunniff Pkwy & Fonnic Dr  GOODLETTSVILLE              3.0   \n",
       "348670       SHARPE AVE  & GRANADA AVE       NASHVILLE              5.0   \n",
       "\n",
       "          ZIP  Latitude  Longitude        Mapped Location  \n",
       "348666  37205  36.09441  -86.88171  (36.09441, -86.88171)  \n",
       "348667  37013  36.04626  -86.69590   (36.04626, -86.6959)  \n",
       "348668  37214  36.24230  -86.70428   (36.2423, -86.70428)  \n",
       "348669  37072  36.28374  -86.74212  (36.28374, -86.74212)  \n",
       "348670  37206  36.18901  -86.75364  (36.18901, -86.75364)  \n",
       "\n",
       "[5 rows x 21 columns]"
      ]
     },
     "execution_count": 60,
     "metadata": {},
     "output_type": "execute_result"
    }
   ],
   "source": [
    "hub_data.tail()"
   ]
  },
  {
   "cell_type": "code",
   "execution_count": 61,
   "metadata": {},
   "outputs": [
    {
     "data": {
      "text/plain": [
       "(348671, 21)"
      ]
     },
     "execution_count": 61,
     "metadata": {},
     "output_type": "execute_result"
    }
   ],
   "source": [
    "hub_data.shape"
   ]
  },
  {
   "cell_type": "code",
   "execution_count": 62,
   "metadata": {},
   "outputs": [
    {
     "data": {
      "text/plain": [
       "Index(['Request #', 'Status', 'Request Type', 'Subrequest Type',\n",
       "       'Additional Subrequest Type', 'Date / Time Opened',\n",
       "       'Date / Time Closed', 'Request Origin', 'System of Origin ID',\n",
       "       'Contact Type', 'Preferred Language', 'State Issue', 'Parent Request',\n",
       "       'Closed When Created', 'Address', 'City', 'Council District', 'ZIP',\n",
       "       'Latitude', 'Longitude', 'Mapped Location'],\n",
       "      dtype='object')"
      ]
     },
     "execution_count": 62,
     "metadata": {},
     "output_type": "execute_result"
    }
   ],
   "source": [
    "hub_data.columns\n"
   ]
  },
  {
   "cell_type": "code",
   "execution_count": 63,
   "metadata": {},
   "outputs": [
    {
     "data": {
      "text/plain": [
       "Closed         338421\n",
       "In Progress      6510\n",
       "New              2509\n",
       "Assigned          894\n",
       "Transferred       315\n",
       "On Hold            17\n",
       "Denied              2\n",
       "Escalated           1\n",
       "In Process          1\n",
       "Completed           1\n",
       "Name: Status, dtype: int64"
      ]
     },
     "execution_count": 63,
     "metadata": {},
     "output_type": "execute_result"
    }
   ],
   "source": [
    "hub_data.Status.value_counts()"
   ]
  },
  {
   "cell_type": "code",
   "execution_count": 64,
   "metadata": {},
   "outputs": [
    {
     "data": {
      "text/plain": [
       "Trash, Recycling & Litter     145146\n",
       "Streets, Roads & Sidewalks     84830\n",
       "Quick Requests                 64659\n",
       "Property Violations            20651\n",
       "Public Safety                   9733\n",
       "COVID-19                        5246\n",
       "Other                           4814\n",
       "Electric & Water General        4354\n",
       "Transit                         3692\n",
       "Hands On Volunteers             2637\n",
       "Permits                         1322\n",
       "Parks                           1070\n",
       "Planning & Zoning                250\n",
       "Storm Relief                     167\n",
       "Education & Libraries             22\n",
       "Workforce & Jobs                   8\n",
       "Public Records Request             2\n",
       "Name: Request Type, dtype: int64"
      ]
     },
     "execution_count": 64,
     "metadata": {},
     "output_type": "execute_result"
    }
   ],
   "source": [
    "hub_data['Request Type'].value_counts()"
   ]
  },
  {
   "cell_type": "code",
   "execution_count": 65,
   "metadata": {},
   "outputs": [
    {
     "data": {
      "text/plain": [
       "Quick Requests                          54141\n",
       "Cart Service                            38339\n",
       "Missed Pickup - Trash Cart Service      26338\n",
       "Missed Pickup - Recycle Cart Service    19381\n",
       "File a Trash or Recycling Complaint     16511\n",
       "                                        ...  \n",
       "Pet Adoption                                1\n",
       "Music City Star                             1\n",
       "Sign Signal Repairs                         1\n",
       "Remove Debris                               1\n",
       "School Locations                            1\n",
       "Name: Subrequest Type, Length: 185, dtype: int64"
      ]
     },
     "execution_count": 65,
     "metadata": {},
     "output_type": "execute_result"
    }
   ],
   "source": [
    "hub_data['Subrequest Type'].value_counts()"
   ]
  },
  {
   "cell_type": "code",
   "execution_count": 66,
   "metadata": {},
   "outputs": [
    {
     "data": {
      "text/plain": [
       "(5246, 21)"
      ]
     },
     "execution_count": 66,
     "metadata": {},
     "output_type": "execute_result"
    }
   ],
   "source": [
    "covid_19_req = hub_data[hub_data['Request Type'] == 'COVID-19']\n",
    "##covid_19_req.head()\n",
    "covid_19_req.shape"
   ]
  },
  {
   "cell_type": "code",
   "execution_count": 67,
   "metadata": {},
   "outputs": [
    {
     "data": {
      "text/html": [
       "<div>\n",
       "<style scoped>\n",
       "    .dataframe tbody tr th:only-of-type {\n",
       "        vertical-align: middle;\n",
       "    }\n",
       "\n",
       "    .dataframe tbody tr th {\n",
       "        vertical-align: top;\n",
       "    }\n",
       "\n",
       "    .dataframe thead th {\n",
       "        text-align: right;\n",
       "    }\n",
       "</style>\n",
       "<table border=\"1\" class=\"dataframe\">\n",
       "  <thead>\n",
       "    <tr style=\"text-align: right;\">\n",
       "      <th></th>\n",
       "      <th>Request #</th>\n",
       "      <th>Status</th>\n",
       "      <th>Request Type</th>\n",
       "      <th>Subrequest Type</th>\n",
       "      <th>Additional Subrequest Type</th>\n",
       "      <th>Date / Time Opened</th>\n",
       "      <th>Date / Time Closed</th>\n",
       "      <th>Request Origin</th>\n",
       "      <th>System of Origin ID</th>\n",
       "      <th>Contact Type</th>\n",
       "      <th>...</th>\n",
       "      <th>State Issue</th>\n",
       "      <th>Parent Request</th>\n",
       "      <th>Closed When Created</th>\n",
       "      <th>Address</th>\n",
       "      <th>City</th>\n",
       "      <th>Council District</th>\n",
       "      <th>ZIP</th>\n",
       "      <th>Latitude</th>\n",
       "      <th>Longitude</th>\n",
       "      <th>Mapped Location</th>\n",
       "    </tr>\n",
       "  </thead>\n",
       "  <tbody>\n",
       "    <tr>\n",
       "      <th>0</th>\n",
       "      <td>353977</td>\n",
       "      <td>Closed</td>\n",
       "      <td>COVID-19</td>\n",
       "      <td>COVID-19 - Submit Input about The Plan to Reop...</td>\n",
       "      <td>COVID-19 - Submit Input about The Plan to Reop...</td>\n",
       "      <td>04/28/2020 02:33:22 PM</td>\n",
       "      <td>04/28/2020 02:33:22 PM</td>\n",
       "      <td>hubNashville Community</td>\n",
       "      <td>NaN</td>\n",
       "      <td>NaN</td>\n",
       "      <td>...</td>\n",
       "      <td>False</td>\n",
       "      <td>NaN</td>\n",
       "      <td>True</td>\n",
       "      <td>NaN</td>\n",
       "      <td>NaN</td>\n",
       "      <td>NaN</td>\n",
       "      <td>NaN</td>\n",
       "      <td>NaN</td>\n",
       "      <td>NaN</td>\n",
       "      <td>NaN</td>\n",
       "    </tr>\n",
       "    <tr>\n",
       "      <th>5</th>\n",
       "      <td>334780</td>\n",
       "      <td>Closed</td>\n",
       "      <td>COVID-19</td>\n",
       "      <td>COVID-19 Questions</td>\n",
       "      <td>NaN</td>\n",
       "      <td>03/28/2020 02:17:51 PM</td>\n",
       "      <td>03/28/2020 11:35:56 PM</td>\n",
       "      <td>hubNashville Community</td>\n",
       "      <td>NaN</td>\n",
       "      <td>NaN</td>\n",
       "      <td>...</td>\n",
       "      <td>False</td>\n",
       "      <td>NaN</td>\n",
       "      <td>False</td>\n",
       "      <td>NaN</td>\n",
       "      <td>NaN</td>\n",
       "      <td>NaN</td>\n",
       "      <td>NaN</td>\n",
       "      <td>NaN</td>\n",
       "      <td>NaN</td>\n",
       "      <td>NaN</td>\n",
       "    </tr>\n",
       "    <tr>\n",
       "      <th>38</th>\n",
       "      <td>334789</td>\n",
       "      <td>Closed</td>\n",
       "      <td>COVID-19</td>\n",
       "      <td>COVID-19 Questions</td>\n",
       "      <td>NaN</td>\n",
       "      <td>03/28/2020 02:58:01 PM</td>\n",
       "      <td>04/01/2020 07:56:36 PM</td>\n",
       "      <td>hubNashville Community</td>\n",
       "      <td>NaN</td>\n",
       "      <td>NaN</td>\n",
       "      <td>...</td>\n",
       "      <td>False</td>\n",
       "      <td>NaN</td>\n",
       "      <td>False</td>\n",
       "      <td>NaN</td>\n",
       "      <td>NaN</td>\n",
       "      <td>NaN</td>\n",
       "      <td>NaN</td>\n",
       "      <td>NaN</td>\n",
       "      <td>NaN</td>\n",
       "      <td>NaN</td>\n",
       "    </tr>\n",
       "    <tr>\n",
       "      <th>44</th>\n",
       "      <td>346122</td>\n",
       "      <td>Closed</td>\n",
       "      <td>COVID-19</td>\n",
       "      <td>COVID-19 Violations</td>\n",
       "      <td>COVID-19 Violations</td>\n",
       "      <td>04/15/2020 11:33:26 AM</td>\n",
       "      <td>04/16/2020 02:55:01 PM</td>\n",
       "      <td>hubNashville Community</td>\n",
       "      <td>NaN</td>\n",
       "      <td>NaN</td>\n",
       "      <td>...</td>\n",
       "      <td>False</td>\n",
       "      <td>NaN</td>\n",
       "      <td>False</td>\n",
       "      <td>928 6th Ave S</td>\n",
       "      <td>NASHVILLE</td>\n",
       "      <td>17.0</td>\n",
       "      <td>37203</td>\n",
       "      <td>36.14904</td>\n",
       "      <td>-86.772273</td>\n",
       "      <td>(36.1490396, -86.77227289999999)</td>\n",
       "    </tr>\n",
       "    <tr>\n",
       "      <th>66</th>\n",
       "      <td>354331</td>\n",
       "      <td>Closed</td>\n",
       "      <td>COVID-19</td>\n",
       "      <td>COVID-19 Questions</td>\n",
       "      <td>NaN</td>\n",
       "      <td>04/28/2020 07:32:58 PM</td>\n",
       "      <td>05/08/2020 07:13:25 PM</td>\n",
       "      <td>hubNashville Community</td>\n",
       "      <td>NaN</td>\n",
       "      <td>NaN</td>\n",
       "      <td>...</td>\n",
       "      <td>False</td>\n",
       "      <td>NaN</td>\n",
       "      <td>False</td>\n",
       "      <td>NaN</td>\n",
       "      <td>NaN</td>\n",
       "      <td>NaN</td>\n",
       "      <td>NaN</td>\n",
       "      <td>NaN</td>\n",
       "      <td>NaN</td>\n",
       "      <td>NaN</td>\n",
       "    </tr>\n",
       "  </tbody>\n",
       "</table>\n",
       "<p>5 rows × 21 columns</p>\n",
       "</div>"
      ],
      "text/plain": [
       "    Request #  Status Request Type  \\\n",
       "0      353977  Closed     COVID-19   \n",
       "5      334780  Closed     COVID-19   \n",
       "38     334789  Closed     COVID-19   \n",
       "44     346122  Closed     COVID-19   \n",
       "66     354331  Closed     COVID-19   \n",
       "\n",
       "                                      Subrequest Type  \\\n",
       "0   COVID-19 - Submit Input about The Plan to Reop...   \n",
       "5                                  COVID-19 Questions   \n",
       "38                                 COVID-19 Questions   \n",
       "44                                COVID-19 Violations   \n",
       "66                                 COVID-19 Questions   \n",
       "\n",
       "                           Additional Subrequest Type      Date / Time Opened  \\\n",
       "0   COVID-19 - Submit Input about The Plan to Reop...  04/28/2020 02:33:22 PM   \n",
       "5                                                 NaN  03/28/2020 02:17:51 PM   \n",
       "38                                                NaN  03/28/2020 02:58:01 PM   \n",
       "44                                COVID-19 Violations  04/15/2020 11:33:26 AM   \n",
       "66                                                NaN  04/28/2020 07:32:58 PM   \n",
       "\n",
       "        Date / Time Closed          Request Origin System of Origin ID  \\\n",
       "0   04/28/2020 02:33:22 PM  hubNashville Community                 NaN   \n",
       "5   03/28/2020 11:35:56 PM  hubNashville Community                 NaN   \n",
       "38  04/01/2020 07:56:36 PM  hubNashville Community                 NaN   \n",
       "44  04/16/2020 02:55:01 PM  hubNashville Community                 NaN   \n",
       "66  05/08/2020 07:13:25 PM  hubNashville Community                 NaN   \n",
       "\n",
       "   Contact Type  ...  State Issue  Parent Request  Closed When Created  \\\n",
       "0           NaN  ...        False             NaN                 True   \n",
       "5           NaN  ...        False             NaN                False   \n",
       "38          NaN  ...        False             NaN                False   \n",
       "44          NaN  ...        False             NaN                False   \n",
       "66          NaN  ...        False             NaN                False   \n",
       "\n",
       "          Address       City Council District    ZIP  Latitude  Longitude  \\\n",
       "0             NaN        NaN              NaN    NaN       NaN        NaN   \n",
       "5             NaN        NaN              NaN    NaN       NaN        NaN   \n",
       "38            NaN        NaN              NaN    NaN       NaN        NaN   \n",
       "44  928 6th Ave S  NASHVILLE             17.0  37203  36.14904 -86.772273   \n",
       "66            NaN        NaN              NaN    NaN       NaN        NaN   \n",
       "\n",
       "                     Mapped Location  \n",
       "0                                NaN  \n",
       "5                                NaN  \n",
       "38                               NaN  \n",
       "44  (36.1490396, -86.77227289999999)  \n",
       "66                               NaN  \n",
       "\n",
       "[5 rows x 21 columns]"
      ]
     },
     "execution_count": 67,
     "metadata": {},
     "output_type": "execute_result"
    }
   ],
   "source": [
    "covid_19_req.head()\n"
   ]
  },
  {
   "cell_type": "code",
   "execution_count": 68,
   "metadata": {},
   "outputs": [
    {
     "data": {
      "text/html": [
       "<div>\n",
       "<style scoped>\n",
       "    .dataframe tbody tr th:only-of-type {\n",
       "        vertical-align: middle;\n",
       "    }\n",
       "\n",
       "    .dataframe tbody tr th {\n",
       "        vertical-align: top;\n",
       "    }\n",
       "\n",
       "    .dataframe thead th {\n",
       "        text-align: right;\n",
       "    }\n",
       "</style>\n",
       "<table border=\"1\" class=\"dataframe\">\n",
       "  <thead>\n",
       "    <tr style=\"text-align: right;\">\n",
       "      <th></th>\n",
       "      <th>Request #</th>\n",
       "      <th>Status</th>\n",
       "      <th>Request Type</th>\n",
       "      <th>Subrequest Type</th>\n",
       "      <th>Additional Subrequest Type</th>\n",
       "      <th>Date / Time Opened</th>\n",
       "      <th>Date / Time Closed</th>\n",
       "      <th>Request Origin</th>\n",
       "      <th>System of Origin ID</th>\n",
       "      <th>Contact Type</th>\n",
       "      <th>...</th>\n",
       "      <th>State Issue</th>\n",
       "      <th>Parent Request</th>\n",
       "      <th>Closed When Created</th>\n",
       "      <th>Address</th>\n",
       "      <th>City</th>\n",
       "      <th>Council District</th>\n",
       "      <th>ZIP</th>\n",
       "      <th>Latitude</th>\n",
       "      <th>Longitude</th>\n",
       "      <th>Mapped Location</th>\n",
       "    </tr>\n",
       "  </thead>\n",
       "  <tbody>\n",
       "    <tr>\n",
       "      <th>49539</th>\n",
       "      <td>366206</td>\n",
       "      <td>New</td>\n",
       "      <td>COVID-19</td>\n",
       "      <td>COVID-19 Violations</td>\n",
       "      <td>COVID-19 Violations</td>\n",
       "      <td>05/12/2020 10:32:57 PM</td>\n",
       "      <td>NaN</td>\n",
       "      <td>hubNashville Community</td>\n",
       "      <td>NaN</td>\n",
       "      <td>NaN</td>\n",
       "      <td>...</td>\n",
       "      <td>False</td>\n",
       "      <td>NaN</td>\n",
       "      <td>False</td>\n",
       "      <td>NaN</td>\n",
       "      <td>NaN</td>\n",
       "      <td>NaN</td>\n",
       "      <td>NaN</td>\n",
       "      <td>NaN</td>\n",
       "      <td>NaN</td>\n",
       "      <td>NaN</td>\n",
       "    </tr>\n",
       "    <tr>\n",
       "      <th>49552</th>\n",
       "      <td>366061</td>\n",
       "      <td>New</td>\n",
       "      <td>COVID-19</td>\n",
       "      <td>COVID-19 Violations</td>\n",
       "      <td>COVID-19 Violations</td>\n",
       "      <td>05/12/2020 08:30:52 PM</td>\n",
       "      <td>NaN</td>\n",
       "      <td>Phone</td>\n",
       "      <td>NaN</td>\n",
       "      <td>NaN</td>\n",
       "      <td>...</td>\n",
       "      <td>False</td>\n",
       "      <td>NaN</td>\n",
       "      <td>False</td>\n",
       "      <td>6009 Charlotte Pike</td>\n",
       "      <td>NASHVILLE</td>\n",
       "      <td>20.0</td>\n",
       "      <td>37209</td>\n",
       "      <td>36.147990</td>\n",
       "      <td>-86.866340</td>\n",
       "      <td>(36.14799, -86.86634)</td>\n",
       "    </tr>\n",
       "    <tr>\n",
       "      <th>49576</th>\n",
       "      <td>366040</td>\n",
       "      <td>New</td>\n",
       "      <td>COVID-19</td>\n",
       "      <td>COVID-19 Questions</td>\n",
       "      <td>NaN</td>\n",
       "      <td>05/12/2020 08:16:57 PM</td>\n",
       "      <td>NaN</td>\n",
       "      <td>Phone</td>\n",
       "      <td>NaN</td>\n",
       "      <td>NaN</td>\n",
       "      <td>...</td>\n",
       "      <td>False</td>\n",
       "      <td>NaN</td>\n",
       "      <td>False</td>\n",
       "      <td>325 White Bridge Pike</td>\n",
       "      <td>NASHVILLE</td>\n",
       "      <td>20.0</td>\n",
       "      <td>37209</td>\n",
       "      <td>36.146590</td>\n",
       "      <td>-86.858890</td>\n",
       "      <td>(36.14659, -86.85889)</td>\n",
       "    </tr>\n",
       "    <tr>\n",
       "      <th>49601</th>\n",
       "      <td>365070</td>\n",
       "      <td>New</td>\n",
       "      <td>COVID-19</td>\n",
       "      <td>COVID-19 Violations</td>\n",
       "      <td>COVID-19 Violations</td>\n",
       "      <td>05/12/2020 03:16:36 PM</td>\n",
       "      <td>NaN</td>\n",
       "      <td>hubNashville Community</td>\n",
       "      <td>NaN</td>\n",
       "      <td>NaN</td>\n",
       "      <td>...</td>\n",
       "      <td>False</td>\n",
       "      <td>NaN</td>\n",
       "      <td>False</td>\n",
       "      <td>2112 Charlotte Ave</td>\n",
       "      <td>NASHVILLE</td>\n",
       "      <td>21.0</td>\n",
       "      <td>37203</td>\n",
       "      <td>36.156657</td>\n",
       "      <td>-86.806927</td>\n",
       "      <td>(36.156657, -86.806927)</td>\n",
       "    </tr>\n",
       "    <tr>\n",
       "      <th>49608</th>\n",
       "      <td>365064</td>\n",
       "      <td>New</td>\n",
       "      <td>COVID-19</td>\n",
       "      <td>COVID-19 Violations</td>\n",
       "      <td>COVID-19 Violations</td>\n",
       "      <td>05/12/2020 03:14:40 PM</td>\n",
       "      <td>NaN</td>\n",
       "      <td>Phone</td>\n",
       "      <td>NaN</td>\n",
       "      <td>NaN</td>\n",
       "      <td>...</td>\n",
       "      <td>False</td>\n",
       "      <td>NaN</td>\n",
       "      <td>False</td>\n",
       "      <td>1310 Charlotte Ave</td>\n",
       "      <td>NASHVILLE</td>\n",
       "      <td>19.0</td>\n",
       "      <td>37203</td>\n",
       "      <td>36.160860</td>\n",
       "      <td>-86.794140</td>\n",
       "      <td>(36.16086, -86.79414)</td>\n",
       "    </tr>\n",
       "  </tbody>\n",
       "</table>\n",
       "<p>5 rows × 21 columns</p>\n",
       "</div>"
      ],
      "text/plain": [
       "       Request # Status Request Type      Subrequest Type  \\\n",
       "49539     366206    New     COVID-19  COVID-19 Violations   \n",
       "49552     366061    New     COVID-19  COVID-19 Violations   \n",
       "49576     366040    New     COVID-19   COVID-19 Questions   \n",
       "49601     365070    New     COVID-19  COVID-19 Violations   \n",
       "49608     365064    New     COVID-19  COVID-19 Violations   \n",
       "\n",
       "      Additional Subrequest Type      Date / Time Opened Date / Time Closed  \\\n",
       "49539        COVID-19 Violations  05/12/2020 10:32:57 PM                NaN   \n",
       "49552        COVID-19 Violations  05/12/2020 08:30:52 PM                NaN   \n",
       "49576                        NaN  05/12/2020 08:16:57 PM                NaN   \n",
       "49601        COVID-19 Violations  05/12/2020 03:16:36 PM                NaN   \n",
       "49608        COVID-19 Violations  05/12/2020 03:14:40 PM                NaN   \n",
       "\n",
       "               Request Origin System of Origin ID Contact Type  ...  \\\n",
       "49539  hubNashville Community                 NaN          NaN  ...   \n",
       "49552                   Phone                 NaN          NaN  ...   \n",
       "49576                   Phone                 NaN          NaN  ...   \n",
       "49601  hubNashville Community                 NaN          NaN  ...   \n",
       "49608                   Phone                 NaN          NaN  ...   \n",
       "\n",
       "       State Issue  Parent Request  Closed When Created  \\\n",
       "49539        False             NaN                False   \n",
       "49552        False             NaN                False   \n",
       "49576        False             NaN                False   \n",
       "49601        False             NaN                False   \n",
       "49608        False             NaN                False   \n",
       "\n",
       "                     Address       City Council District    ZIP   Latitude  \\\n",
       "49539                    NaN        NaN              NaN    NaN        NaN   \n",
       "49552    6009 Charlotte Pike  NASHVILLE             20.0  37209  36.147990   \n",
       "49576  325 White Bridge Pike  NASHVILLE             20.0  37209  36.146590   \n",
       "49601     2112 Charlotte Ave  NASHVILLE             21.0  37203  36.156657   \n",
       "49608     1310 Charlotte Ave  NASHVILLE             19.0  37203  36.160860   \n",
       "\n",
       "       Longitude          Mapped Location  \n",
       "49539        NaN                      NaN  \n",
       "49552 -86.866340    (36.14799, -86.86634)  \n",
       "49576 -86.858890    (36.14659, -86.85889)  \n",
       "49601 -86.806927  (36.156657, -86.806927)  \n",
       "49608 -86.794140    (36.16086, -86.79414)  \n",
       "\n",
       "[5 rows x 21 columns]"
      ]
     },
     "execution_count": 68,
     "metadata": {},
     "output_type": "execute_result"
    }
   ],
   "source": [
    "covid_19_req.tail()"
   ]
  },
  {
   "cell_type": "code",
   "execution_count": 69,
   "metadata": {},
   "outputs": [],
   "source": [
    "#Parent_Request.head()\n",
    "parent_request = hub_data['Parent Request'].value_counts()\n",
    "#parent_request.head()\n",
    "#print(parent_request)"
   ]
  },
  {
   "cell_type": "code",
   "execution_count": 70,
   "metadata": {},
   "outputs": [
    {
     "data": {
      "text/plain": [
       "dtype('int64')"
      ]
     },
     "execution_count": 70,
     "metadata": {},
     "output_type": "execute_result"
    }
   ],
   "source": [
    "parent_request.dtypes"
   ]
  },
  {
   "cell_type": "code",
   "execution_count": 71,
   "metadata": {},
   "outputs": [],
   "source": [
    "parent_request_146843 = hub_data.loc[hub_data['Parent Request'] == 146843.0]\n",
    "#parent_request_146843.head()\n",
    "#print(parent_request_146843)"
   ]
  },
  {
   "cell_type": "code",
   "execution_count": 72,
   "metadata": {},
   "outputs": [
    {
     "data": {
      "text/plain": [
       "<bound method IndexOpsMixin.value_counts of 200013    hubNashville Community\n",
       "200418    hubNashville Community\n",
       "200420    hubNashville Community\n",
       "200865    hubNashville Community\n",
       "200905    hubNashville Community\n",
       "                   ...          \n",
       "215208    hubNashville Community\n",
       "215226    hubNashville Community\n",
       "215569    hubNashville Community\n",
       "215739    hubNashville Community\n",
       "215797    hubNashville Community\n",
       "Name: Request Origin, Length: 71, dtype: object>"
      ]
     },
     "execution_count": 72,
     "metadata": {},
     "output_type": "execute_result"
    }
   ],
   "source": [
    "parent_request_146843['Request Origin'].value_counts\n",
    "#parent_request = hub_data['Parent Request'].value_counts()"
   ]
  },
  {
   "cell_type": "code",
   "execution_count": 73,
   "metadata": {},
   "outputs": [],
   "source": [
    "parent_request_289891 = hub_data.loc[hub_data['Parent Request'] == 289891.0]\n",
    "#parent_request_289891 = hub_data.parent_request_28989.value_counts()\n",
    "#print(parent_request_289891)"
   ]
  },
  {
   "cell_type": "code",
   "execution_count": 74,
   "metadata": {},
   "outputs": [],
   "source": [
    "parent_request = hub_data.loc[hub_data['Parent Request'] == 131597.0]\n",
    "#parent_request.head()"
   ]
  },
  {
   "cell_type": "code",
   "execution_count": 75,
   "metadata": {},
   "outputs": [],
   "source": [
    "parent_request = hub_data.loc[hub_data['Parent Request'] == 170833.0]\n",
    "#parent_request.head()"
   ]
  },
  {
   "cell_type": "code",
   "execution_count": 76,
   "metadata": {},
   "outputs": [],
   "source": [
    "request_origin = hub_data['Request Origin'].value_counts()\n",
    "#print(request_origin)       "
   ]
  },
  {
   "cell_type": "markdown",
   "metadata": {},
   "source": [
    "Dead animal pickup and debris (for example) - make variable dataframes\n",
    "Count of dead animal pickup (or other categories), made histogram or other visual, count requests by zip\n",
    "compare between different events (covid, tornado, control) and time of day.\n",
    "Use this info to inform resource allocation.\n"
   ]
  },
  {
   "cell_type": "code",
   "execution_count": 77,
   "metadata": {},
   "outputs": [],
   "source": [
    "hub_data['Date / Time Opened'] = pd.to_datetime(hub_data['Date / Time Opened'])\n",
    "#hub_data['Date / Time Opened'].head()"
   ]
  },
  {
   "cell_type": "code",
   "execution_count": 78,
   "metadata": {},
   "outputs": [],
   "source": [
    "hub_data['Date / Time Closed'] = pd.to_datetime(hub_data['Date / Time Closed'])\n",
    "#hub_data['Date / Time Closed'].head()\n"
   ]
  },
  {
   "cell_type": "code",
   "execution_count": 79,
   "metadata": {},
   "outputs": [],
   "source": [
    "hub_data['Year Requested'] = hub_data['Date / Time Opened'].dt.year\n",
    "#print(hub_data['Year Requested'])"
   ]
  },
  {
   "cell_type": "code",
   "execution_count": 80,
   "metadata": {},
   "outputs": [],
   "source": [
    "hub_data['Month Requested'] = hub_data['Date / Time Opened'].dt.month\n",
    "#print(hub_data['Month Requested'])"
   ]
  },
  {
   "cell_type": "code",
   "execution_count": 81,
   "metadata": {},
   "outputs": [],
   "source": [
    "hub_data['Day Requested'] = hub_data['Date / Time Opened'].dt.day\n",
    "#print(hub_data['Day Requested'])"
   ]
  },
  {
   "cell_type": "code",
   "execution_count": 82,
   "metadata": {},
   "outputs": [],
   "source": [
    "hub_data['Time Requested'] = hub_data['Date / Time Opened'].dt.time\n",
    "#print(hub_data['Time Requested'])"
   ]
  },
  {
   "cell_type": "code",
   "execution_count": 104,
   "metadata": {},
   "outputs": [],
   "source": [
    "animal_pickup = hub_data[(hub_data['Subrequest Type'].notnull())&(hub_data['Subrequest Type']=='Dead Animal Pickup')]\n",
    "#animal_pickup.head()"
   ]
  },
  {
   "cell_type": "code",
   "execution_count": 84,
   "metadata": {},
   "outputs": [],
   "source": [
    "debris_sub = hub_data[(hub_data['Subrequest Type'].notnull())&(hub_data['Subrequest Type']=='Debris')]\n",
    "#debris_sub.head()\n",
    "#nothing showing up for debris "
   ]
  },
  {
   "cell_type": "markdown",
   "metadata": {},
   "source": [
    "Do a comparison of requests made in 2019 to 2020 during month of tornado and month of covid "
   ]
  },
  {
   "cell_type": "code",
   "execution_count": 117,
   "metadata": {},
   "outputs": [],
   "source": [
    "req_march_2020 = hub_data[(hub_data['Year Requested'] == 2020) & (hub_data['Month Requested'] == 3)]\n",
    "#req_march_2020.head()"
   ]
  },
  {
   "cell_type": "markdown",
   "metadata": {},
   "source": [
    "Now need to count number of request types AND then count number of each subrequest? "
   ]
  },
  {
   "cell_type": "markdown",
   "metadata": {},
   "source": [
    "Used Created March 2020 data frame to get count on request type and subrequest type."
   ]
  },
  {
   "cell_type": "code",
   "execution_count": 110,
   "metadata": {},
   "outputs": [
    {
     "data": {
      "text/plain": [
       "Quick Requests                5920\n",
       "Trash, Recycling & Litter     5319\n",
       "Hands On Volunteers           2637\n",
       "Streets, Roads & Sidewalks    1950\n",
       "Public Safety                 1542\n",
       "Name: Request Type, dtype: int64"
      ]
     },
     "execution_count": 110,
     "metadata": {},
     "output_type": "execute_result"
    }
   ],
   "source": [
    "number_request_march_2020 = req_march_2020['Request Type'].value_counts()\n",
    "number_request_march_2020.head()"
   ]
  },
  {
   "cell_type": "code",
   "execution_count": 111,
   "metadata": {},
   "outputs": [
    {
     "data": {
      "text/plain": [
       "Quick Requests                        5920\n",
       "Hands On Volunteers                   2637\n",
       "Missed Pickup - Trash Cart Service    1710\n",
       "Cart Service                          1429\n",
       "Control Number Request for Towing     1380\n",
       "Name: Subrequest Type, dtype: int64"
      ]
     },
     "execution_count": 111,
     "metadata": {},
     "output_type": "execute_result"
    }
   ],
   "source": [
    "number_subrequest_march_2020 = req_march_2020['Subrequest Type'].value_counts()\n",
    "number_subrequest_march_2020.head()"
   ]
  },
  {
   "cell_type": "markdown",
   "metadata": {},
   "source": [
    "Repeat the above for March 2019. Created new March 2019 dataframe showing counts on requests and subrequests."
   ]
  },
  {
   "cell_type": "code",
   "execution_count": 116,
   "metadata": {},
   "outputs": [],
   "source": [
    "req_march_2019 = hub_data[(hub_data['Year Requested'] == 2019) & (hub_data['Month Requested'] == 3)]\n",
    "#req_march_2019.head()"
   ]
  },
  {
   "cell_type": "code",
   "execution_count": 114,
   "metadata": {},
   "outputs": [
    {
     "data": {
      "text/plain": [
       "Trash, Recycling & Litter     5361\n",
       "Quick Requests                3352\n",
       "Streets, Roads & Sidewalks    2600\n",
       "Property Violations            873\n",
       "Other                          255\n",
       "Name: Request Type, dtype: int64"
      ]
     },
     "execution_count": 114,
     "metadata": {},
     "output_type": "execute_result"
    }
   ],
   "source": [
    "number_request_march_2019 = req_march_2019['Request Type'].value_counts()\n",
    "number_request_march_2019.head()"
   ]
  },
  {
   "cell_type": "code",
   "execution_count": 115,
   "metadata": {},
   "outputs": [
    {
     "data": {
      "text/plain": [
       "Quick Requests                          3352\n",
       "File a Trash or Recycling Complaint     1210\n",
       "Cart Service                            1166\n",
       "Missed Pickup - Trash Cart Service       942\n",
       "Missed Pickup - Recycle Cart Service     774\n",
       "Name: Subrequest Type, dtype: int64"
      ]
     },
     "execution_count": 115,
     "metadata": {},
     "output_type": "execute_result"
    }
   ],
   "source": [
    "number_subrequest_march_2019 = req_march_2019['Subrequest Type'].value_counts()\n",
    "number_subrequest_march_2019.head()"
   ]
  },
  {
   "cell_type": "markdown",
   "metadata": {},
   "source": [
    "Need to filter out how these subrequest were made. By phone, email, app. Then do some charts comparing the years."
   ]
  },
  {
   "cell_type": "code",
   "execution_count": null,
   "metadata": {},
   "outputs": [],
   "source": []
  }
 ],
 "metadata": {
  "kernelspec": {
   "display_name": "Python 3",
   "language": "python",
   "name": "python3"
  },
  "language_info": {
   "codemirror_mode": {
    "name": "ipython",
    "version": 3
   },
   "file_extension": ".py",
   "mimetype": "text/x-python",
   "name": "python",
   "nbconvert_exporter": "python",
   "pygments_lexer": "ipython3",
   "version": "3.7.6"
  }
 },
 "nbformat": 4,
 "nbformat_minor": 4
}
