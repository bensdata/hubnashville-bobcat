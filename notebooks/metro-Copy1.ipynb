{
 "cells": [
  {
   "cell_type": "code",
   "execution_count": 1,
   "metadata": {},
   "outputs": [],
   "source": [
    "import pandas as pd"
   ]
  },
  {
   "cell_type": "code",
   "execution_count": 7,
   "metadata": {},
   "outputs": [],
   "source": [
    "hub_data = pd.read_csv('..\\data\\hubNashville__311__Service_Requests.csv')"
   ]
  },
  {
   "cell_type": "code",
   "execution_count": 3,
   "metadata": {},
   "outputs": [
    {
     "ename": "AttributeError",
     "evalue": "'DataFrame' object has no attribute 'value_counts'",
     "output_type": "error",
     "traceback": [
      "\u001b[1;31m---------------------------------------------------------------------------\u001b[0m",
      "\u001b[1;31mAttributeError\u001b[0m                            Traceback (most recent call last)",
      "\u001b[1;32m<ipython-input-3-ef0c3124d78a>\u001b[0m in \u001b[0;36m<module>\u001b[1;34m\u001b[0m\n\u001b[1;32m----> 1\u001b[1;33m \u001b[0mhub_data\u001b[0m\u001b[1;33m.\u001b[0m\u001b[0mvalue_counts\u001b[0m\u001b[1;33m(\u001b[0m\u001b[1;33m)\u001b[0m\u001b[1;33m\u001b[0m\u001b[1;33m\u001b[0m\u001b[0m\n\u001b[0m",
      "\u001b[1;32m~\\Anaconda3\\lib\\site-packages\\pandas\\core\\generic.py\u001b[0m in \u001b[0;36m__getattr__\u001b[1;34m(self, name)\u001b[0m\n\u001b[0;32m   5177\u001b[0m             \u001b[1;32mif\u001b[0m \u001b[0mself\u001b[0m\u001b[1;33m.\u001b[0m\u001b[0m_info_axis\u001b[0m\u001b[1;33m.\u001b[0m\u001b[0m_can_hold_identifiers_and_holds_name\u001b[0m\u001b[1;33m(\u001b[0m\u001b[0mname\u001b[0m\u001b[1;33m)\u001b[0m\u001b[1;33m:\u001b[0m\u001b[1;33m\u001b[0m\u001b[1;33m\u001b[0m\u001b[0m\n\u001b[0;32m   5178\u001b[0m                 \u001b[1;32mreturn\u001b[0m \u001b[0mself\u001b[0m\u001b[1;33m[\u001b[0m\u001b[0mname\u001b[0m\u001b[1;33m]\u001b[0m\u001b[1;33m\u001b[0m\u001b[1;33m\u001b[0m\u001b[0m\n\u001b[1;32m-> 5179\u001b[1;33m             \u001b[1;32mreturn\u001b[0m \u001b[0mobject\u001b[0m\u001b[1;33m.\u001b[0m\u001b[0m__getattribute__\u001b[0m\u001b[1;33m(\u001b[0m\u001b[0mself\u001b[0m\u001b[1;33m,\u001b[0m \u001b[0mname\u001b[0m\u001b[1;33m)\u001b[0m\u001b[1;33m\u001b[0m\u001b[1;33m\u001b[0m\u001b[0m\n\u001b[0m\u001b[0;32m   5180\u001b[0m \u001b[1;33m\u001b[0m\u001b[0m\n\u001b[0;32m   5181\u001b[0m     \u001b[1;32mdef\u001b[0m \u001b[0m__setattr__\u001b[0m\u001b[1;33m(\u001b[0m\u001b[0mself\u001b[0m\u001b[1;33m,\u001b[0m \u001b[0mname\u001b[0m\u001b[1;33m,\u001b[0m \u001b[0mvalue\u001b[0m\u001b[1;33m)\u001b[0m\u001b[1;33m:\u001b[0m\u001b[1;33m\u001b[0m\u001b[1;33m\u001b[0m\u001b[0m\n",
      "\u001b[1;31mAttributeError\u001b[0m: 'DataFrame' object has no attribute 'value_counts'"
     ]
    }
   ],
   "source": [
    "hub_data.value_counts()"
   ]
  },
  {
   "cell_type": "code",
   "execution_count": 15,
   "metadata": {},
   "outputs": [
    {
     "data": {
      "text/html": [
       "<div>\n",
       "<style scoped>\n",
       "    .dataframe tbody tr th:only-of-type {\n",
       "        vertical-align: middle;\n",
       "    }\n",
       "\n",
       "    .dataframe tbody tr th {\n",
       "        vertical-align: top;\n",
       "    }\n",
       "\n",
       "    .dataframe thead th {\n",
       "        text-align: right;\n",
       "    }\n",
       "</style>\n",
       "<table border=\"1\" class=\"dataframe\">\n",
       "  <thead>\n",
       "    <tr style=\"text-align: right;\">\n",
       "      <th></th>\n",
       "      <th>Request #</th>\n",
       "      <th>variable</th>\n",
       "      <th>value</th>\n",
       "    </tr>\n",
       "  </thead>\n",
       "  <tbody>\n",
       "    <tr>\n",
       "      <td>394877</td>\n",
       "      <td>366272</td>\n",
       "      <td>Date / Time Closed</td>\n",
       "      <td>05/13/2020 05:02:53 AM</td>\n",
       "    </tr>\n",
       "    <tr>\n",
       "      <td>46206</td>\n",
       "      <td>366272</td>\n",
       "      <td>Date / Time Opened</td>\n",
       "      <td>05/13/2020 05:02:53 AM</td>\n",
       "    </tr>\n",
       "    <tr>\n",
       "      <td>45829</td>\n",
       "      <td>366271</td>\n",
       "      <td>Date / Time Opened</td>\n",
       "      <td>05/13/2020 04:45:48 AM</td>\n",
       "    </tr>\n",
       "    <tr>\n",
       "      <td>394500</td>\n",
       "      <td>366271</td>\n",
       "      <td>Date / Time Closed</td>\n",
       "      <td>05/13/2020 04:45:48 AM</td>\n",
       "    </tr>\n",
       "    <tr>\n",
       "      <td>395149</td>\n",
       "      <td>366270</td>\n",
       "      <td>Date / Time Closed</td>\n",
       "      <td>NaN</td>\n",
       "    </tr>\n",
       "    <tr>\n",
       "      <td>...</td>\n",
       "      <td>...</td>\n",
       "      <td>...</td>\n",
       "      <td>...</td>\n",
       "    </tr>\n",
       "    <tr>\n",
       "      <td>695387</td>\n",
       "      <td>146</td>\n",
       "      <td>Date / Time Closed</td>\n",
       "      <td>07/18/2017 09:45:00 AM</td>\n",
       "    </tr>\n",
       "    <tr>\n",
       "      <td>694681</td>\n",
       "      <td>145</td>\n",
       "      <td>Date / Time Closed</td>\n",
       "      <td>07/18/2017 09:44:00 AM</td>\n",
       "    </tr>\n",
       "    <tr>\n",
       "      <td>346010</td>\n",
       "      <td>145</td>\n",
       "      <td>Date / Time Opened</td>\n",
       "      <td>07/17/2017 03:30:00 AM</td>\n",
       "    </tr>\n",
       "    <tr>\n",
       "      <td>693807</td>\n",
       "      <td>144</td>\n",
       "      <td>Date / Time Closed</td>\n",
       "      <td>07/18/2017 09:44:00 AM</td>\n",
       "    </tr>\n",
       "    <tr>\n",
       "      <td>345136</td>\n",
       "      <td>144</td>\n",
       "      <td>Date / Time Opened</td>\n",
       "      <td>07/17/2017 03:30:00 AM</td>\n",
       "    </tr>\n",
       "  </tbody>\n",
       "</table>\n",
       "<p>697342 rows × 3 columns</p>\n",
       "</div>"
      ],
      "text/plain": [
       "        Request #            variable                   value\n",
       "394877     366272  Date / Time Closed  05/13/2020 05:02:53 AM\n",
       "46206      366272  Date / Time Opened  05/13/2020 05:02:53 AM\n",
       "45829      366271  Date / Time Opened  05/13/2020 04:45:48 AM\n",
       "394500     366271  Date / Time Closed  05/13/2020 04:45:48 AM\n",
       "395149     366270  Date / Time Closed                     NaN\n",
       "...           ...                 ...                     ...\n",
       "695387        146  Date / Time Closed  07/18/2017 09:45:00 AM\n",
       "694681        145  Date / Time Closed  07/18/2017 09:44:00 AM\n",
       "346010        145  Date / Time Opened  07/17/2017 03:30:00 AM\n",
       "693807        144  Date / Time Closed  07/18/2017 09:44:00 AM\n",
       "345136        144  Date / Time Opened  07/17/2017 03:30:00 AM\n",
       "\n",
       "[697342 rows x 3 columns]"
      ]
     },
     "execution_count": 15,
     "metadata": {},
     "output_type": "execute_result"
    }
   ],
   "source": [
    "pd.melt(hub_data,id_vars= 'Request #',value_vars=['Date / Time Opened','Date / Time Closed']).sort_values('Request #',ascending=False)"
   ]
  },
  {
   "cell_type": "code",
   "execution_count": 5,
   "metadata": {},
   "outputs": [
    {
     "data": {
      "text/plain": [
       "2047      2\n",
       "259284    2\n",
       "210124    2\n",
       "212173    2\n",
       "206030    2\n",
       "         ..\n",
       "152351    2\n",
       "240416    2\n",
       "238369    2\n",
       "244514    2\n",
       "2049      2\n",
       "Name: Request #, Length: 348671, dtype: int64"
      ]
     },
     "execution_count": 5,
     "metadata": {},
     "output_type": "execute_result"
    }
   ],
   "source": [
    "time_melt['Request #'].value_counts()\n"
   ]
  },
  {
   "cell_type": "code",
   "execution_count": 8,
   "metadata": {},
   "outputs": [
    {
     "data": {
      "text/html": [
       "<div>\n",
       "<style scoped>\n",
       "    .dataframe tbody tr th:only-of-type {\n",
       "        vertical-align: middle;\n",
       "    }\n",
       "\n",
       "    .dataframe tbody tr th {\n",
       "        vertical-align: top;\n",
       "    }\n",
       "\n",
       "    .dataframe thead th {\n",
       "        text-align: right;\n",
       "    }\n",
       "</style>\n",
       "<table border=\"1\" class=\"dataframe\">\n",
       "  <thead>\n",
       "    <tr style=\"text-align: right;\">\n",
       "      <th></th>\n",
       "      <th>Request #</th>\n",
       "      <th>Status</th>\n",
       "      <th>Request Type</th>\n",
       "      <th>Subrequest Type</th>\n",
       "      <th>Additional Subrequest Type</th>\n",
       "      <th>Date / Time Opened</th>\n",
       "      <th>Date / Time Closed</th>\n",
       "      <th>Request Origin</th>\n",
       "      <th>System of Origin ID</th>\n",
       "      <th>Contact Type</th>\n",
       "      <th>...</th>\n",
       "      <th>State Issue</th>\n",
       "      <th>Parent Request</th>\n",
       "      <th>Closed When Created</th>\n",
       "      <th>Address</th>\n",
       "      <th>City</th>\n",
       "      <th>Council District</th>\n",
       "      <th>ZIP</th>\n",
       "      <th>Latitude</th>\n",
       "      <th>Longitude</th>\n",
       "      <th>Mapped Location</th>\n",
       "    </tr>\n",
       "  </thead>\n",
       "  <tbody>\n",
       "    <tr>\n",
       "      <td>0</td>\n",
       "      <td>353977</td>\n",
       "      <td>Closed</td>\n",
       "      <td>COVID-19</td>\n",
       "      <td>COVID-19 - Submit Input about The Plan to Reop...</td>\n",
       "      <td>COVID-19 - Submit Input about The Plan to Reop...</td>\n",
       "      <td>04/28/2020 02:33:22 PM</td>\n",
       "      <td>04/28/2020 02:33:22 PM</td>\n",
       "      <td>hubNashville Community</td>\n",
       "      <td>NaN</td>\n",
       "      <td>NaN</td>\n",
       "      <td>...</td>\n",
       "      <td>False</td>\n",
       "      <td>NaN</td>\n",
       "      <td>True</td>\n",
       "      <td>NaN</td>\n",
       "      <td>NaN</td>\n",
       "      <td>NaN</td>\n",
       "      <td>NaN</td>\n",
       "      <td>NaN</td>\n",
       "      <td>NaN</td>\n",
       "      <td>NaN</td>\n",
       "    </tr>\n",
       "    <tr>\n",
       "      <td>1</td>\n",
       "      <td>354524</td>\n",
       "      <td>Closed</td>\n",
       "      <td>Quick Requests</td>\n",
       "      <td>Quick Requests</td>\n",
       "      <td>NaN</td>\n",
       "      <td>04/28/2020 09:46:53 PM</td>\n",
       "      <td>04/28/2020 09:46:53 PM</td>\n",
       "      <td>Phone</td>\n",
       "      <td>NaN</td>\n",
       "      <td>NaN</td>\n",
       "      <td>...</td>\n",
       "      <td>False</td>\n",
       "      <td>NaN</td>\n",
       "      <td>True</td>\n",
       "      <td>NaN</td>\n",
       "      <td>NaN</td>\n",
       "      <td>NaN</td>\n",
       "      <td>NaN</td>\n",
       "      <td>NaN</td>\n",
       "      <td>NaN</td>\n",
       "      <td>NaN</td>\n",
       "    </tr>\n",
       "    <tr>\n",
       "      <td>2</td>\n",
       "      <td>354188</td>\n",
       "      <td>Closed</td>\n",
       "      <td>Quick Requests</td>\n",
       "      <td>Quick Requests</td>\n",
       "      <td>NaN</td>\n",
       "      <td>04/28/2020 05:09:02 PM</td>\n",
       "      <td>04/28/2020 05:09:02 PM</td>\n",
       "      <td>Phone</td>\n",
       "      <td>NaN</td>\n",
       "      <td>NaN</td>\n",
       "      <td>...</td>\n",
       "      <td>False</td>\n",
       "      <td>NaN</td>\n",
       "      <td>True</td>\n",
       "      <td>NaN</td>\n",
       "      <td>NaN</td>\n",
       "      <td>NaN</td>\n",
       "      <td>NaN</td>\n",
       "      <td>NaN</td>\n",
       "      <td>NaN</td>\n",
       "      <td>NaN</td>\n",
       "    </tr>\n",
       "    <tr>\n",
       "      <td>3</td>\n",
       "      <td>354445</td>\n",
       "      <td>Closed</td>\n",
       "      <td>Quick Requests</td>\n",
       "      <td>Quick Requests</td>\n",
       "      <td>NaN</td>\n",
       "      <td>04/28/2020 08:50:36 PM</td>\n",
       "      <td>04/28/2020 08:50:36 PM</td>\n",
       "      <td>Phone</td>\n",
       "      <td>NaN</td>\n",
       "      <td>NaN</td>\n",
       "      <td>...</td>\n",
       "      <td>False</td>\n",
       "      <td>NaN</td>\n",
       "      <td>True</td>\n",
       "      <td>NaN</td>\n",
       "      <td>NaN</td>\n",
       "      <td>NaN</td>\n",
       "      <td>NaN</td>\n",
       "      <td>NaN</td>\n",
       "      <td>NaN</td>\n",
       "      <td>NaN</td>\n",
       "    </tr>\n",
       "    <tr>\n",
       "      <td>4</td>\n",
       "      <td>334893</td>\n",
       "      <td>Closed</td>\n",
       "      <td>Public Safety</td>\n",
       "      <td>Control Number Request for Towing</td>\n",
       "      <td>NaN</td>\n",
       "      <td>03/29/2020 01:08:55 AM</td>\n",
       "      <td>03/29/2020 01:08:55 AM</td>\n",
       "      <td>hubNashville Community</td>\n",
       "      <td>NaN</td>\n",
       "      <td>NaN</td>\n",
       "      <td>...</td>\n",
       "      <td>False</td>\n",
       "      <td>NaN</td>\n",
       "      <td>True</td>\n",
       "      <td>Long Hollow Pike &amp; Northcreek Blvd</td>\n",
       "      <td>GOODLETTSVILLE</td>\n",
       "      <td>10.0</td>\n",
       "      <td>37072</td>\n",
       "      <td>36.32619</td>\n",
       "      <td>-86.700618</td>\n",
       "      <td>(36.32619, -86.70061799999999)</td>\n",
       "    </tr>\n",
       "  </tbody>\n",
       "</table>\n",
       "<p>5 rows × 21 columns</p>\n",
       "</div>"
      ],
      "text/plain": [
       "   Request #  Status    Request Type  \\\n",
       "0     353977  Closed        COVID-19   \n",
       "1     354524  Closed  Quick Requests   \n",
       "2     354188  Closed  Quick Requests   \n",
       "3     354445  Closed  Quick Requests   \n",
       "4     334893  Closed   Public Safety   \n",
       "\n",
       "                                     Subrequest Type  \\\n",
       "0  COVID-19 - Submit Input about The Plan to Reop...   \n",
       "1                                     Quick Requests   \n",
       "2                                     Quick Requests   \n",
       "3                                     Quick Requests   \n",
       "4                  Control Number Request for Towing   \n",
       "\n",
       "                          Additional Subrequest Type      Date / Time Opened  \\\n",
       "0  COVID-19 - Submit Input about The Plan to Reop...  04/28/2020 02:33:22 PM   \n",
       "1                                                NaN  04/28/2020 09:46:53 PM   \n",
       "2                                                NaN  04/28/2020 05:09:02 PM   \n",
       "3                                                NaN  04/28/2020 08:50:36 PM   \n",
       "4                                                NaN  03/29/2020 01:08:55 AM   \n",
       "\n",
       "       Date / Time Closed          Request Origin System of Origin ID  \\\n",
       "0  04/28/2020 02:33:22 PM  hubNashville Community                 NaN   \n",
       "1  04/28/2020 09:46:53 PM                   Phone                 NaN   \n",
       "2  04/28/2020 05:09:02 PM                   Phone                 NaN   \n",
       "3  04/28/2020 08:50:36 PM                   Phone                 NaN   \n",
       "4  03/29/2020 01:08:55 AM  hubNashville Community                 NaN   \n",
       "\n",
       "  Contact Type  ...  State Issue  Parent Request  Closed When Created  \\\n",
       "0          NaN  ...        False             NaN                 True   \n",
       "1          NaN  ...        False             NaN                 True   \n",
       "2          NaN  ...        False             NaN                 True   \n",
       "3          NaN  ...        False             NaN                 True   \n",
       "4          NaN  ...        False             NaN                 True   \n",
       "\n",
       "                              Address            City Council District    ZIP  \\\n",
       "0                                 NaN             NaN              NaN    NaN   \n",
       "1                                 NaN             NaN              NaN    NaN   \n",
       "2                                 NaN             NaN              NaN    NaN   \n",
       "3                                 NaN             NaN              NaN    NaN   \n",
       "4  Long Hollow Pike & Northcreek Blvd  GOODLETTSVILLE             10.0  37072   \n",
       "\n",
       "   Latitude  Longitude                 Mapped Location  \n",
       "0       NaN        NaN                             NaN  \n",
       "1       NaN        NaN                             NaN  \n",
       "2       NaN        NaN                             NaN  \n",
       "3       NaN        NaN                             NaN  \n",
       "4  36.32619 -86.700618  (36.32619, -86.70061799999999)  \n",
       "\n",
       "[5 rows x 21 columns]"
      ]
     },
     "execution_count": 8,
     "metadata": {},
     "output_type": "execute_result"
    }
   ],
   "source": [
    "hub_data.head()"
   ]
  },
  {
   "cell_type": "code",
   "execution_count": 21,
   "metadata": {},
   "outputs": [
    {
     "data": {
      "text/plain": [
       "pandas.core.indexes.base.Index"
      ]
     },
     "execution_count": 21,
     "metadata": {},
     "output_type": "execute_result"
    }
   ],
   "source": [
    "type(hub_data.columns)"
   ]
  },
  {
   "cell_type": "code",
   "execution_count": 26,
   "metadata": {},
   "outputs": [
    {
     "data": {
      "text/plain": [
       "0                      Request #\n",
       "1                         Status\n",
       "2                   Request Type\n",
       "3                Subrequest Type\n",
       "4     Additional Subrequest Type\n",
       "5             Date / Time Opened\n",
       "6             Date / Time Closed\n",
       "7                 Request Origin\n",
       "8            System of Origin ID\n",
       "9                   Contact Type\n",
       "10            Preferred Language\n",
       "11                   State Issue\n",
       "12                Parent Request\n",
       "13           Closed When Created\n",
       "14                       Address\n",
       "15                          City\n",
       "16              Council District\n",
       "17                           ZIP\n",
       "18                      Latitude\n",
       "19                     Longitude\n",
       "20               Mapped Location\n",
       "dtype: object"
      ]
     },
     "execution_count": 26,
     "metadata": {},
     "output_type": "execute_result"
    }
   ],
   "source": [
    "pd.Series(hub_data.columns)"
   ]
  },
  {
   "cell_type": "code",
   "execution_count": 25,
   "metadata": {},
   "outputs": [
    {
     "data": {
      "text/plain": [
       "0                      Request #\n",
       "1                         Status\n",
       "2                   Request Type\n",
       "3                Subrequest Type\n",
       "4     Additional Subrequest Type\n",
       "5             Date / Time Opened\n",
       "6             Date / Time Closed\n",
       "7                 Request Origin\n",
       "8            System of Origin ID\n",
       "9                   Contact Type\n",
       "10            Preferred Language\n",
       "11                   State Issue\n",
       "12                Parent Request\n",
       "13           Closed When Created\n",
       "14                       Address\n",
       "15                          City\n",
       "16              Council District\n",
       "17                           ZIP\n",
       "18                      Latitude\n",
       "19                     Longitude\n",
       "20               Mapped Location\n",
       "dtype: object"
      ]
     },
     "execution_count": 25,
     "metadata": {},
     "output_type": "execute_result"
    }
   ],
   "source": []
  },
  {
   "cell_type": "code",
   "execution_count": 27,
   "metadata": {},
   "outputs": [
    {
     "name": "stdout",
     "output_type": "stream",
     "text": [
      "hub_data\t pd\t series1\t time_melt\t \n"
     ]
    }
   ],
   "source": [
    "%who"
   ]
  },
  {
   "cell_type": "code",
   "execution_count": null,
   "metadata": {},
   "outputs": [],
   "source": []
  }
 ],
 "metadata": {
  "kernelspec": {
   "display_name": "Python 3",
   "language": "python",
   "name": "python3"
  },
  "language_info": {
   "codemirror_mode": {
    "name": "ipython",
    "version": 3
   },
   "file_extension": ".py",
   "mimetype": "text/x-python",
   "name": "python",
   "nbconvert_exporter": "python",
   "pygments_lexer": "ipython3",
   "version": "3.7.4"
  }
 },
 "nbformat": 4,
 "nbformat_minor": 2
}
