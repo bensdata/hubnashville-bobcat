{
 "cells": [
  {
   "cell_type": "code",
   "execution_count": 107,
   "metadata": {},
   "outputs": [],
   "source": [
    "import pandas as pd\n",
    "import matplotlib.pyplot as plt; plt.rcdefaults()\n",
    "import numpy as np\n",
    "import matplotlib.pyplot as plt"
   ]
  },
  {
   "cell_type": "code",
   "execution_count": 5,
   "metadata": {},
   "outputs": [],
   "source": [
    "hub_data = pd.read_csv('..\\data\\hubNashville_311_Service_Requests.csv', low_memory=False)"
   ]
  },
  {
   "cell_type": "code",
   "execution_count": 7,
   "metadata": {},
   "outputs": [],
   "source": [
    "#first_request = hub_data['Request #'] == '353977'\n",
    "first_request = hub_data[hub_data['Request #'] == 353977]"
   ]
  },
  {
   "cell_type": "code",
   "execution_count": 9,
   "metadata": {},
   "outputs": [
    {
     "data": {
      "text/plain": [
       "0          True\n",
       "1         False\n",
       "2         False\n",
       "3         False\n",
       "4         False\n",
       "          ...  \n",
       "348666    False\n",
       "348667    False\n",
       "348668    False\n",
       "348669    False\n",
       "348670    False\n",
       "Name: Request #, Length: 348671, dtype: bool"
      ]
     },
     "execution_count": 9,
     "metadata": {},
     "output_type": "execute_result"
    }
   ],
   "source": [
    "hub_data['Request #'] == 353977"
   ]
  },
  {
   "cell_type": "code",
   "execution_count": 8,
   "metadata": {},
   "outputs": [
    {
     "data": {
      "text/html": [
       "<div>\n",
       "<style scoped>\n",
       "    .dataframe tbody tr th:only-of-type {\n",
       "        vertical-align: middle;\n",
       "    }\n",
       "\n",
       "    .dataframe tbody tr th {\n",
       "        vertical-align: top;\n",
       "    }\n",
       "\n",
       "    .dataframe thead th {\n",
       "        text-align: right;\n",
       "    }\n",
       "</style>\n",
       "<table border=\"1\" class=\"dataframe\">\n",
       "  <thead>\n",
       "    <tr style=\"text-align: right;\">\n",
       "      <th></th>\n",
       "      <th>Request #</th>\n",
       "      <th>Status</th>\n",
       "      <th>Request Type</th>\n",
       "      <th>Subrequest Type</th>\n",
       "      <th>Additional Subrequest Type</th>\n",
       "      <th>Date / Time Opened</th>\n",
       "      <th>Date / Time Closed</th>\n",
       "      <th>Request Origin</th>\n",
       "      <th>System of Origin ID</th>\n",
       "      <th>Contact Type</th>\n",
       "      <th>...</th>\n",
       "      <th>State Issue</th>\n",
       "      <th>Parent Request</th>\n",
       "      <th>Closed When Created</th>\n",
       "      <th>Address</th>\n",
       "      <th>City</th>\n",
       "      <th>Council District</th>\n",
       "      <th>ZIP</th>\n",
       "      <th>Latitude</th>\n",
       "      <th>Longitude</th>\n",
       "      <th>Mapped Location</th>\n",
       "    </tr>\n",
       "  </thead>\n",
       "  <tbody>\n",
       "    <tr>\n",
       "      <th>0</th>\n",
       "      <td>353977</td>\n",
       "      <td>Closed</td>\n",
       "      <td>COVID-19</td>\n",
       "      <td>COVID-19 - Submit Input about The Plan to Reop...</td>\n",
       "      <td>COVID-19 - Submit Input about The Plan to Reop...</td>\n",
       "      <td>04/28/2020 02:33:22 PM</td>\n",
       "      <td>04/28/2020 02:33:22 PM</td>\n",
       "      <td>hubNashville Community</td>\n",
       "      <td>NaN</td>\n",
       "      <td>NaN</td>\n",
       "      <td>...</td>\n",
       "      <td>False</td>\n",
       "      <td>NaN</td>\n",
       "      <td>True</td>\n",
       "      <td>NaN</td>\n",
       "      <td>NaN</td>\n",
       "      <td>NaN</td>\n",
       "      <td>NaN</td>\n",
       "      <td>NaN</td>\n",
       "      <td>NaN</td>\n",
       "      <td>NaN</td>\n",
       "    </tr>\n",
       "  </tbody>\n",
       "</table>\n",
       "<p>1 rows × 21 columns</p>\n",
       "</div>"
      ],
      "text/plain": [
       "   Request #  Status Request Type  \\\n",
       "0     353977  Closed     COVID-19   \n",
       "\n",
       "                                     Subrequest Type  \\\n",
       "0  COVID-19 - Submit Input about The Plan to Reop...   \n",
       "\n",
       "                          Additional Subrequest Type      Date / Time Opened  \\\n",
       "0  COVID-19 - Submit Input about The Plan to Reop...  04/28/2020 02:33:22 PM   \n",
       "\n",
       "       Date / Time Closed          Request Origin System of Origin ID  \\\n",
       "0  04/28/2020 02:33:22 PM  hubNashville Community                 NaN   \n",
       "\n",
       "  Contact Type  ...  State Issue  Parent Request  Closed When Created  \\\n",
       "0          NaN  ...        False             NaN                 True   \n",
       "\n",
       "   Address City Council District  ZIP Latitude  Longitude  Mapped Location  \n",
       "0      NaN  NaN              NaN  NaN      NaN        NaN              NaN  \n",
       "\n",
       "[1 rows x 21 columns]"
      ]
     },
     "execution_count": 8,
     "metadata": {},
     "output_type": "execute_result"
    }
   ],
   "source": [
    "first_request"
   ]
  },
  {
   "cell_type": "code",
   "execution_count": 10,
   "metadata": {},
   "outputs": [
    {
     "data": {
      "text/html": [
       "<div>\n",
       "<style scoped>\n",
       "    .dataframe tbody tr th:only-of-type {\n",
       "        vertical-align: middle;\n",
       "    }\n",
       "\n",
       "    .dataframe tbody tr th {\n",
       "        vertical-align: top;\n",
       "    }\n",
       "\n",
       "    .dataframe thead th {\n",
       "        text-align: right;\n",
       "    }\n",
       "</style>\n",
       "<table border=\"1\" class=\"dataframe\">\n",
       "  <thead>\n",
       "    <tr style=\"text-align: right;\">\n",
       "      <th></th>\n",
       "      <th>Request #</th>\n",
       "      <th>Status</th>\n",
       "      <th>Request Type</th>\n",
       "      <th>Subrequest Type</th>\n",
       "      <th>Additional Subrequest Type</th>\n",
       "      <th>Date / Time Opened</th>\n",
       "      <th>Date / Time Closed</th>\n",
       "      <th>Request Origin</th>\n",
       "      <th>System of Origin ID</th>\n",
       "      <th>Contact Type</th>\n",
       "      <th>...</th>\n",
       "      <th>State Issue</th>\n",
       "      <th>Parent Request</th>\n",
       "      <th>Closed When Created</th>\n",
       "      <th>Address</th>\n",
       "      <th>City</th>\n",
       "      <th>Council District</th>\n",
       "      <th>ZIP</th>\n",
       "      <th>Latitude</th>\n",
       "      <th>Longitude</th>\n",
       "      <th>Mapped Location</th>\n",
       "    </tr>\n",
       "  </thead>\n",
       "  <tbody>\n",
       "    <tr>\n",
       "      <th>0</th>\n",
       "      <td>353977</td>\n",
       "      <td>Closed</td>\n",
       "      <td>COVID-19</td>\n",
       "      <td>COVID-19 - Submit Input about The Plan to Reop...</td>\n",
       "      <td>COVID-19 - Submit Input about The Plan to Reop...</td>\n",
       "      <td>04/28/2020 02:33:22 PM</td>\n",
       "      <td>04/28/2020 02:33:22 PM</td>\n",
       "      <td>hubNashville Community</td>\n",
       "      <td>NaN</td>\n",
       "      <td>NaN</td>\n",
       "      <td>...</td>\n",
       "      <td>False</td>\n",
       "      <td>NaN</td>\n",
       "      <td>True</td>\n",
       "      <td>NaN</td>\n",
       "      <td>NaN</td>\n",
       "      <td>NaN</td>\n",
       "      <td>NaN</td>\n",
       "      <td>NaN</td>\n",
       "      <td>NaN</td>\n",
       "      <td>NaN</td>\n",
       "    </tr>\n",
       "    <tr>\n",
       "      <th>5</th>\n",
       "      <td>334780</td>\n",
       "      <td>Closed</td>\n",
       "      <td>COVID-19</td>\n",
       "      <td>COVID-19 Questions</td>\n",
       "      <td>NaN</td>\n",
       "      <td>03/28/2020 02:17:51 PM</td>\n",
       "      <td>03/28/2020 11:35:56 PM</td>\n",
       "      <td>hubNashville Community</td>\n",
       "      <td>NaN</td>\n",
       "      <td>NaN</td>\n",
       "      <td>...</td>\n",
       "      <td>False</td>\n",
       "      <td>NaN</td>\n",
       "      <td>False</td>\n",
       "      <td>NaN</td>\n",
       "      <td>NaN</td>\n",
       "      <td>NaN</td>\n",
       "      <td>NaN</td>\n",
       "      <td>NaN</td>\n",
       "      <td>NaN</td>\n",
       "      <td>NaN</td>\n",
       "    </tr>\n",
       "    <tr>\n",
       "      <th>38</th>\n",
       "      <td>334789</td>\n",
       "      <td>Closed</td>\n",
       "      <td>COVID-19</td>\n",
       "      <td>COVID-19 Questions</td>\n",
       "      <td>NaN</td>\n",
       "      <td>03/28/2020 02:58:01 PM</td>\n",
       "      <td>04/01/2020 07:56:36 PM</td>\n",
       "      <td>hubNashville Community</td>\n",
       "      <td>NaN</td>\n",
       "      <td>NaN</td>\n",
       "      <td>...</td>\n",
       "      <td>False</td>\n",
       "      <td>NaN</td>\n",
       "      <td>False</td>\n",
       "      <td>NaN</td>\n",
       "      <td>NaN</td>\n",
       "      <td>NaN</td>\n",
       "      <td>NaN</td>\n",
       "      <td>NaN</td>\n",
       "      <td>NaN</td>\n",
       "      <td>NaN</td>\n",
       "    </tr>\n",
       "    <tr>\n",
       "      <th>44</th>\n",
       "      <td>346122</td>\n",
       "      <td>Closed</td>\n",
       "      <td>COVID-19</td>\n",
       "      <td>COVID-19 Violations</td>\n",
       "      <td>COVID-19 Violations</td>\n",
       "      <td>04/15/2020 11:33:26 AM</td>\n",
       "      <td>04/16/2020 02:55:01 PM</td>\n",
       "      <td>hubNashville Community</td>\n",
       "      <td>NaN</td>\n",
       "      <td>NaN</td>\n",
       "      <td>...</td>\n",
       "      <td>False</td>\n",
       "      <td>NaN</td>\n",
       "      <td>False</td>\n",
       "      <td>928 6th Ave S</td>\n",
       "      <td>NASHVILLE</td>\n",
       "      <td>17.0</td>\n",
       "      <td>37203</td>\n",
       "      <td>36.149040</td>\n",
       "      <td>-86.772273</td>\n",
       "      <td>(36.1490396, -86.77227289999999)</td>\n",
       "    </tr>\n",
       "    <tr>\n",
       "      <th>66</th>\n",
       "      <td>354331</td>\n",
       "      <td>Closed</td>\n",
       "      <td>COVID-19</td>\n",
       "      <td>COVID-19 Questions</td>\n",
       "      <td>NaN</td>\n",
       "      <td>04/28/2020 07:32:58 PM</td>\n",
       "      <td>05/08/2020 07:13:25 PM</td>\n",
       "      <td>hubNashville Community</td>\n",
       "      <td>NaN</td>\n",
       "      <td>NaN</td>\n",
       "      <td>...</td>\n",
       "      <td>False</td>\n",
       "      <td>NaN</td>\n",
       "      <td>False</td>\n",
       "      <td>NaN</td>\n",
       "      <td>NaN</td>\n",
       "      <td>NaN</td>\n",
       "      <td>NaN</td>\n",
       "      <td>NaN</td>\n",
       "      <td>NaN</td>\n",
       "      <td>NaN</td>\n",
       "    </tr>\n",
       "    <tr>\n",
       "      <th>...</th>\n",
       "      <td>...</td>\n",
       "      <td>...</td>\n",
       "      <td>...</td>\n",
       "      <td>...</td>\n",
       "      <td>...</td>\n",
       "      <td>...</td>\n",
       "      <td>...</td>\n",
       "      <td>...</td>\n",
       "      <td>...</td>\n",
       "      <td>...</td>\n",
       "      <td>...</td>\n",
       "      <td>...</td>\n",
       "      <td>...</td>\n",
       "      <td>...</td>\n",
       "      <td>...</td>\n",
       "      <td>...</td>\n",
       "      <td>...</td>\n",
       "      <td>...</td>\n",
       "      <td>...</td>\n",
       "      <td>...</td>\n",
       "      <td>...</td>\n",
       "    </tr>\n",
       "    <tr>\n",
       "      <th>49539</th>\n",
       "      <td>366206</td>\n",
       "      <td>New</td>\n",
       "      <td>COVID-19</td>\n",
       "      <td>COVID-19 Violations</td>\n",
       "      <td>COVID-19 Violations</td>\n",
       "      <td>05/12/2020 10:32:57 PM</td>\n",
       "      <td>NaN</td>\n",
       "      <td>hubNashville Community</td>\n",
       "      <td>NaN</td>\n",
       "      <td>NaN</td>\n",
       "      <td>...</td>\n",
       "      <td>False</td>\n",
       "      <td>NaN</td>\n",
       "      <td>False</td>\n",
       "      <td>NaN</td>\n",
       "      <td>NaN</td>\n",
       "      <td>NaN</td>\n",
       "      <td>NaN</td>\n",
       "      <td>NaN</td>\n",
       "      <td>NaN</td>\n",
       "      <td>NaN</td>\n",
       "    </tr>\n",
       "    <tr>\n",
       "      <th>49552</th>\n",
       "      <td>366061</td>\n",
       "      <td>New</td>\n",
       "      <td>COVID-19</td>\n",
       "      <td>COVID-19 Violations</td>\n",
       "      <td>COVID-19 Violations</td>\n",
       "      <td>05/12/2020 08:30:52 PM</td>\n",
       "      <td>NaN</td>\n",
       "      <td>Phone</td>\n",
       "      <td>NaN</td>\n",
       "      <td>NaN</td>\n",
       "      <td>...</td>\n",
       "      <td>False</td>\n",
       "      <td>NaN</td>\n",
       "      <td>False</td>\n",
       "      <td>6009 Charlotte Pike</td>\n",
       "      <td>NASHVILLE</td>\n",
       "      <td>20.0</td>\n",
       "      <td>37209</td>\n",
       "      <td>36.147990</td>\n",
       "      <td>-86.866340</td>\n",
       "      <td>(36.14799, -86.86634)</td>\n",
       "    </tr>\n",
       "    <tr>\n",
       "      <th>49576</th>\n",
       "      <td>366040</td>\n",
       "      <td>New</td>\n",
       "      <td>COVID-19</td>\n",
       "      <td>COVID-19 Questions</td>\n",
       "      <td>NaN</td>\n",
       "      <td>05/12/2020 08:16:57 PM</td>\n",
       "      <td>NaN</td>\n",
       "      <td>Phone</td>\n",
       "      <td>NaN</td>\n",
       "      <td>NaN</td>\n",
       "      <td>...</td>\n",
       "      <td>False</td>\n",
       "      <td>NaN</td>\n",
       "      <td>False</td>\n",
       "      <td>325 White Bridge Pike</td>\n",
       "      <td>NASHVILLE</td>\n",
       "      <td>20.0</td>\n",
       "      <td>37209</td>\n",
       "      <td>36.146590</td>\n",
       "      <td>-86.858890</td>\n",
       "      <td>(36.14659, -86.85889)</td>\n",
       "    </tr>\n",
       "    <tr>\n",
       "      <th>49601</th>\n",
       "      <td>365070</td>\n",
       "      <td>New</td>\n",
       "      <td>COVID-19</td>\n",
       "      <td>COVID-19 Violations</td>\n",
       "      <td>COVID-19 Violations</td>\n",
       "      <td>05/12/2020 03:16:36 PM</td>\n",
       "      <td>NaN</td>\n",
       "      <td>hubNashville Community</td>\n",
       "      <td>NaN</td>\n",
       "      <td>NaN</td>\n",
       "      <td>...</td>\n",
       "      <td>False</td>\n",
       "      <td>NaN</td>\n",
       "      <td>False</td>\n",
       "      <td>2112 Charlotte Ave</td>\n",
       "      <td>NASHVILLE</td>\n",
       "      <td>21.0</td>\n",
       "      <td>37203</td>\n",
       "      <td>36.156657</td>\n",
       "      <td>-86.806927</td>\n",
       "      <td>(36.156657, -86.806927)</td>\n",
       "    </tr>\n",
       "    <tr>\n",
       "      <th>49608</th>\n",
       "      <td>365064</td>\n",
       "      <td>New</td>\n",
       "      <td>COVID-19</td>\n",
       "      <td>COVID-19 Violations</td>\n",
       "      <td>COVID-19 Violations</td>\n",
       "      <td>05/12/2020 03:14:40 PM</td>\n",
       "      <td>NaN</td>\n",
       "      <td>Phone</td>\n",
       "      <td>NaN</td>\n",
       "      <td>NaN</td>\n",
       "      <td>...</td>\n",
       "      <td>False</td>\n",
       "      <td>NaN</td>\n",
       "      <td>False</td>\n",
       "      <td>1310 Charlotte Ave</td>\n",
       "      <td>NASHVILLE</td>\n",
       "      <td>19.0</td>\n",
       "      <td>37203</td>\n",
       "      <td>36.160860</td>\n",
       "      <td>-86.794140</td>\n",
       "      <td>(36.16086, -86.79414)</td>\n",
       "    </tr>\n",
       "  </tbody>\n",
       "</table>\n",
       "<p>5246 rows × 21 columns</p>\n",
       "</div>"
      ],
      "text/plain": [
       "       Request #  Status Request Type  \\\n",
       "0         353977  Closed     COVID-19   \n",
       "5         334780  Closed     COVID-19   \n",
       "38        334789  Closed     COVID-19   \n",
       "44        346122  Closed     COVID-19   \n",
       "66        354331  Closed     COVID-19   \n",
       "...          ...     ...          ...   \n",
       "49539     366206     New     COVID-19   \n",
       "49552     366061     New     COVID-19   \n",
       "49576     366040     New     COVID-19   \n",
       "49601     365070     New     COVID-19   \n",
       "49608     365064     New     COVID-19   \n",
       "\n",
       "                                         Subrequest Type  \\\n",
       "0      COVID-19 - Submit Input about The Plan to Reop...   \n",
       "5                                     COVID-19 Questions   \n",
       "38                                    COVID-19 Questions   \n",
       "44                                   COVID-19 Violations   \n",
       "66                                    COVID-19 Questions   \n",
       "...                                                  ...   \n",
       "49539                                COVID-19 Violations   \n",
       "49552                                COVID-19 Violations   \n",
       "49576                                 COVID-19 Questions   \n",
       "49601                                COVID-19 Violations   \n",
       "49608                                COVID-19 Violations   \n",
       "\n",
       "                              Additional Subrequest Type  \\\n",
       "0      COVID-19 - Submit Input about The Plan to Reop...   \n",
       "5                                                    NaN   \n",
       "38                                                   NaN   \n",
       "44                                   COVID-19 Violations   \n",
       "66                                                   NaN   \n",
       "...                                                  ...   \n",
       "49539                                COVID-19 Violations   \n",
       "49552                                COVID-19 Violations   \n",
       "49576                                                NaN   \n",
       "49601                                COVID-19 Violations   \n",
       "49608                                COVID-19 Violations   \n",
       "\n",
       "           Date / Time Opened      Date / Time Closed          Request Origin  \\\n",
       "0      04/28/2020 02:33:22 PM  04/28/2020 02:33:22 PM  hubNashville Community   \n",
       "5      03/28/2020 02:17:51 PM  03/28/2020 11:35:56 PM  hubNashville Community   \n",
       "38     03/28/2020 02:58:01 PM  04/01/2020 07:56:36 PM  hubNashville Community   \n",
       "44     04/15/2020 11:33:26 AM  04/16/2020 02:55:01 PM  hubNashville Community   \n",
       "66     04/28/2020 07:32:58 PM  05/08/2020 07:13:25 PM  hubNashville Community   \n",
       "...                       ...                     ...                     ...   \n",
       "49539  05/12/2020 10:32:57 PM                     NaN  hubNashville Community   \n",
       "49552  05/12/2020 08:30:52 PM                     NaN                   Phone   \n",
       "49576  05/12/2020 08:16:57 PM                     NaN                   Phone   \n",
       "49601  05/12/2020 03:16:36 PM                     NaN  hubNashville Community   \n",
       "49608  05/12/2020 03:14:40 PM                     NaN                   Phone   \n",
       "\n",
       "      System of Origin ID Contact Type  ...  State Issue  Parent Request  \\\n",
       "0                     NaN          NaN  ...        False             NaN   \n",
       "5                     NaN          NaN  ...        False             NaN   \n",
       "38                    NaN          NaN  ...        False             NaN   \n",
       "44                    NaN          NaN  ...        False             NaN   \n",
       "66                    NaN          NaN  ...        False             NaN   \n",
       "...                   ...          ...  ...          ...             ...   \n",
       "49539                 NaN          NaN  ...        False             NaN   \n",
       "49552                 NaN          NaN  ...        False             NaN   \n",
       "49576                 NaN          NaN  ...        False             NaN   \n",
       "49601                 NaN          NaN  ...        False             NaN   \n",
       "49608                 NaN          NaN  ...        False             NaN   \n",
       "\n",
       "       Closed When Created                Address       City Council District  \\\n",
       "0                     True                    NaN        NaN              NaN   \n",
       "5                    False                    NaN        NaN              NaN   \n",
       "38                   False                    NaN        NaN              NaN   \n",
       "44                   False          928 6th Ave S  NASHVILLE             17.0   \n",
       "66                   False                    NaN        NaN              NaN   \n",
       "...                    ...                    ...        ...              ...   \n",
       "49539                False                    NaN        NaN              NaN   \n",
       "49552                False    6009 Charlotte Pike  NASHVILLE             20.0   \n",
       "49576                False  325 White Bridge Pike  NASHVILLE             20.0   \n",
       "49601                False     2112 Charlotte Ave  NASHVILLE             21.0   \n",
       "49608                False     1310 Charlotte Ave  NASHVILLE             19.0   \n",
       "\n",
       "         ZIP   Latitude  Longitude                   Mapped Location  \n",
       "0        NaN        NaN        NaN                               NaN  \n",
       "5        NaN        NaN        NaN                               NaN  \n",
       "38       NaN        NaN        NaN                               NaN  \n",
       "44     37203  36.149040 -86.772273  (36.1490396, -86.77227289999999)  \n",
       "66       NaN        NaN        NaN                               NaN  \n",
       "...      ...        ...        ...                               ...  \n",
       "49539    NaN        NaN        NaN                               NaN  \n",
       "49552  37209  36.147990 -86.866340             (36.14799, -86.86634)  \n",
       "49576  37209  36.146590 -86.858890             (36.14659, -86.85889)  \n",
       "49601  37203  36.156657 -86.806927           (36.156657, -86.806927)  \n",
       "49608  37203  36.160860 -86.794140             (36.16086, -86.79414)  \n",
       "\n",
       "[5246 rows x 21 columns]"
      ]
     },
     "execution_count": 10,
     "metadata": {},
     "output_type": "execute_result"
    }
   ],
   "source": [
    "#covid_19_req = hub_data[hub_data['Request Type'] == 'COVID-19']\n",
    "first_request = hub_data[hub_data['Request Type'] == 'COVID-19']\n",
    "first_request"
   ]
  },
  {
   "cell_type": "code",
   "execution_count": 24,
   "metadata": {},
   "outputs": [
    {
     "data": {
      "text/html": [
       "<div>\n",
       "<style scoped>\n",
       "    .dataframe tbody tr th:only-of-type {\n",
       "        vertical-align: middle;\n",
       "    }\n",
       "\n",
       "    .dataframe tbody tr th {\n",
       "        vertical-align: top;\n",
       "    }\n",
       "\n",
       "    .dataframe thead th {\n",
       "        text-align: right;\n",
       "    }\n",
       "</style>\n",
       "<table border=\"1\" class=\"dataframe\">\n",
       "  <thead>\n",
       "    <tr style=\"text-align: right;\">\n",
       "      <th></th>\n",
       "      <th>Request #</th>\n",
       "      <th>Status</th>\n",
       "      <th>Request Type</th>\n",
       "      <th>Subrequest Type</th>\n",
       "      <th>Additional Subrequest Type</th>\n",
       "      <th>Date / Time Opened</th>\n",
       "      <th>Date / Time Closed</th>\n",
       "      <th>Request Origin</th>\n",
       "      <th>System of Origin ID</th>\n",
       "      <th>Contact Type</th>\n",
       "      <th>...</th>\n",
       "      <th>State Issue</th>\n",
       "      <th>Parent Request</th>\n",
       "      <th>Closed When Created</th>\n",
       "      <th>Address</th>\n",
       "      <th>City</th>\n",
       "      <th>Council District</th>\n",
       "      <th>ZIP</th>\n",
       "      <th>Latitude</th>\n",
       "      <th>Longitude</th>\n",
       "      <th>Mapped Location</th>\n",
       "    </tr>\n",
       "  </thead>\n",
       "  <tbody>\n",
       "    <tr>\n",
       "      <td>0</td>\n",
       "      <td>353977</td>\n",
       "      <td>Closed</td>\n",
       "      <td>COVID-19</td>\n",
       "      <td>COVID-19 - Submit Input about The Plan to Reop...</td>\n",
       "      <td>COVID-19 - Submit Input about The Plan to Reop...</td>\n",
       "      <td>04/28/2020 02:33:22 PM</td>\n",
       "      <td>04/28/2020 02:33:22 PM</td>\n",
       "      <td>hubNashville Community</td>\n",
       "      <td>NaN</td>\n",
       "      <td>NaN</td>\n",
       "      <td>...</td>\n",
       "      <td>False</td>\n",
       "      <td>NaN</td>\n",
       "      <td>True</td>\n",
       "      <td>NaN</td>\n",
       "      <td>NaN</td>\n",
       "      <td>NaN</td>\n",
       "      <td>NaN</td>\n",
       "      <td>NaN</td>\n",
       "      <td>NaN</td>\n",
       "      <td>NaN</td>\n",
       "    </tr>\n",
       "    <tr>\n",
       "      <td>5</td>\n",
       "      <td>334780</td>\n",
       "      <td>Closed</td>\n",
       "      <td>COVID-19</td>\n",
       "      <td>COVID-19 Questions</td>\n",
       "      <td>NaN</td>\n",
       "      <td>03/28/2020 02:17:51 PM</td>\n",
       "      <td>03/28/2020 11:35:56 PM</td>\n",
       "      <td>hubNashville Community</td>\n",
       "      <td>NaN</td>\n",
       "      <td>NaN</td>\n",
       "      <td>...</td>\n",
       "      <td>False</td>\n",
       "      <td>NaN</td>\n",
       "      <td>False</td>\n",
       "      <td>NaN</td>\n",
       "      <td>NaN</td>\n",
       "      <td>NaN</td>\n",
       "      <td>NaN</td>\n",
       "      <td>NaN</td>\n",
       "      <td>NaN</td>\n",
       "      <td>NaN</td>\n",
       "    </tr>\n",
       "    <tr>\n",
       "      <td>38</td>\n",
       "      <td>334789</td>\n",
       "      <td>Closed</td>\n",
       "      <td>COVID-19</td>\n",
       "      <td>COVID-19 Questions</td>\n",
       "      <td>NaN</td>\n",
       "      <td>03/28/2020 02:58:01 PM</td>\n",
       "      <td>04/01/2020 07:56:36 PM</td>\n",
       "      <td>hubNashville Community</td>\n",
       "      <td>NaN</td>\n",
       "      <td>NaN</td>\n",
       "      <td>...</td>\n",
       "      <td>False</td>\n",
       "      <td>NaN</td>\n",
       "      <td>False</td>\n",
       "      <td>NaN</td>\n",
       "      <td>NaN</td>\n",
       "      <td>NaN</td>\n",
       "      <td>NaN</td>\n",
       "      <td>NaN</td>\n",
       "      <td>NaN</td>\n",
       "      <td>NaN</td>\n",
       "    </tr>\n",
       "    <tr>\n",
       "      <td>44</td>\n",
       "      <td>346122</td>\n",
       "      <td>Closed</td>\n",
       "      <td>COVID-19</td>\n",
       "      <td>COVID-19 Violations</td>\n",
       "      <td>COVID-19 Violations</td>\n",
       "      <td>04/15/2020 11:33:26 AM</td>\n",
       "      <td>04/16/2020 02:55:01 PM</td>\n",
       "      <td>hubNashville Community</td>\n",
       "      <td>NaN</td>\n",
       "      <td>NaN</td>\n",
       "      <td>...</td>\n",
       "      <td>False</td>\n",
       "      <td>NaN</td>\n",
       "      <td>False</td>\n",
       "      <td>928 6th Ave S</td>\n",
       "      <td>NASHVILLE</td>\n",
       "      <td>17.0</td>\n",
       "      <td>37203</td>\n",
       "      <td>36.149040</td>\n",
       "      <td>-86.772273</td>\n",
       "      <td>(36.1490396, -86.77227289999999)</td>\n",
       "    </tr>\n",
       "    <tr>\n",
       "      <td>66</td>\n",
       "      <td>354331</td>\n",
       "      <td>Closed</td>\n",
       "      <td>COVID-19</td>\n",
       "      <td>COVID-19 Questions</td>\n",
       "      <td>NaN</td>\n",
       "      <td>04/28/2020 07:32:58 PM</td>\n",
       "      <td>05/08/2020 07:13:25 PM</td>\n",
       "      <td>hubNashville Community</td>\n",
       "      <td>NaN</td>\n",
       "      <td>NaN</td>\n",
       "      <td>...</td>\n",
       "      <td>False</td>\n",
       "      <td>NaN</td>\n",
       "      <td>False</td>\n",
       "      <td>NaN</td>\n",
       "      <td>NaN</td>\n",
       "      <td>NaN</td>\n",
       "      <td>NaN</td>\n",
       "      <td>NaN</td>\n",
       "      <td>NaN</td>\n",
       "      <td>NaN</td>\n",
       "    </tr>\n",
       "    <tr>\n",
       "      <td>...</td>\n",
       "      <td>...</td>\n",
       "      <td>...</td>\n",
       "      <td>...</td>\n",
       "      <td>...</td>\n",
       "      <td>...</td>\n",
       "      <td>...</td>\n",
       "      <td>...</td>\n",
       "      <td>...</td>\n",
       "      <td>...</td>\n",
       "      <td>...</td>\n",
       "      <td>...</td>\n",
       "      <td>...</td>\n",
       "      <td>...</td>\n",
       "      <td>...</td>\n",
       "      <td>...</td>\n",
       "      <td>...</td>\n",
       "      <td>...</td>\n",
       "      <td>...</td>\n",
       "      <td>...</td>\n",
       "      <td>...</td>\n",
       "      <td>...</td>\n",
       "    </tr>\n",
       "    <tr>\n",
       "      <td>49539</td>\n",
       "      <td>366206</td>\n",
       "      <td>New</td>\n",
       "      <td>COVID-19</td>\n",
       "      <td>COVID-19 Violations</td>\n",
       "      <td>COVID-19 Violations</td>\n",
       "      <td>05/12/2020 10:32:57 PM</td>\n",
       "      <td>NaN</td>\n",
       "      <td>hubNashville Community</td>\n",
       "      <td>NaN</td>\n",
       "      <td>NaN</td>\n",
       "      <td>...</td>\n",
       "      <td>False</td>\n",
       "      <td>NaN</td>\n",
       "      <td>False</td>\n",
       "      <td>NaN</td>\n",
       "      <td>NaN</td>\n",
       "      <td>NaN</td>\n",
       "      <td>NaN</td>\n",
       "      <td>NaN</td>\n",
       "      <td>NaN</td>\n",
       "      <td>NaN</td>\n",
       "    </tr>\n",
       "    <tr>\n",
       "      <td>49552</td>\n",
       "      <td>366061</td>\n",
       "      <td>New</td>\n",
       "      <td>COVID-19</td>\n",
       "      <td>COVID-19 Violations</td>\n",
       "      <td>COVID-19 Violations</td>\n",
       "      <td>05/12/2020 08:30:52 PM</td>\n",
       "      <td>NaN</td>\n",
       "      <td>Phone</td>\n",
       "      <td>NaN</td>\n",
       "      <td>NaN</td>\n",
       "      <td>...</td>\n",
       "      <td>False</td>\n",
       "      <td>NaN</td>\n",
       "      <td>False</td>\n",
       "      <td>6009 Charlotte Pike</td>\n",
       "      <td>NASHVILLE</td>\n",
       "      <td>20.0</td>\n",
       "      <td>37209</td>\n",
       "      <td>36.147990</td>\n",
       "      <td>-86.866340</td>\n",
       "      <td>(36.14799, -86.86634)</td>\n",
       "    </tr>\n",
       "    <tr>\n",
       "      <td>49576</td>\n",
       "      <td>366040</td>\n",
       "      <td>New</td>\n",
       "      <td>COVID-19</td>\n",
       "      <td>COVID-19 Questions</td>\n",
       "      <td>NaN</td>\n",
       "      <td>05/12/2020 08:16:57 PM</td>\n",
       "      <td>NaN</td>\n",
       "      <td>Phone</td>\n",
       "      <td>NaN</td>\n",
       "      <td>NaN</td>\n",
       "      <td>...</td>\n",
       "      <td>False</td>\n",
       "      <td>NaN</td>\n",
       "      <td>False</td>\n",
       "      <td>325 White Bridge Pike</td>\n",
       "      <td>NASHVILLE</td>\n",
       "      <td>20.0</td>\n",
       "      <td>37209</td>\n",
       "      <td>36.146590</td>\n",
       "      <td>-86.858890</td>\n",
       "      <td>(36.14659, -86.85889)</td>\n",
       "    </tr>\n",
       "    <tr>\n",
       "      <td>49601</td>\n",
       "      <td>365070</td>\n",
       "      <td>New</td>\n",
       "      <td>COVID-19</td>\n",
       "      <td>COVID-19 Violations</td>\n",
       "      <td>COVID-19 Violations</td>\n",
       "      <td>05/12/2020 03:16:36 PM</td>\n",
       "      <td>NaN</td>\n",
       "      <td>hubNashville Community</td>\n",
       "      <td>NaN</td>\n",
       "      <td>NaN</td>\n",
       "      <td>...</td>\n",
       "      <td>False</td>\n",
       "      <td>NaN</td>\n",
       "      <td>False</td>\n",
       "      <td>2112 Charlotte Ave</td>\n",
       "      <td>NASHVILLE</td>\n",
       "      <td>21.0</td>\n",
       "      <td>37203</td>\n",
       "      <td>36.156657</td>\n",
       "      <td>-86.806927</td>\n",
       "      <td>(36.156657, -86.806927)</td>\n",
       "    </tr>\n",
       "    <tr>\n",
       "      <td>49608</td>\n",
       "      <td>365064</td>\n",
       "      <td>New</td>\n",
       "      <td>COVID-19</td>\n",
       "      <td>COVID-19 Violations</td>\n",
       "      <td>COVID-19 Violations</td>\n",
       "      <td>05/12/2020 03:14:40 PM</td>\n",
       "      <td>NaN</td>\n",
       "      <td>Phone</td>\n",
       "      <td>NaN</td>\n",
       "      <td>NaN</td>\n",
       "      <td>...</td>\n",
       "      <td>False</td>\n",
       "      <td>NaN</td>\n",
       "      <td>False</td>\n",
       "      <td>1310 Charlotte Ave</td>\n",
       "      <td>NASHVILLE</td>\n",
       "      <td>19.0</td>\n",
       "      <td>37203</td>\n",
       "      <td>36.160860</td>\n",
       "      <td>-86.794140</td>\n",
       "      <td>(36.16086, -86.79414)</td>\n",
       "    </tr>\n",
       "  </tbody>\n",
       "</table>\n",
       "<p>5246 rows × 21 columns</p>\n",
       "</div>"
      ],
      "text/plain": [
       "       Request #  Status Request Type  \\\n",
       "0         353977  Closed     COVID-19   \n",
       "5         334780  Closed     COVID-19   \n",
       "38        334789  Closed     COVID-19   \n",
       "44        346122  Closed     COVID-19   \n",
       "66        354331  Closed     COVID-19   \n",
       "...          ...     ...          ...   \n",
       "49539     366206     New     COVID-19   \n",
       "49552     366061     New     COVID-19   \n",
       "49576     366040     New     COVID-19   \n",
       "49601     365070     New     COVID-19   \n",
       "49608     365064     New     COVID-19   \n",
       "\n",
       "                                         Subrequest Type  \\\n",
       "0      COVID-19 - Submit Input about The Plan to Reop...   \n",
       "5                                     COVID-19 Questions   \n",
       "38                                    COVID-19 Questions   \n",
       "44                                   COVID-19 Violations   \n",
       "66                                    COVID-19 Questions   \n",
       "...                                                  ...   \n",
       "49539                                COVID-19 Violations   \n",
       "49552                                COVID-19 Violations   \n",
       "49576                                 COVID-19 Questions   \n",
       "49601                                COVID-19 Violations   \n",
       "49608                                COVID-19 Violations   \n",
       "\n",
       "                              Additional Subrequest Type  \\\n",
       "0      COVID-19 - Submit Input about The Plan to Reop...   \n",
       "5                                                    NaN   \n",
       "38                                                   NaN   \n",
       "44                                   COVID-19 Violations   \n",
       "66                                                   NaN   \n",
       "...                                                  ...   \n",
       "49539                                COVID-19 Violations   \n",
       "49552                                COVID-19 Violations   \n",
       "49576                                                NaN   \n",
       "49601                                COVID-19 Violations   \n",
       "49608                                COVID-19 Violations   \n",
       "\n",
       "           Date / Time Opened      Date / Time Closed          Request Origin  \\\n",
       "0      04/28/2020 02:33:22 PM  04/28/2020 02:33:22 PM  hubNashville Community   \n",
       "5      03/28/2020 02:17:51 PM  03/28/2020 11:35:56 PM  hubNashville Community   \n",
       "38     03/28/2020 02:58:01 PM  04/01/2020 07:56:36 PM  hubNashville Community   \n",
       "44     04/15/2020 11:33:26 AM  04/16/2020 02:55:01 PM  hubNashville Community   \n",
       "66     04/28/2020 07:32:58 PM  05/08/2020 07:13:25 PM  hubNashville Community   \n",
       "...                       ...                     ...                     ...   \n",
       "49539  05/12/2020 10:32:57 PM                     NaN  hubNashville Community   \n",
       "49552  05/12/2020 08:30:52 PM                     NaN                   Phone   \n",
       "49576  05/12/2020 08:16:57 PM                     NaN                   Phone   \n",
       "49601  05/12/2020 03:16:36 PM                     NaN  hubNashville Community   \n",
       "49608  05/12/2020 03:14:40 PM                     NaN                   Phone   \n",
       "\n",
       "      System of Origin ID Contact Type  ...  State Issue  Parent Request  \\\n",
       "0                     NaN          NaN  ...        False             NaN   \n",
       "5                     NaN          NaN  ...        False             NaN   \n",
       "38                    NaN          NaN  ...        False             NaN   \n",
       "44                    NaN          NaN  ...        False             NaN   \n",
       "66                    NaN          NaN  ...        False             NaN   \n",
       "...                   ...          ...  ...          ...             ...   \n",
       "49539                 NaN          NaN  ...        False             NaN   \n",
       "49552                 NaN          NaN  ...        False             NaN   \n",
       "49576                 NaN          NaN  ...        False             NaN   \n",
       "49601                 NaN          NaN  ...        False             NaN   \n",
       "49608                 NaN          NaN  ...        False             NaN   \n",
       "\n",
       "       Closed When Created                Address       City Council District  \\\n",
       "0                     True                    NaN        NaN              NaN   \n",
       "5                    False                    NaN        NaN              NaN   \n",
       "38                   False                    NaN        NaN              NaN   \n",
       "44                   False          928 6th Ave S  NASHVILLE             17.0   \n",
       "66                   False                    NaN        NaN              NaN   \n",
       "...                    ...                    ...        ...              ...   \n",
       "49539                False                    NaN        NaN              NaN   \n",
       "49552                False    6009 Charlotte Pike  NASHVILLE             20.0   \n",
       "49576                False  325 White Bridge Pike  NASHVILLE             20.0   \n",
       "49601                False     2112 Charlotte Ave  NASHVILLE             21.0   \n",
       "49608                False     1310 Charlotte Ave  NASHVILLE             19.0   \n",
       "\n",
       "         ZIP   Latitude  Longitude                   Mapped Location  \n",
       "0        NaN        NaN        NaN                               NaN  \n",
       "5        NaN        NaN        NaN                               NaN  \n",
       "38       NaN        NaN        NaN                               NaN  \n",
       "44     37203  36.149040 -86.772273  (36.1490396, -86.77227289999999)  \n",
       "66       NaN        NaN        NaN                               NaN  \n",
       "...      ...        ...        ...                               ...  \n",
       "49539    NaN        NaN        NaN                               NaN  \n",
       "49552  37209  36.147990 -86.866340             (36.14799, -86.86634)  \n",
       "49576  37209  36.146590 -86.858890             (36.14659, -86.85889)  \n",
       "49601  37203  36.156657 -86.806927           (36.156657, -86.806927)  \n",
       "49608  37203  36.160860 -86.794140             (36.16086, -86.79414)  \n",
       "\n",
       "[5246 rows x 21 columns]"
      ]
     },
     "execution_count": 24,
     "metadata": {},
     "output_type": "execute_result"
    }
   ],
   "source": [
    "#covid_19_req = hub_data[hub_data['Request Type'] == 'COVID-19']\n",
    "first_request = hub_data.loc[lambda hub_data: hub_data['Request Type'] == 'COVID-19']\n",
    "first_request"
   ]
  },
  {
   "cell_type": "code",
   "execution_count": 11,
   "metadata": {},
   "outputs": [
    {
     "data": {
      "text/plain": [
       "Request #                       int64\n",
       "Status                         object\n",
       "Request Type                   object\n",
       "Subrequest Type                object\n",
       "Additional Subrequest Type     object\n",
       "Date / Time Opened             object\n",
       "Date / Time Closed             object\n",
       "Request Origin                 object\n",
       "System of Origin ID            object\n",
       "Contact Type                   object\n",
       "Preferred Language            float64\n",
       "State Issue                      bool\n",
       "Parent Request                float64\n",
       "Closed When Created              bool\n",
       "Address                        object\n",
       "City                           object\n",
       "Council District              float64\n",
       "ZIP                            object\n",
       "Latitude                      float64\n",
       "Longitude                     float64\n",
       "Mapped Location                object\n",
       "dtype: object"
      ]
     },
     "execution_count": 11,
     "metadata": {},
     "output_type": "execute_result"
    }
   ],
   "source": [
    "hub_data.dtypes"
   ]
  },
  {
   "cell_type": "code",
   "execution_count": 12,
   "metadata": {},
   "outputs": [
    {
     "data": {
      "text/plain": [
       "Closed         338421\n",
       "In Progress      6510\n",
       "New              2509\n",
       "Assigned          894\n",
       "Transferred       315\n",
       "On Hold            17\n",
       "Denied              2\n",
       "In Process          1\n",
       "Completed           1\n",
       "Escalated           1\n",
       "Name: Status, dtype: int64"
      ]
     },
     "execution_count": 12,
     "metadata": {},
     "output_type": "execute_result"
    }
   ],
   "source": [
    "hub_data['Status'].value_counts()"
   ]
  },
  {
   "cell_type": "code",
   "execution_count": 13,
   "metadata": {},
   "outputs": [
    {
     "data": {
      "text/plain": [
       "Trash, Recycling & Litter     145146\n",
       "Streets, Roads & Sidewalks     84830\n",
       "Quick Requests                 64659\n",
       "Property Violations            20651\n",
       "Public Safety                   9733\n",
       "COVID-19                        5246\n",
       "Other                           4814\n",
       "Electric & Water General        4354\n",
       "Transit                         3692\n",
       "Hands On Volunteers             2637\n",
       "Permits                         1322\n",
       "Parks                           1070\n",
       "Planning & Zoning                250\n",
       "Storm Relief                     167\n",
       "Education & Libraries             22\n",
       "Workforce & Jobs                   8\n",
       "Public Records Request             2\n",
       "Name: Request Type, dtype: int64"
      ]
     },
     "execution_count": 13,
     "metadata": {},
     "output_type": "execute_result"
    }
   ],
   "source": [
    "hub_data['Request Type'].value_counts()"
   ]
  },
  {
   "cell_type": "code",
   "execution_count": 14,
   "metadata": {},
   "outputs": [],
   "source": [
    "subrequest_counts = hub_data['Subrequest Type'].value_counts()"
   ]
  },
  {
   "cell_type": "code",
   "execution_count": 15,
   "metadata": {
    "scrolled": true
   },
   "outputs": [
    {
     "data": {
      "text/plain": [
       "Quick Requests                          54141\n",
       "Cart Service                            38339\n",
       "Missed Pickup - Trash Cart Service      26338\n",
       "Missed Pickup - Recycle Cart Service    19381\n",
       "File a Trash or Recycling Complaint     16511\n",
       "Blocking the Right of Way               14585\n",
       "New Service/Activate Service            14086\n",
       "Extra Cart Pickup Request                9219\n",
       "Potholes                                 8912\n",
       "Illegal Dumping                          8831\n",
       "Traffic Light Issue                      7370\n",
       "Control Number Request for Towing        6016\n",
       "Junk and Debris                          5753\n",
       "Dead Animal Pickup                       5398\n",
       "Damaged Sign                             4611\n",
       "Tree Maintenance on right of way         4369\n",
       "Tall Grass and Weeds                     4302\n",
       "Overgrowth on right of way               4064\n",
       "Residential Complaint                    3770\n",
       "State Routes                             3248\n",
       "Litter                                   3030\n",
       "COVID-19 Violations                      2976\n",
       "Street Lighting                          2938\n",
       "Remove debris in roadway                 2810\n",
       "Hands On Volunteers                      2637\n",
       "Mayor's Office Case                      2563\n",
       "Brush Collection                         2530\n",
       "Unwanted Recycling or Trash              2467\n",
       "Abandoned Vehicles                       2375\n",
       "Other                                    2275\n",
       "Traffic Engineering                      2268\n",
       "Paving Request                           2251\n",
       "Request New Sign                         2230\n",
       "Cars Parked on Lawn                      2190\n",
       "Sidewalks                                1976\n",
       "Oops Tags                                1882\n",
       "Traffic Light Timing                     1881\n",
       "Other-Trash / Recycle                    1751\n",
       "Obstruction of right of way              1607\n",
       "Roadwork Complaint                       1471\n",
       "Name: Subrequest Type, dtype: int64"
      ]
     },
     "execution_count": 15,
     "metadata": {},
     "output_type": "execute_result"
    }
   ],
   "source": [
    "subrequest_counts.head(40)"
   ]
  },
  {
   "cell_type": "code",
   "execution_count": 30,
   "metadata": {},
   "outputs": [
    {
     "data": {
      "text/plain": [
       "pandas.core.series.Series"
      ]
     },
     "execution_count": 30,
     "metadata": {},
     "output_type": "execute_result"
    }
   ],
   "source": [
    "type(subrequest_counts)"
   ]
  },
  {
   "cell_type": "code",
   "execution_count": 16,
   "metadata": {},
   "outputs": [
    {
     "data": {
      "text/html": [
       "<div>\n",
       "<style scoped>\n",
       "    .dataframe tbody tr th:only-of-type {\n",
       "        vertical-align: middle;\n",
       "    }\n",
       "\n",
       "    .dataframe tbody tr th {\n",
       "        vertical-align: top;\n",
       "    }\n",
       "\n",
       "    .dataframe thead th {\n",
       "        text-align: right;\n",
       "    }\n",
       "</style>\n",
       "<table border=\"1\" class=\"dataframe\">\n",
       "  <thead>\n",
       "    <tr style=\"text-align: right;\">\n",
       "      <th></th>\n",
       "      <th>Request #</th>\n",
       "      <th>Status</th>\n",
       "      <th>Request Type</th>\n",
       "      <th>Subrequest Type</th>\n",
       "      <th>Additional Subrequest Type</th>\n",
       "      <th>Date / Time Opened</th>\n",
       "      <th>Date / Time Closed</th>\n",
       "      <th>Request Origin</th>\n",
       "      <th>System of Origin ID</th>\n",
       "      <th>Contact Type</th>\n",
       "      <th>...</th>\n",
       "      <th>State Issue</th>\n",
       "      <th>Parent Request</th>\n",
       "      <th>Closed When Created</th>\n",
       "      <th>Address</th>\n",
       "      <th>City</th>\n",
       "      <th>Council District</th>\n",
       "      <th>ZIP</th>\n",
       "      <th>Latitude</th>\n",
       "      <th>Longitude</th>\n",
       "      <th>Mapped Location</th>\n",
       "    </tr>\n",
       "  </thead>\n",
       "  <tbody>\n",
       "    <tr>\n",
       "      <th>0</th>\n",
       "      <td>353977</td>\n",
       "      <td>Closed</td>\n",
       "      <td>COVID-19</td>\n",
       "      <td>COVID-19 - Submit Input about The Plan to Reop...</td>\n",
       "      <td>COVID-19 - Submit Input about The Plan to Reop...</td>\n",
       "      <td>04/28/2020 02:33:22 PM</td>\n",
       "      <td>04/28/2020 02:33:22 PM</td>\n",
       "      <td>hubNashville Community</td>\n",
       "      <td>NaN</td>\n",
       "      <td>NaN</td>\n",
       "      <td>...</td>\n",
       "      <td>False</td>\n",
       "      <td>NaN</td>\n",
       "      <td>True</td>\n",
       "      <td>NaN</td>\n",
       "      <td>NaN</td>\n",
       "      <td>NaN</td>\n",
       "      <td>NaN</td>\n",
       "      <td>NaN</td>\n",
       "      <td>NaN</td>\n",
       "      <td>NaN</td>\n",
       "    </tr>\n",
       "    <tr>\n",
       "      <th>1</th>\n",
       "      <td>354524</td>\n",
       "      <td>Closed</td>\n",
       "      <td>Quick Requests</td>\n",
       "      <td>Quick Requests</td>\n",
       "      <td>NaN</td>\n",
       "      <td>04/28/2020 09:46:53 PM</td>\n",
       "      <td>04/28/2020 09:46:53 PM</td>\n",
       "      <td>Phone</td>\n",
       "      <td>NaN</td>\n",
       "      <td>NaN</td>\n",
       "      <td>...</td>\n",
       "      <td>False</td>\n",
       "      <td>NaN</td>\n",
       "      <td>True</td>\n",
       "      <td>NaN</td>\n",
       "      <td>NaN</td>\n",
       "      <td>NaN</td>\n",
       "      <td>NaN</td>\n",
       "      <td>NaN</td>\n",
       "      <td>NaN</td>\n",
       "      <td>NaN</td>\n",
       "    </tr>\n",
       "    <tr>\n",
       "      <th>2</th>\n",
       "      <td>354188</td>\n",
       "      <td>Closed</td>\n",
       "      <td>Quick Requests</td>\n",
       "      <td>Quick Requests</td>\n",
       "      <td>NaN</td>\n",
       "      <td>04/28/2020 05:09:02 PM</td>\n",
       "      <td>04/28/2020 05:09:02 PM</td>\n",
       "      <td>Phone</td>\n",
       "      <td>NaN</td>\n",
       "      <td>NaN</td>\n",
       "      <td>...</td>\n",
       "      <td>False</td>\n",
       "      <td>NaN</td>\n",
       "      <td>True</td>\n",
       "      <td>NaN</td>\n",
       "      <td>NaN</td>\n",
       "      <td>NaN</td>\n",
       "      <td>NaN</td>\n",
       "      <td>NaN</td>\n",
       "      <td>NaN</td>\n",
       "      <td>NaN</td>\n",
       "    </tr>\n",
       "    <tr>\n",
       "      <th>3</th>\n",
       "      <td>354445</td>\n",
       "      <td>Closed</td>\n",
       "      <td>Quick Requests</td>\n",
       "      <td>Quick Requests</td>\n",
       "      <td>NaN</td>\n",
       "      <td>04/28/2020 08:50:36 PM</td>\n",
       "      <td>04/28/2020 08:50:36 PM</td>\n",
       "      <td>Phone</td>\n",
       "      <td>NaN</td>\n",
       "      <td>NaN</td>\n",
       "      <td>...</td>\n",
       "      <td>False</td>\n",
       "      <td>NaN</td>\n",
       "      <td>True</td>\n",
       "      <td>NaN</td>\n",
       "      <td>NaN</td>\n",
       "      <td>NaN</td>\n",
       "      <td>NaN</td>\n",
       "      <td>NaN</td>\n",
       "      <td>NaN</td>\n",
       "      <td>NaN</td>\n",
       "    </tr>\n",
       "    <tr>\n",
       "      <th>4</th>\n",
       "      <td>334893</td>\n",
       "      <td>Closed</td>\n",
       "      <td>Public Safety</td>\n",
       "      <td>Control Number Request for Towing</td>\n",
       "      <td>NaN</td>\n",
       "      <td>03/29/2020 01:08:55 AM</td>\n",
       "      <td>03/29/2020 01:08:55 AM</td>\n",
       "      <td>hubNashville Community</td>\n",
       "      <td>NaN</td>\n",
       "      <td>NaN</td>\n",
       "      <td>...</td>\n",
       "      <td>False</td>\n",
       "      <td>NaN</td>\n",
       "      <td>True</td>\n",
       "      <td>Long Hollow Pike &amp; Northcreek Blvd</td>\n",
       "      <td>GOODLETTSVILLE</td>\n",
       "      <td>10.0</td>\n",
       "      <td>37072</td>\n",
       "      <td>36.32619</td>\n",
       "      <td>-86.700618</td>\n",
       "      <td>(36.32619, -86.70061799999999)</td>\n",
       "    </tr>\n",
       "  </tbody>\n",
       "</table>\n",
       "<p>5 rows × 21 columns</p>\n",
       "</div>"
      ],
      "text/plain": [
       "   Request #  Status    Request Type  \\\n",
       "0     353977  Closed        COVID-19   \n",
       "1     354524  Closed  Quick Requests   \n",
       "2     354188  Closed  Quick Requests   \n",
       "3     354445  Closed  Quick Requests   \n",
       "4     334893  Closed   Public Safety   \n",
       "\n",
       "                                     Subrequest Type  \\\n",
       "0  COVID-19 - Submit Input about The Plan to Reop...   \n",
       "1                                     Quick Requests   \n",
       "2                                     Quick Requests   \n",
       "3                                     Quick Requests   \n",
       "4                  Control Number Request for Towing   \n",
       "\n",
       "                          Additional Subrequest Type      Date / Time Opened  \\\n",
       "0  COVID-19 - Submit Input about The Plan to Reop...  04/28/2020 02:33:22 PM   \n",
       "1                                                NaN  04/28/2020 09:46:53 PM   \n",
       "2                                                NaN  04/28/2020 05:09:02 PM   \n",
       "3                                                NaN  04/28/2020 08:50:36 PM   \n",
       "4                                                NaN  03/29/2020 01:08:55 AM   \n",
       "\n",
       "       Date / Time Closed          Request Origin System of Origin ID  \\\n",
       "0  04/28/2020 02:33:22 PM  hubNashville Community                 NaN   \n",
       "1  04/28/2020 09:46:53 PM                   Phone                 NaN   \n",
       "2  04/28/2020 05:09:02 PM                   Phone                 NaN   \n",
       "3  04/28/2020 08:50:36 PM                   Phone                 NaN   \n",
       "4  03/29/2020 01:08:55 AM  hubNashville Community                 NaN   \n",
       "\n",
       "  Contact Type  ...  State Issue  Parent Request  Closed When Created  \\\n",
       "0          NaN  ...        False             NaN                 True   \n",
       "1          NaN  ...        False             NaN                 True   \n",
       "2          NaN  ...        False             NaN                 True   \n",
       "3          NaN  ...        False             NaN                 True   \n",
       "4          NaN  ...        False             NaN                 True   \n",
       "\n",
       "                              Address            City Council District    ZIP  \\\n",
       "0                                 NaN             NaN              NaN    NaN   \n",
       "1                                 NaN             NaN              NaN    NaN   \n",
       "2                                 NaN             NaN              NaN    NaN   \n",
       "3                                 NaN             NaN              NaN    NaN   \n",
       "4  Long Hollow Pike & Northcreek Blvd  GOODLETTSVILLE             10.0  37072   \n",
       "\n",
       "   Latitude  Longitude                 Mapped Location  \n",
       "0       NaN        NaN                             NaN  \n",
       "1       NaN        NaN                             NaN  \n",
       "2       NaN        NaN                             NaN  \n",
       "3       NaN        NaN                             NaN  \n",
       "4  36.32619 -86.700618  (36.32619, -86.70061799999999)  \n",
       "\n",
       "[5 rows x 21 columns]"
      ]
     },
     "execution_count": 16,
     "metadata": {},
     "output_type": "execute_result"
    }
   ],
   "source": [
    "hub_data.head(5)"
   ]
  },
  {
   "cell_type": "markdown",
   "metadata": {},
   "source": [
    "### Bobcat Question 2\n",
    "- Aggregate count of subrequest type by hour/month\n",
    "- How many of each request type are open at a given time to help staff forecast when heavy request load will occur.\n",
    "    - decided to only use request type because subrequest is not informative for staff planning\n",
    "- Consider dividing into 6hr chunks/bins for unit of analysis (morning, afternoon, evening, night)\n"
   ]
  },
  {
   "cell_type": "markdown",
   "metadata": {},
   "source": [
    "#### Converting columns to datetime datatype"
   ]
  },
  {
   "cell_type": "code",
   "execution_count": 17,
   "metadata": {},
   "outputs": [],
   "source": [
    "hub_data['Date / Time Opened'] = pd.to_datetime(hub_data['Date / Time Opened'])\n",
    "hub_data['Date / Time Closed'] = pd.to_datetime(hub_data['Date / Time Closed'])"
   ]
  },
  {
   "cell_type": "code",
   "execution_count": 18,
   "metadata": {
    "scrolled": true
   },
   "outputs": [
    {
     "data": {
      "text/plain": [
       "Request #                              int64\n",
       "Status                                object\n",
       "Request Type                          object\n",
       "Subrequest Type                       object\n",
       "Additional Subrequest Type            object\n",
       "Date / Time Opened            datetime64[ns]\n",
       "Date / Time Closed            datetime64[ns]\n",
       "Request Origin                        object\n",
       "System of Origin ID                   object\n",
       "Contact Type                          object\n",
       "Preferred Language                   float64\n",
       "State Issue                             bool\n",
       "Parent Request                       float64\n",
       "Closed When Created                     bool\n",
       "Address                               object\n",
       "City                                  object\n",
       "Council District                     float64\n",
       "ZIP                                   object\n",
       "Latitude                             float64\n",
       "Longitude                            float64\n",
       "Mapped Location                       object\n",
       "dtype: object"
      ]
     },
     "execution_count": 18,
     "metadata": {},
     "output_type": "execute_result"
    }
   ],
   "source": [
    "hub_data.dtypes"
   ]
  },
  {
   "cell_type": "markdown",
   "metadata": {},
   "source": [
    "#### Create hour column"
   ]
  },
  {
   "cell_type": "code",
   "execution_count": 19,
   "metadata": {},
   "outputs": [
    {
     "data": {
      "text/html": [
       "<div>\n",
       "<style scoped>\n",
       "    .dataframe tbody tr th:only-of-type {\n",
       "        vertical-align: middle;\n",
       "    }\n",
       "\n",
       "    .dataframe tbody tr th {\n",
       "        vertical-align: top;\n",
       "    }\n",
       "\n",
       "    .dataframe thead th {\n",
       "        text-align: right;\n",
       "    }\n",
       "</style>\n",
       "<table border=\"1\" class=\"dataframe\">\n",
       "  <thead>\n",
       "    <tr style=\"text-align: right;\">\n",
       "      <th></th>\n",
       "      <th>Request #</th>\n",
       "      <th>Status</th>\n",
       "      <th>Request Type</th>\n",
       "      <th>Subrequest Type</th>\n",
       "      <th>Additional Subrequest Type</th>\n",
       "      <th>Date / Time Opened</th>\n",
       "      <th>Date / Time Closed</th>\n",
       "      <th>Request Origin</th>\n",
       "      <th>System of Origin ID</th>\n",
       "      <th>Contact Type</th>\n",
       "      <th>...</th>\n",
       "      <th>Parent Request</th>\n",
       "      <th>Closed When Created</th>\n",
       "      <th>Address</th>\n",
       "      <th>City</th>\n",
       "      <th>Council District</th>\n",
       "      <th>ZIP</th>\n",
       "      <th>Latitude</th>\n",
       "      <th>Longitude</th>\n",
       "      <th>Mapped Location</th>\n",
       "      <th>hour_opened</th>\n",
       "    </tr>\n",
       "  </thead>\n",
       "  <tbody>\n",
       "    <tr>\n",
       "      <th>0</th>\n",
       "      <td>353977</td>\n",
       "      <td>Closed</td>\n",
       "      <td>COVID-19</td>\n",
       "      <td>COVID-19 - Submit Input about The Plan to Reop...</td>\n",
       "      <td>COVID-19 - Submit Input about The Plan to Reop...</td>\n",
       "      <td>2020-04-28 14:33:22</td>\n",
       "      <td>2020-04-28 14:33:22</td>\n",
       "      <td>hubNashville Community</td>\n",
       "      <td>NaN</td>\n",
       "      <td>NaN</td>\n",
       "      <td>...</td>\n",
       "      <td>NaN</td>\n",
       "      <td>True</td>\n",
       "      <td>NaN</td>\n",
       "      <td>NaN</td>\n",
       "      <td>NaN</td>\n",
       "      <td>NaN</td>\n",
       "      <td>NaN</td>\n",
       "      <td>NaN</td>\n",
       "      <td>NaN</td>\n",
       "      <td>14</td>\n",
       "    </tr>\n",
       "    <tr>\n",
       "      <th>1</th>\n",
       "      <td>354524</td>\n",
       "      <td>Closed</td>\n",
       "      <td>Quick Requests</td>\n",
       "      <td>Quick Requests</td>\n",
       "      <td>NaN</td>\n",
       "      <td>2020-04-28 21:46:53</td>\n",
       "      <td>2020-04-28 21:46:53</td>\n",
       "      <td>Phone</td>\n",
       "      <td>NaN</td>\n",
       "      <td>NaN</td>\n",
       "      <td>...</td>\n",
       "      <td>NaN</td>\n",
       "      <td>True</td>\n",
       "      <td>NaN</td>\n",
       "      <td>NaN</td>\n",
       "      <td>NaN</td>\n",
       "      <td>NaN</td>\n",
       "      <td>NaN</td>\n",
       "      <td>NaN</td>\n",
       "      <td>NaN</td>\n",
       "      <td>21</td>\n",
       "    </tr>\n",
       "    <tr>\n",
       "      <th>2</th>\n",
       "      <td>354188</td>\n",
       "      <td>Closed</td>\n",
       "      <td>Quick Requests</td>\n",
       "      <td>Quick Requests</td>\n",
       "      <td>NaN</td>\n",
       "      <td>2020-04-28 17:09:02</td>\n",
       "      <td>2020-04-28 17:09:02</td>\n",
       "      <td>Phone</td>\n",
       "      <td>NaN</td>\n",
       "      <td>NaN</td>\n",
       "      <td>...</td>\n",
       "      <td>NaN</td>\n",
       "      <td>True</td>\n",
       "      <td>NaN</td>\n",
       "      <td>NaN</td>\n",
       "      <td>NaN</td>\n",
       "      <td>NaN</td>\n",
       "      <td>NaN</td>\n",
       "      <td>NaN</td>\n",
       "      <td>NaN</td>\n",
       "      <td>17</td>\n",
       "    </tr>\n",
       "    <tr>\n",
       "      <th>3</th>\n",
       "      <td>354445</td>\n",
       "      <td>Closed</td>\n",
       "      <td>Quick Requests</td>\n",
       "      <td>Quick Requests</td>\n",
       "      <td>NaN</td>\n",
       "      <td>2020-04-28 20:50:36</td>\n",
       "      <td>2020-04-28 20:50:36</td>\n",
       "      <td>Phone</td>\n",
       "      <td>NaN</td>\n",
       "      <td>NaN</td>\n",
       "      <td>...</td>\n",
       "      <td>NaN</td>\n",
       "      <td>True</td>\n",
       "      <td>NaN</td>\n",
       "      <td>NaN</td>\n",
       "      <td>NaN</td>\n",
       "      <td>NaN</td>\n",
       "      <td>NaN</td>\n",
       "      <td>NaN</td>\n",
       "      <td>NaN</td>\n",
       "      <td>20</td>\n",
       "    </tr>\n",
       "    <tr>\n",
       "      <th>4</th>\n",
       "      <td>334893</td>\n",
       "      <td>Closed</td>\n",
       "      <td>Public Safety</td>\n",
       "      <td>Control Number Request for Towing</td>\n",
       "      <td>NaN</td>\n",
       "      <td>2020-03-29 01:08:55</td>\n",
       "      <td>2020-03-29 01:08:55</td>\n",
       "      <td>hubNashville Community</td>\n",
       "      <td>NaN</td>\n",
       "      <td>NaN</td>\n",
       "      <td>...</td>\n",
       "      <td>NaN</td>\n",
       "      <td>True</td>\n",
       "      <td>Long Hollow Pike &amp; Northcreek Blvd</td>\n",
       "      <td>GOODLETTSVILLE</td>\n",
       "      <td>10.0</td>\n",
       "      <td>37072</td>\n",
       "      <td>36.32619</td>\n",
       "      <td>-86.700618</td>\n",
       "      <td>(36.32619, -86.70061799999999)</td>\n",
       "      <td>1</td>\n",
       "    </tr>\n",
       "  </tbody>\n",
       "</table>\n",
       "<p>5 rows × 22 columns</p>\n",
       "</div>"
      ],
      "text/plain": [
       "   Request #  Status    Request Type  \\\n",
       "0     353977  Closed        COVID-19   \n",
       "1     354524  Closed  Quick Requests   \n",
       "2     354188  Closed  Quick Requests   \n",
       "3     354445  Closed  Quick Requests   \n",
       "4     334893  Closed   Public Safety   \n",
       "\n",
       "                                     Subrequest Type  \\\n",
       "0  COVID-19 - Submit Input about The Plan to Reop...   \n",
       "1                                     Quick Requests   \n",
       "2                                     Quick Requests   \n",
       "3                                     Quick Requests   \n",
       "4                  Control Number Request for Towing   \n",
       "\n",
       "                          Additional Subrequest Type  Date / Time Opened  \\\n",
       "0  COVID-19 - Submit Input about The Plan to Reop... 2020-04-28 14:33:22   \n",
       "1                                                NaN 2020-04-28 21:46:53   \n",
       "2                                                NaN 2020-04-28 17:09:02   \n",
       "3                                                NaN 2020-04-28 20:50:36   \n",
       "4                                                NaN 2020-03-29 01:08:55   \n",
       "\n",
       "   Date / Time Closed          Request Origin System of Origin ID  \\\n",
       "0 2020-04-28 14:33:22  hubNashville Community                 NaN   \n",
       "1 2020-04-28 21:46:53                   Phone                 NaN   \n",
       "2 2020-04-28 17:09:02                   Phone                 NaN   \n",
       "3 2020-04-28 20:50:36                   Phone                 NaN   \n",
       "4 2020-03-29 01:08:55  hubNashville Community                 NaN   \n",
       "\n",
       "  Contact Type  ...  Parent Request  Closed When Created  \\\n",
       "0          NaN  ...             NaN                 True   \n",
       "1          NaN  ...             NaN                 True   \n",
       "2          NaN  ...             NaN                 True   \n",
       "3          NaN  ...             NaN                 True   \n",
       "4          NaN  ...             NaN                 True   \n",
       "\n",
       "                              Address            City Council District    ZIP  \\\n",
       "0                                 NaN             NaN              NaN    NaN   \n",
       "1                                 NaN             NaN              NaN    NaN   \n",
       "2                                 NaN             NaN              NaN    NaN   \n",
       "3                                 NaN             NaN              NaN    NaN   \n",
       "4  Long Hollow Pike & Northcreek Blvd  GOODLETTSVILLE             10.0  37072   \n",
       "\n",
       "   Latitude  Longitude                 Mapped Location  hour_opened  \n",
       "0       NaN        NaN                             NaN           14  \n",
       "1       NaN        NaN                             NaN           21  \n",
       "2       NaN        NaN                             NaN           17  \n",
       "3       NaN        NaN                             NaN           20  \n",
       "4  36.32619 -86.700618  (36.32619, -86.70061799999999)            1  \n",
       "\n",
       "[5 rows x 22 columns]"
      ]
     },
     "execution_count": 19,
     "metadata": {},
     "output_type": "execute_result"
    }
   ],
   "source": [
    "hub_data['hour_opened'] = hub_data['Date / Time Opened'].dt.hour\n",
    "hub_data.head()"
   ]
  },
  {
   "cell_type": "markdown",
   "metadata": {},
   "source": [
    "#### Create function creating time block with following hours:\n",
    "- morning (6-11)\n",
    "- afternoon(12-17)\n",
    "- evening (18-23)\n",
    "- night (24-5)"
   ]
  },
  {
   "cell_type": "code",
   "execution_count": 20,
   "metadata": {},
   "outputs": [],
   "source": [
    "def create_time_block(hour):\n",
    "    if hour >= 6 and hour <= 11:\n",
    "        return 'morning'\n",
    "    elif hour >= 12 and hour <= 17:\n",
    "        return 'afternoon'\n",
    "    elif hour >= 18 and hour <= 23:\n",
    "        return 'evening'\n",
    "    elif hour == 24 or hour <= 5:\n",
    "        return 'night'\n",
    "    else :\n",
    "        return 'unknown'"
   ]
  },
  {
   "cell_type": "code",
   "execution_count": 21,
   "metadata": {},
   "outputs": [],
   "source": [
    "hub_data['time_block'] = hub_data.hour_opened.apply(create_time_block)"
   ]
  },
  {
   "cell_type": "code",
   "execution_count": 22,
   "metadata": {},
   "outputs": [
    {
     "data": {
      "text/plain": [
       "afternoon    176287\n",
       "evening      102279\n",
       "morning       56858\n",
       "night         13247\n",
       "Name: time_block, dtype: int64"
      ]
     },
     "execution_count": 22,
     "metadata": {},
     "output_type": "execute_result"
    }
   ],
   "source": [
    "hub_data.time_block.value_counts()"
   ]
  },
  {
   "cell_type": "markdown",
   "metadata": {},
   "source": [
    "### Top 10 Request Types  by Time Frame\n",
    "- first create dataframe for each time block\n",
    "- create bar charts showing request type for each time block\n",
    "- then plot each dataframe"
   ]
  },
  {
   "cell_type": "code",
   "execution_count": 23,
   "metadata": {},
   "outputs": [
    {
     "data": {
      "text/plain": [
       "Index(['Request #', 'Status', 'Request Type', 'Subrequest Type',\n",
       "       'Additional Subrequest Type', 'Date / Time Opened',\n",
       "       'Date / Time Closed', 'Request Origin', 'System of Origin ID',\n",
       "       'Contact Type', 'Preferred Language', 'State Issue', 'Parent Request',\n",
       "       'Closed When Created', 'Address', 'City', 'Council District', 'ZIP',\n",
       "       'Latitude', 'Longitude', 'Mapped Location', 'hour_opened',\n",
       "       'time_block'],\n",
       "      dtype='object')"
      ]
     },
     "execution_count": 23,
     "metadata": {},
     "output_type": "execute_result"
    }
   ],
   "source": [
    "hub_data.columns"
   ]
  },
  {
   "cell_type": "code",
   "execution_count": 49,
   "metadata": {},
   "outputs": [],
   "source": [
    "# morning data\n",
    "morning_hub_data = hub_data[hub_data['time_block'] == 'morning'].reset_index(drop=True)\n",
    "\n",
    "# afternoon data\n",
    "afternoon_hub_data = hub_data[hub_data['time_block'] == 'afternoon'].reset_index(drop=True)\n",
    "\n",
    "# evening data\n",
    "evening_hub_data = hub_data[hub_data['time_block'] == 'evening'].reset_index(drop=True)\n",
    "\n",
    "# night data\n",
    "night_hub_data = hub_data[hub_data['time_block'] == 'night'].reset_index(drop=True)"
   ]
  },
  {
   "cell_type": "code",
   "execution_count": 166,
   "metadata": {},
   "outputs": [],
   "source": [
    "top_n = 10\n",
    "morning_groupped_request = morning_hub_data.groupby(['Request Type'])['Request Type'].count().sort_values(ascending=True)[-top_n:]\n",
    "\n",
    "afternoon_groupped_request = afternoon_hub_data.groupby(['Request Type'])['Request Type'].count().sort_values(ascending=True)[-top_n:]\n",
    "\n",
    "evening_groupped_request = evening_hub_data.groupby(['Request Type'])['Request Type'].count().sort_values(ascending=True)[-top_n:]\n",
    "\n",
    "night_groupped_request = night_hub_data.groupby(['Request Type'])['Request Type'].count().sort_values(ascending=True)[-top_n:]"
   ]
  },
  {
   "cell_type": "markdown",
   "metadata": {},
   "source": [
    "## Morning Analysis"
   ]
  },
  {
   "cell_type": "code",
   "execution_count": 137,
   "metadata": {},
   "outputs": [
    {
     "data": {
      "text/plain": [
       "Request Type\n",
       "Property Violations            1815\n",
       "Public Safety                  1114\n",
       "Streets, Roads & Sidewalks    23256\n",
       "Trash, Recycling & Litter     28715\n",
       "Name: Request Type, dtype: int64"
      ]
     },
     "execution_count": 137,
     "metadata": {},
     "output_type": "execute_result"
    }
   ],
   "source": [
    "morning_groupped_data = morning_hub_data.groupby(['Request Type'])['Request Type'].count()\n",
    "morning_groupped_data[morning_groupped_data > 1000]"
   ]
  },
  {
   "cell_type": "code",
   "execution_count": 126,
   "metadata": {},
   "outputs": [
    {
     "data": {
      "text/plain": [
       "Request Type\n",
       "Transit                         116\n",
       "COVID-19                        129\n",
       "Parks                           147\n",
       "Permits                         307\n",
       "Other                           508\n",
       "Electric & Water General        686\n",
       "Public Safety                  1114\n",
       "Property Violations            1815\n",
       "Streets, Roads & Sidewalks    23256\n",
       "Trash, Recycling & Litter     28715\n",
       "Name: Request Type, dtype: int64"
      ]
     },
     "execution_count": 126,
     "metadata": {},
     "output_type": "execute_result"
    }
   ],
   "source": [
    "morning_groupped_request"
   ]
  },
  {
   "cell_type": "code",
   "execution_count": 127,
   "metadata": {},
   "outputs": [
    {
     "data": {
      "text/plain": [
       "[116, 129, 147, 307, 508, 686, 1114, 1815, 23256, 28715]"
      ]
     },
     "execution_count": 127,
     "metadata": {},
     "output_type": "execute_result"
    }
   ],
   "source": [
    "list(morning_groupped_request.values)"
   ]
  },
  {
   "cell_type": "code",
   "execution_count": 128,
   "metadata": {},
   "outputs": [
    {
     "data": {
      "text/plain": [
       "['Transit',\n",
       " 'COVID-19',\n",
       " 'Parks',\n",
       " 'Permits',\n",
       " 'Other',\n",
       " 'Electric & Water General',\n",
       " 'Public Safety',\n",
       " 'Property Violations',\n",
       " 'Streets, Roads & Sidewalks',\n",
       " 'Trash, Recycling & Litter']"
      ]
     },
     "execution_count": 128,
     "metadata": {},
     "output_type": "execute_result"
    }
   ],
   "source": [
    "list(morning_groupped_request.keys())"
   ]
  },
  {
   "cell_type": "code",
   "execution_count": 129,
   "metadata": {},
   "outputs": [
    {
     "data": {
      "text/plain": [
       "array([0, 1, 2, 3, 4, 5, 6, 7, 8, 9])"
      ]
     },
     "execution_count": 129,
     "metadata": {},
     "output_type": "execute_result"
    }
   ],
   "source": [
    "np.arange(len(morning_requests))"
   ]
  },
  {
   "cell_type": "code",
   "execution_count": 130,
   "metadata": {
    "collapsed": true
   },
   "outputs": [
    {
     "data": {
      "image/png": "[encoded data removed]",
      "text/plain": [
       "<Figure size 640x480 with 1 Axes>"
      ]
     },
     "metadata": {},
     "output_type": "display_data"
    }
   ],
   "source": [
    "morning_requests = list(morning_groupped_request.keys())\n",
    "y_pos = np.arange(len(morning_requests))\n",
    "morning_request_counts = list(morning_groupped_request.values)\n",
    "\n",
    "plt.barh(y_pos, morning_request_counts, align='center', alpha=0.5)\n",
    "#plt.bar(y_pos, morning_request_counts, align='center', alpha=0.5)\n",
    "plt.yticks(y_pos, morning_requests)\n",
    "#plt.xticks(y_pos, morning_requests, rotation=90)\n",
    "plt.xlabel('Morning Requests')\n",
    "plt.title('Top 10 Morning Requests')\n",
    "\n",
    "plt.show()"
   ]
  },
  {
   "cell_type": "markdown",
   "metadata": {},
   "source": [
    "## Afternoon Analysis"
   ]
  },
  {
   "cell_type": "code",
   "execution_count": 131,
   "metadata": {
    "collapsed": true
   },
   "outputs": [
    {
     "data": {
      "text/plain": [
       "Request Type\n",
       "COVID-19                       2331\n",
       "Electric & Water General       1958\n",
       "Hands On Volunteers            2546\n",
       "Other                          2177\n",
       "Property Violations            9020\n",
       "Public Safety                  3620\n",
       "Quick Requests                36504\n",
       "Streets, Roads & Sidewalks    41250\n",
       "Transit                        1816\n",
       "Trash, Recycling & Litter     73738\n",
       "Name: Request Type, dtype: int64"
      ]
     },
     "execution_count": 131,
     "metadata": {},
     "output_type": "execute_result"
    }
   ],
   "source": [
    "afternoon_groupped_data = afternoon_hub_data.groupby(['Request Type'])['Request Type'].count()\n",
    "afternoon_groupped_data[afternoon_groupped_data > 1000]"
   ]
  },
  {
   "cell_type": "code",
   "execution_count": 132,
   "metadata": {
    "collapsed": true
   },
   "outputs": [
    {
     "data": {
      "text/plain": [
       "Request Type\n",
       "Transit                        1816\n",
       "Electric & Water General       1958\n",
       "Other                          2177\n",
       "COVID-19                       2331\n",
       "Hands On Volunteers            2546\n",
       "Public Safety                  3620\n",
       "Property Violations            9020\n",
       "Quick Requests                36504\n",
       "Streets, Roads & Sidewalks    41250\n",
       "Trash, Recycling & Litter     73738\n",
       "Name: Request Type, dtype: int64"
      ]
     },
     "execution_count": 132,
     "metadata": {},
     "output_type": "execute_result"
    }
   ],
   "source": [
    "afternoon_groupped_request"
   ]
  },
  {
   "cell_type": "code",
   "execution_count": 151,
   "metadata": {},
   "outputs": [
    {
     "data": {
      "text/plain": [
       "[1816, 1958, 2177, 2331, 2546, 3620, 9020, 36504, 41250, 73738]"
      ]
     },
     "execution_count": 151,
     "metadata": {},
     "output_type": "execute_result"
    }
   ],
   "source": [
    "list(afternoon_groupped_request.values)"
   ]
  },
  {
   "cell_type": "code",
   "execution_count": 155,
   "metadata": {},
   "outputs": [
    {
     "data": {
      "text/plain": [
       "['Transit',\n",
       " 'Electric & Water General',\n",
       " 'Other',\n",
       " 'COVID-19',\n",
       " 'Hands On Volunteers',\n",
       " 'Public Safety',\n",
       " 'Property Violations',\n",
       " 'Quick Requests',\n",
       " 'Streets, Roads & Sidewalks',\n",
       " 'Trash, Recycling & Litter']"
      ]
     },
     "execution_count": 155,
     "metadata": {},
     "output_type": "execute_result"
    }
   ],
   "source": [
    "list(afternoon_groupped_request.keys())"
   ]
  },
  {
   "cell_type": "code",
   "execution_count": 135,
   "metadata": {
    "collapsed": true
   },
   "outputs": [
    {
     "data": {
      "text/plain": [
       "array([0, 1, 2, 3, 4, 5, 6, 7, 8, 9])"
      ]
     },
     "execution_count": 135,
     "metadata": {},
     "output_type": "execute_result"
    }
   ],
   "source": [
    "np.arange(len(afternoon_requests))"
   ]
  },
  {
   "cell_type": "code",
   "execution_count": 136,
   "metadata": {
    "collapsed": true
   },
   "outputs": [
    {
     "data": {
      "image/png": "[encoded data removed]",
      "text/plain": [
       "<Figure size 640x480 with 1 Axes>"
      ]
     },
     "metadata": {},
     "output_type": "display_data"
    }
   ],
   "source": [
    "afternoon_requests = list(afternoon_groupped_request.keys())\n",
    "y_pos = np.arange(len(afternoon_requests))\n",
    "afternoon_request_counts = list(afternoon_groupped_request.values)\n",
    "\n",
    "plt.barh(y_pos, afternoon_request_counts, align='center', alpha=0.5)\n",
    "#plt.bar(y_pos, afternoon_request_counts, align='center', alpha=0.5)\n",
    "plt.yticks(y_pos, afternoon_requests)\n",
    "#plt.xticks(y_pos, afternoon_requests, rotation=90)\n",
    "plt.xlabel('Afternoon Requests')\n",
    "plt.title('Top 10 Afternoon Requests')\n",
    "\n",
    "plt.show()"
   ]
  },
  {
   "cell_type": "markdown",
   "metadata": {},
   "source": [
    "## Evening Analysis"
   ]
  },
  {
   "cell_type": "code",
   "execution_count": 168,
   "metadata": {},
   "outputs": [
    {
     "data": {
      "text/plain": [
       "Request Type\n",
       "COVID-19                       2143\n",
       "Electric & Water General       1372\n",
       "Other                          1561\n",
       "Property Violations            7498\n",
       "Public Safety                  3279\n",
       "Quick Requests                27922\n",
       "Streets, Roads & Sidewalks    17336\n",
       "Transit                        1416\n",
       "Trash, Recycling & Litter     38784\n",
       "Name: Request Type, dtype: int64"
      ]
     },
     "execution_count": 168,
     "metadata": {},
     "output_type": "execute_result"
    }
   ],
   "source": [
    "evening_groupped_data = evening_hub_data.groupby(['Request Type'])['Request Type'].count()\n",
    "evening_groupped_data[evening_groupped_data >1000]"
   ]
  },
  {
   "cell_type": "code",
   "execution_count": 169,
   "metadata": {},
   "outputs": [
    {
     "data": {
      "text/plain": [
       "[377, 1372, 1416, 1561, 2143, 3279, 7498, 17336, 27922, 38784]"
      ]
     },
     "execution_count": 169,
     "metadata": {},
     "output_type": "execute_result"
    }
   ],
   "source": [
    "list(evening_groupped_request.values)"
   ]
  },
  {
   "cell_type": "code",
   "execution_count": 170,
   "metadata": {},
   "outputs": [
    {
     "data": {
      "text/plain": [
       "['Parks',\n",
       " 'Electric & Water General',\n",
       " 'Transit',\n",
       " 'Other',\n",
       " 'COVID-19',\n",
       " 'Public Safety',\n",
       " 'Property Violations',\n",
       " 'Streets, Roads & Sidewalks',\n",
       " 'Quick Requests',\n",
       " 'Trash, Recycling & Litter']"
      ]
     },
     "execution_count": 170,
     "metadata": {},
     "output_type": "execute_result"
    }
   ],
   "source": [
    "list(evening_groupped_request.keys())"
   ]
  },
  {
   "cell_type": "code",
   "execution_count": 174,
   "metadata": {
    "collapsed": true
   },
   "outputs": [
    {
     "data": {
      "image/png": "[encoded data removed]",
      "text/plain": [
       "<Figure size 640x480 with 1 Axes>"
      ]
     },
     "metadata": {},
     "output_type": "display_data"
    }
   ],
   "source": [
    "evening_requests = list(evening_groupped_request.keys())\n",
    "y_pos = np.arange(len(evening_requests))\n",
    "evening_request_counts = list(evening_groupped_request.values)\n",
    "\n",
    "plt.barh(y_pos, evening_request_counts, align='center', alpha=0.5)\n",
    "#plt.bar(y_pos, evening_request_counts, align='center', alpha=0.5)\n",
    "plt.yticks(y_pos, evening_requests)\n",
    "#plt.xticks(y_pos, evening_requests, rotation=90)\n",
    "plt.xlabel('Evening Requests')\n",
    "plt.title('Top 10 Evening Requests')\n",
    "\n",
    "plt.show()"
   ]
  },
  {
   "cell_type": "code",
   "execution_count": 173,
   "metadata": {
    "collapsed": true
   },
   "outputs": [
    {
     "data": {
      "text/plain": [
       "array([0, 1, 2, 3, 4, 5, 6, 7, 8, 9])"
      ]
     },
     "execution_count": 173,
     "metadata": {},
     "output_type": "execute_result"
    }
   ],
   "source": [
    "np.arange(len(evening_requests))"
   ]
  },
  {
   "cell_type": "markdown",
   "metadata": {},
   "source": [
    "## Night Analysis"
   ]
  },
  {
   "cell_type": "code",
   "execution_count": 179,
   "metadata": {
    "collapsed": true
   },
   "outputs": [
    {
     "data": {
      "text/plain": [
       "Request Type\n",
       "Property Violations           2318\n",
       "Public Safety                 1720\n",
       "Streets, Roads & Sidewalks    2988\n",
       "Trash, Recycling & Litter     3909\n",
       "Name: Request Type, dtype: int64"
      ]
     },
     "execution_count": 179,
     "metadata": {},
     "output_type": "execute_result"
    }
   ],
   "source": [
    "night_groupped_data = night_hub_data.groupby(['Request Type'])['Request Type'].count()\n",
    "night_groupped_data[night_groupped_data > 1000]"
   ]
  },
  {
   "cell_type": "code",
   "execution_count": 180,
   "metadata": {
    "collapsed": true
   },
   "outputs": [
    {
     "data": {
      "text/plain": [
       "Request Type\n",
       "COVID-19                       643\n",
       "Electric & Water General       338\n",
       "Hands On Volunteers              6\n",
       "Other                          568\n",
       "Parks                           93\n",
       "Permits                         49\n",
       "Planning & Zoning               10\n",
       "Property Violations           2318\n",
       "Public Safety                 1720\n",
       "Quick Requests                 230\n",
       "Storm Relief                    12\n",
       "Streets, Roads & Sidewalks    2988\n",
       "Transit                        344\n",
       "Trash, Recycling & Litter     3909\n",
       "Workforce & Jobs                 1\n",
       "Name: Request Type, dtype: int64"
      ]
     },
     "execution_count": 180,
     "metadata": {},
     "output_type": "execute_result"
    }
   ],
   "source": [
    "night_groupped_data"
   ]
  },
  {
   "cell_type": "code",
   "execution_count": 181,
   "metadata": {
    "collapsed": true
   },
   "outputs": [
    {
     "data": {
      "text/plain": [
       "[93, 230, 338, 344, 568, 643, 1720, 2318, 2988, 3909]"
      ]
     },
     "execution_count": 181,
     "metadata": {},
     "output_type": "execute_result"
    }
   ],
   "source": [
    "list(night_groupped_request.values)"
   ]
  },
  {
   "cell_type": "code",
   "execution_count": 182,
   "metadata": {
    "collapsed": true
   },
   "outputs": [
    {
     "data": {
      "text/plain": [
       "['Parks',\n",
       " 'Quick Requests',\n",
       " 'Electric & Water General',\n",
       " 'Transit',\n",
       " 'Other',\n",
       " 'COVID-19',\n",
       " 'Public Safety',\n",
       " 'Property Violations',\n",
       " 'Streets, Roads & Sidewalks',\n",
       " 'Trash, Recycling & Litter']"
      ]
     },
     "execution_count": 182,
     "metadata": {},
     "output_type": "execute_result"
    }
   ],
   "source": [
    "list(night_groupped_request.keys())"
   ]
  },
  {
   "cell_type": "code",
   "execution_count": 187,
   "metadata": {},
   "outputs": [
    {
     "data": {
      "text/plain": [
       "Text(0.5, 1.0, 'Top 10 Night Requests')"
      ]
     },
     "execution_count": 187,
     "metadata": {},
     "output_type": "execute_result"
    },
    {
     "data": {
      "image/png": "[encoded data removed]",
      "text/plain": [
       "<Figure size 640x480 with 1 Axes>"
      ]
     },
     "metadata": {},
     "output_type": "display_data"
    }
   ],
   "source": [
    "night_requests = list(night_groupped_request.keys())\n",
    "y_pos = np.arange(len(night_requests))\n",
    "night_request_counts = list(night_groupped_request.values)\n",
    "\n",
    "plt.barh(y_pos, night_request_counts,  align='center', alpha=0.5)\n",
    "#plt.bar(y_pos, night_request_counts, align='center', alpha=0.5)\n",
    "plt.yticks(y_pos, night_requests)\n",
    "#plt.xticks(y_pos, night_requests, rotation=90)\n",
    "plt.xlabel('Night Requests')\n",
    "plt.title('Top 10 Night Requests')"
   ]
  },
  {
   "cell_type": "code",
   "execution_count": 193,
   "metadata": {},
   "outputs": [
    {
     "data": {
      "text/plain": [
       "array([0, 1, 2, 3, 4, 5, 6, 7, 8, 9])"
      ]
     },
     "execution_count": 193,
     "metadata": {},
     "output_type": "execute_result"
    }
   ],
   "source": [
    "np.arange(len(night_requests))"
   ]
  },
  {
   "cell_type": "code",
   "execution_count": null,
   "metadata": {},
   "outputs": [],
   "source": []
  }
 ],
 "metadata": {
  "kernelspec": {
   "display_name": "Python 3",
   "language": "python",
   "name": "python3"
  },
  "language_info": {
   "codemirror_mode": {
    "name": "ipython",
    "version": 3
   },
   "file_extension": ".py",
   "mimetype": "text/x-python",
   "name": "python",
   "nbconvert_exporter": "python",
   "pygments_lexer": "ipython3",
   "version": "3.7.6"
  }
 },
 "nbformat": 4,
 "nbformat_minor": 2
}
